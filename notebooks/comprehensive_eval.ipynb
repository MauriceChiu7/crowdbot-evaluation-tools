{
 "cells": [
  {
   "cell_type": "markdown",
   "metadata": {
    "toc": true
   },
   "source": [
    "<h1>Table of Contents<span class=\"tocSkip\"></span></h1>\n",
    "<div class=\"toc\"><ul class=\"toc-item\"><li><span><a href=\"#Metrics\" data-toc-modified-id=\"Metrics-1\"><span class=\"toc-item-num\">1&nbsp;&nbsp;</span>Metrics</a></span></li><li><span><a href=\"#Example-data-on-2021-04-24\" data-toc-modified-id=\"Example-data-on-2021-04-24-2\"><span class=\"toc-item-num\">2&nbsp;&nbsp;</span>Example data on 2021-04-24</a></span><ul class=\"toc-item\"><li><span><a href=\"#Crowd-related-metrics\" data-toc-modified-id=\"Crowd-related-metrics-2.1\"><span class=\"toc-item-num\">2.1&nbsp;&nbsp;</span>Crowd-related metrics</a></span></li><li><span><a href=\"#Path-Efficiency-related-metrics\" data-toc-modified-id=\"Path-Efficiency-related-metrics-2.2\"><span class=\"toc-item-num\">2.2&nbsp;&nbsp;</span>Path Efficiency-related metrics</a></span></li><li><span><a href=\"#Shared-control-related-metrics\" data-toc-modified-id=\"Shared-control-related-metrics-2.3\"><span class=\"toc-item-num\">2.3&nbsp;&nbsp;</span>Shared control-related metrics</a></span></li></ul></li><li><span><a href=\"#Example-data-on-2021-04-10\" data-toc-modified-id=\"Example-data-on-2021-04-10-3\"><span class=\"toc-item-num\">3&nbsp;&nbsp;</span>Example data on 2021-04-10</a></span><ul class=\"toc-item\"><li><span><a href=\"#Crowd-related-metrics\" data-toc-modified-id=\"Crowd-related-metrics-3.1\"><span class=\"toc-item-num\">3.1&nbsp;&nbsp;</span>Crowd-related metrics</a></span></li><li><span><a href=\"#Path-Efficiency-related-metrics\" data-toc-modified-id=\"Path-Efficiency-related-metrics-3.2\"><span class=\"toc-item-num\">3.2&nbsp;&nbsp;</span>Path Efficiency-related metrics</a></span></li></ul></li></ul></div>"
   ]
  },
  {
   "cell_type": "markdown",
   "metadata": {},
   "source": [
    "# Crowd navigation evaluation\n",
    "\n",
    "> Analysis of different control methods on different datas"
   ]
  },
  {
   "cell_type": "code",
   "execution_count": 1,
   "metadata": {},
   "outputs": [],
   "source": [
    "import math\n",
    "import collections\n",
    "import urllib.request\n",
    "from pathlib import Path\n",
    "\n",
    "import numpy as np\n",
    "import pandas as pd\n",
    "import matplotlib.pyplot as pp\n",
    "import seaborn as sns\n",
    "sns.set_context(\"paper\", font_scale=1.2, rc={\"lines.linewidth\": 1.3})\n",
    "\n",
    "import sys, os, fnmatch\n",
    "# Importing Metrics Functions:\n",
    "# sys.path.append(os.path.join(os.path.dirname(sys.path[0]),'src'))\n",
    "sys.path.append(os.path.join(os.path.dirname(sys.path[0]),'qolo'))\n",
    "\n",
    "from crowd_evaluation import *\n",
    "from crowdbot_data import CrowdBotData, CrowdBotDatabase\n",
    "from notebook_util import walk, violinplot, categorical_plot\n",
    "\n",
    "%matplotlib inline"
   ]
  },
  {
   "cell_type": "code",
   "execution_count": 2,
   "metadata": {},
   "outputs": [
    {
     "name": "stdout",
     "output_type": "stream",
     "text": [
      "rosbag database: /hdd/data_qolo/crowd_qolo_recordings/\n",
      "['0325_rds', '0410_mds', '0410_rds', '0410_shared_control', '0424_mds', '0424_rds', '0424_shared_control', 'MDS', 'RDS', 'readme.md', 'shared_control', 'shared_test', 'test']\n",
      "\n",
      "output database: /hdd/data_qolo/crowdbot_data_analysis/\n",
      "['0410_mds_processed', '0410_rds_issues', '0410_rds_processed', '0410_rds_processed_', '0410_shared_control_processed', '0424_mds_processed', '0424_rds_processed', '0424_shared_control_processed', 'apply_low_pass', 'MDS_processed', 'shared_test_processed', 'test_processed']\n"
     ]
    }
   ],
   "source": [
    "qolo_dataset = CrowdBotData()\n",
    "\n",
    "bagbase = qolo_dataset.bagbase_dir\n",
    "outbase = qolo_dataset.outbase_dir\n",
    "\n",
    "print(\"rosbag database:\", bagbase)\n",
    "print(os.listdir(bagbase))\n",
    "print()\n",
    "print(\"output database:\", outbase)\n",
    "print(os.listdir(outbase))\n",
    "\n",
    "control_types = ['mds', 'rds', 'shared_control']"
   ]
  },
  {
   "cell_type": "code",
   "execution_count": 3,
   "metadata": {},
   "outputs": [],
   "source": [
    "#!sh data_export_pipeline.sh -e=py38cuda110 -t=shared_test"
   ]
  },
  {
   "cell_type": "markdown",
   "metadata": {},
   "source": [
    "## Metrics"
   ]
  },
  {
   "cell_type": "markdown",
   "metadata": {},
   "source": [
    "1. Crowd-related\n",
    "\n",
    "    1. (Main) Crowd Density (within an area of 10m around the robot):\n",
    "\n",
    "    2. (Main) Minimal distance to pedestrians: mean+SD: \n",
    "\n",
    "    3. Normalized proximity to surrounding pedestrians : SD(d1..dn) / avg(d1...dn)\n",
    "    \n",
    "2. Path efficiency-related\n",
    "\n",
    "    1. Relative time to goal (normalized by the goal distance)\n",
    "    2. Relative path length (normalized by the goal distance in straight line): \n",
    "\n",
    "3. Control-related\n",
    "\n",
    "    1. Agreement\n",
    "    2. Fluency\n",
    "    3. Relative Jerk (smoothness of the path as added sum of linear and angular jerk)"
   ]
  },
  {
   "cell_type": "markdown",
   "metadata": {},
   "source": [
    "## Example data on 2021-04-24"
   ]
  },
  {
   "cell_type": "code",
   "execution_count": 4,
   "metadata": {},
   "outputs": [
    {
     "name": "stdout",
     "output_type": "stream",
     "text": [
      "0424_mds/ is available!\n",
      "0424_rds/ is available!\n",
      "0424_shared_control/ is available!\n"
     ]
    }
   ],
   "source": [
    "example_date = '0424'\n",
    "eval_dirs = []\n",
    "for root, dirs, files in walk(bagbase, topdown=False, maxdepth=1):\n",
    "    for dir in dirs:\n",
    "        if (example_date in dir):\n",
    "            eval_dirs.append(dir)\n",
    "            print(\"{}/ is available!\".format(dir))"
   ]
  },
  {
   "cell_type": "code",
   "execution_count": 5,
   "metadata": {},
   "outputs": [
    {
     "name": "stdout",
     "output_type": "stream",
     "text": [
      "Reading results from 0424_mds\n"
     ]
    }
   ],
   "source": [
    "# for eval_dir in eval_dirs:\n",
    "eval_dir = eval_dirs[0]\n",
    "print(\"Reading results from {}\".format(eval_dir))\n",
    "\n",
    "# new a CrowdBotDatabase() instance\n",
    "eval_database = CrowdBotDatabase(folder=eval_dir)"
   ]
  },
  {
   "cell_type": "code",
   "execution_count": 6,
   "metadata": {},
   "outputs": [
    {
     "name": "stdout",
     "output_type": "stream",
     "text": [
      "Available sequences in 0424_mds:\n",
      "['2021-04-24-12-04-04', '2021-04-24-12-07-57', '2021-04-24-12-10-45', '2021-04-24-12-54-04', '2021-04-24-12-56-59', '2021-04-24-13-03-39']\n"
     ]
    }
   ],
   "source": [
    "print(\"Available sequences in {}:\\n{}\".format(eval_dir, eval_database.seqs))"
   ]
  },
  {
   "cell_type": "markdown",
   "metadata": {},
   "source": [
    "### Crowd-related metrics"
   ]
  },
  {
   "cell_type": "markdown",
   "metadata": {},
   "source": [
    "- example images from 0423_shared_control\n",
    "\n",
    "<div align=\"center\"> <img src=\"./img/2021-04-24-13-07-54_crowd_density.png\" alt=\"crowd_density\"   width=\"400\" >\n",
    "\n",
    "<div align=\"center\"> <img src=\"./img/2021-04-24-13-07-54_min_dist.png\" alt=\"min_dist\"   width=\"400\" >"
   ]
  },
  {
   "cell_type": "markdown",
   "metadata": {},
   "source": [
    "- eval code"
   ]
  },
  {
   "cell_type": "code",
   "execution_count": 7,
   "metadata": {},
   "outputs": [
    {
     "name": "stdout",
     "output_type": "stream",
     "text": [
      "Reading results from 0424_mds\n",
      "Reading results from 0424_rds\n",
      "Reading results from 0424_shared_control\n"
     ]
    }
   ],
   "source": [
    "crowd_metrics = ('avg_crowd_density5', \n",
    "                 'avg_crowd_density10', \n",
    "                 'avg_min_dist',\n",
    "                 'path_lenth2goal',\n",
    "                )\n",
    "\n",
    "# todo: 'min_dist2goal'\n",
    "\n",
    "# more_metrics = (\n",
    "#     'goal_reached',\n",
    "#     'crowd_density5',\n",
    "#     'crowd_density10',\n",
    "#     'min_dist',\n",
    "# )\n",
    "\n",
    "frames = []\n",
    "\n",
    "for eval_dir in eval_dirs:\n",
    "\n",
    "    print(\"Reading results from {}\".format(eval_dir))\n",
    "\n",
    "    # new a CrowdBotDatabase() instance\n",
    "    eval_database = CrowdBotDatabase(folder=eval_dir)\n",
    "\n",
    "    m_dict = {'seq': eval_database.seqs}\n",
    "    m_dict.update(\n",
    "        {'control_type': [eval_dir[5:] for i in range(eval_database.nr_seqs())]}\n",
    "    )\n",
    "    m_dict.update({k: [] for k in crowd_metrics})\n",
    "\n",
    "    for idx, seq in enumerate(eval_database.seqs):\n",
    "        eval_res_dir = os.path.join(eval_database.metrics_dir)\n",
    "        crowd_eval_npy = os.path.join(eval_res_dir, seq + \"_crowd_eval.npy\")\n",
    "        crowd_eval_dict = np.load(\n",
    "            crowd_eval_npy,\n",
    "            allow_pickle=True,\n",
    "        ).item()\n",
    "\n",
    "        for iidx, val in enumerate(crowd_metrics):\n",
    "            m_dict[crowd_metrics[iidx]].append(crowd_eval_dict[val])\n",
    "\n",
    "    crowd_df = pd.DataFrame(m_dict)\n",
    "    crowd_df.columns = ['seq', 'control_type'] + list(crowd_metrics)\n",
    "    \n",
    "    # Filter path_lenth2goal less than 5 meter\n",
    "    crowd_df = crowd_df[crowd_df.path_lenth2goal >= 5.0]\n",
    "\n",
    "    frames.append(crowd_df)\n",
    "\n",
    "crowd_metrics_df = pd.concat(frames, ignore_index=True)"
   ]
  },
  {
   "cell_type": "markdown",
   "metadata": {},
   "source": [
    "- final dataframe"
   ]
  },
  {
   "cell_type": "code",
   "execution_count": 8,
   "metadata": {},
   "outputs": [
    {
     "data": {
      "text/html": [
       "<div>\n",
       "<style scoped>\n",
       "    .dataframe tbody tr th:only-of-type {\n",
       "        vertical-align: middle;\n",
       "    }\n",
       "\n",
       "    .dataframe tbody tr th {\n",
       "        vertical-align: top;\n",
       "    }\n",
       "\n",
       "    .dataframe thead th {\n",
       "        text-align: right;\n",
       "    }\n",
       "</style>\n",
       "<table border=\"1\" class=\"dataframe\">\n",
       "  <thead>\n",
       "    <tr style=\"text-align: right;\">\n",
       "      <th></th>\n",
       "      <th>seq</th>\n",
       "      <th>control_type</th>\n",
       "      <th>avg_crowd_density5</th>\n",
       "      <th>avg_crowd_density10</th>\n",
       "      <th>avg_min_dist</th>\n",
       "      <th>path_lenth2goal</th>\n",
       "    </tr>\n",
       "  </thead>\n",
       "  <tbody>\n",
       "    <tr>\n",
       "      <th>0</th>\n",
       "      <td>2021-04-24-12-04-04</td>\n",
       "      <td>mds</td>\n",
       "      <td>0.120290</td>\n",
       "      <td>0.061124</td>\n",
       "      <td>1.004118</td>\n",
       "      <td>20.599373</td>\n",
       "    </tr>\n",
       "    <tr>\n",
       "      <th>1</th>\n",
       "      <td>2021-04-24-12-07-57</td>\n",
       "      <td>mds</td>\n",
       "      <td>0.093233</td>\n",
       "      <td>0.046961</td>\n",
       "      <td>1.497923</td>\n",
       "      <td>31.204075</td>\n",
       "    </tr>\n",
       "    <tr>\n",
       "      <th>2</th>\n",
       "      <td>2021-04-24-12-10-45</td>\n",
       "      <td>mds</td>\n",
       "      <td>0.149362</td>\n",
       "      <td>0.069602</td>\n",
       "      <td>1.020987</td>\n",
       "      <td>25.521812</td>\n",
       "    </tr>\n",
       "    <tr>\n",
       "      <th>3</th>\n",
       "      <td>2021-04-24-12-54-04</td>\n",
       "      <td>mds</td>\n",
       "      <td>0.114009</td>\n",
       "      <td>0.062583</td>\n",
       "      <td>1.195786</td>\n",
       "      <td>29.649303</td>\n",
       "    </tr>\n",
       "    <tr>\n",
       "      <th>4</th>\n",
       "      <td>2021-04-24-12-56-59</td>\n",
       "      <td>mds</td>\n",
       "      <td>0.137841</td>\n",
       "      <td>0.068062</td>\n",
       "      <td>1.028432</td>\n",
       "      <td>20.827414</td>\n",
       "    </tr>\n",
       "    <tr>\n",
       "      <th>5</th>\n",
       "      <td>2021-04-24-13-03-39</td>\n",
       "      <td>mds</td>\n",
       "      <td>0.150969</td>\n",
       "      <td>0.061873</td>\n",
       "      <td>1.107777</td>\n",
       "      <td>8.624434</td>\n",
       "    </tr>\n",
       "    <tr>\n",
       "      <th>6</th>\n",
       "      <td>2021-04-24-11-20-18</td>\n",
       "      <td>rds</td>\n",
       "      <td>0.160733</td>\n",
       "      <td>0.070133</td>\n",
       "      <td>0.970209</td>\n",
       "      <td>7.429669</td>\n",
       "    </tr>\n",
       "    <tr>\n",
       "      <th>7</th>\n",
       "      <td>2021-04-24-11-23-43</td>\n",
       "      <td>rds</td>\n",
       "      <td>0.125135</td>\n",
       "      <td>0.063976</td>\n",
       "      <td>1.063080</td>\n",
       "      <td>22.477041</td>\n",
       "    </tr>\n",
       "    <tr>\n",
       "      <th>8</th>\n",
       "      <td>2021-04-24-11-35-54</td>\n",
       "      <td>rds</td>\n",
       "      <td>0.122445</td>\n",
       "      <td>0.055816</td>\n",
       "      <td>1.215617</td>\n",
       "      <td>22.128941</td>\n",
       "    </tr>\n",
       "    <tr>\n",
       "      <th>9</th>\n",
       "      <td>2021-04-24-11-40-33</td>\n",
       "      <td>rds</td>\n",
       "      <td>0.161121</td>\n",
       "      <td>0.074358</td>\n",
       "      <td>0.782049</td>\n",
       "      <td>23.956970</td>\n",
       "    </tr>\n",
       "    <tr>\n",
       "      <th>10</th>\n",
       "      <td>2021-04-24-11-43-54</td>\n",
       "      <td>rds</td>\n",
       "      <td>0.158128</td>\n",
       "      <td>0.066283</td>\n",
       "      <td>0.827276</td>\n",
       "      <td>11.685529</td>\n",
       "    </tr>\n",
       "    <tr>\n",
       "      <th>11</th>\n",
       "      <td>2021-04-24-11-48-21</td>\n",
       "      <td>rds</td>\n",
       "      <td>0.141997</td>\n",
       "      <td>0.071372</td>\n",
       "      <td>0.853170</td>\n",
       "      <td>21.821390</td>\n",
       "    </tr>\n",
       "    <tr>\n",
       "      <th>12</th>\n",
       "      <td>2021-04-24-11-55-30</td>\n",
       "      <td>rds</td>\n",
       "      <td>0.157842</td>\n",
       "      <td>0.070900</td>\n",
       "      <td>0.828052</td>\n",
       "      <td>22.547235</td>\n",
       "    </tr>\n",
       "    <tr>\n",
       "      <th>13</th>\n",
       "      <td>2021-04-24-13-07-54</td>\n",
       "      <td>shared_control</td>\n",
       "      <td>0.149252</td>\n",
       "      <td>0.069288</td>\n",
       "      <td>1.026473</td>\n",
       "      <td>18.816889</td>\n",
       "    </tr>\n",
       "    <tr>\n",
       "      <th>14</th>\n",
       "      <td>2021-04-24-13-11-03</td>\n",
       "      <td>shared_control</td>\n",
       "      <td>0.140995</td>\n",
       "      <td>0.069307</td>\n",
       "      <td>1.067167</td>\n",
       "      <td>26.770664</td>\n",
       "    </tr>\n",
       "    <tr>\n",
       "      <th>15</th>\n",
       "      <td>2021-04-24-13-14-49</td>\n",
       "      <td>shared_control</td>\n",
       "      <td>0.157753</td>\n",
       "      <td>0.074547</td>\n",
       "      <td>1.027574</td>\n",
       "      <td>17.272263</td>\n",
       "    </tr>\n",
       "    <tr>\n",
       "      <th>16</th>\n",
       "      <td>2021-04-24-13-16-58</td>\n",
       "      <td>shared_control</td>\n",
       "      <td>0.169079</td>\n",
       "      <td>0.082017</td>\n",
       "      <td>1.018212</td>\n",
       "      <td>25.977917</td>\n",
       "    </tr>\n",
       "    <tr>\n",
       "      <th>17</th>\n",
       "      <td>2021-04-24-13-20-05</td>\n",
       "      <td>shared_control</td>\n",
       "      <td>0.165287</td>\n",
       "      <td>0.077891</td>\n",
       "      <td>0.996175</td>\n",
       "      <td>28.863884</td>\n",
       "    </tr>\n",
       "    <tr>\n",
       "      <th>18</th>\n",
       "      <td>2021-04-24-13-22-52</td>\n",
       "      <td>shared_control</td>\n",
       "      <td>0.141218</td>\n",
       "      <td>0.057149</td>\n",
       "      <td>0.947935</td>\n",
       "      <td>19.624493</td>\n",
       "    </tr>\n",
       "    <tr>\n",
       "      <th>19</th>\n",
       "      <td>2021-04-24-13-22-52-002</td>\n",
       "      <td>shared_control</td>\n",
       "      <td>0.141218</td>\n",
       "      <td>0.057149</td>\n",
       "      <td>0.947935</td>\n",
       "      <td>19.624493</td>\n",
       "    </tr>\n",
       "    <tr>\n",
       "      <th>20</th>\n",
       "      <td>2021-04-24-13-25-24-001</td>\n",
       "      <td>shared_control</td>\n",
       "      <td>0.132688</td>\n",
       "      <td>0.064677</td>\n",
       "      <td>1.222095</td>\n",
       "      <td>21.852699</td>\n",
       "    </tr>\n",
       "    <tr>\n",
       "      <th>21</th>\n",
       "      <td>2021-04-24-13-27-09-003</td>\n",
       "      <td>shared_control</td>\n",
       "      <td>0.114643</td>\n",
       "      <td>0.055257</td>\n",
       "      <td>1.255698</td>\n",
       "      <td>57.629929</td>\n",
       "    </tr>\n",
       "  </tbody>\n",
       "</table>\n",
       "</div>"
      ],
      "text/plain": [
       "                        seq    control_type  avg_crowd_density5  \\\n",
       "0       2021-04-24-12-04-04             mds            0.120290   \n",
       "1       2021-04-24-12-07-57             mds            0.093233   \n",
       "2       2021-04-24-12-10-45             mds            0.149362   \n",
       "3       2021-04-24-12-54-04             mds            0.114009   \n",
       "4       2021-04-24-12-56-59             mds            0.137841   \n",
       "5       2021-04-24-13-03-39             mds            0.150969   \n",
       "6       2021-04-24-11-20-18             rds            0.160733   \n",
       "7       2021-04-24-11-23-43             rds            0.125135   \n",
       "8       2021-04-24-11-35-54             rds            0.122445   \n",
       "9       2021-04-24-11-40-33             rds            0.161121   \n",
       "10      2021-04-24-11-43-54             rds            0.158128   \n",
       "11      2021-04-24-11-48-21             rds            0.141997   \n",
       "12      2021-04-24-11-55-30             rds            0.157842   \n",
       "13      2021-04-24-13-07-54  shared_control            0.149252   \n",
       "14      2021-04-24-13-11-03  shared_control            0.140995   \n",
       "15      2021-04-24-13-14-49  shared_control            0.157753   \n",
       "16      2021-04-24-13-16-58  shared_control            0.169079   \n",
       "17      2021-04-24-13-20-05  shared_control            0.165287   \n",
       "18      2021-04-24-13-22-52  shared_control            0.141218   \n",
       "19  2021-04-24-13-22-52-002  shared_control            0.141218   \n",
       "20  2021-04-24-13-25-24-001  shared_control            0.132688   \n",
       "21  2021-04-24-13-27-09-003  shared_control            0.114643   \n",
       "\n",
       "    avg_crowd_density10  avg_min_dist  path_lenth2goal  \n",
       "0              0.061124      1.004118        20.599373  \n",
       "1              0.046961      1.497923        31.204075  \n",
       "2              0.069602      1.020987        25.521812  \n",
       "3              0.062583      1.195786        29.649303  \n",
       "4              0.068062      1.028432        20.827414  \n",
       "5              0.061873      1.107777         8.624434  \n",
       "6              0.070133      0.970209         7.429669  \n",
       "7              0.063976      1.063080        22.477041  \n",
       "8              0.055816      1.215617        22.128941  \n",
       "9              0.074358      0.782049        23.956970  \n",
       "10             0.066283      0.827276        11.685529  \n",
       "11             0.071372      0.853170        21.821390  \n",
       "12             0.070900      0.828052        22.547235  \n",
       "13             0.069288      1.026473        18.816889  \n",
       "14             0.069307      1.067167        26.770664  \n",
       "15             0.074547      1.027574        17.272263  \n",
       "16             0.082017      1.018212        25.977917  \n",
       "17             0.077891      0.996175        28.863884  \n",
       "18             0.057149      0.947935        19.624493  \n",
       "19             0.057149      0.947935        19.624493  \n",
       "20             0.064677      1.222095        21.852699  \n",
       "21             0.055257      1.255698        57.629929  "
      ]
     },
     "execution_count": 8,
     "metadata": {},
     "output_type": "execute_result"
    }
   ],
   "source": [
    "crowd_metrics_df"
   ]
  },
  {
   "cell_type": "markdown",
   "metadata": {},
   "source": [
    "- choose specific control type"
   ]
  },
  {
   "cell_type": "code",
   "execution_count": 9,
   "metadata": {},
   "outputs": [],
   "source": [
    "# crowd_metrics_df[crowd_metrics_df.control_type == 'shared_control']"
   ]
  },
  {
   "cell_type": "markdown",
   "metadata": {},
   "source": [
    "- calculate std and mean according to `control_type`"
   ]
  },
  {
   "cell_type": "code",
   "execution_count": 10,
   "metadata": {},
   "outputs": [
    {
     "name": "stdout",
     "output_type": "stream",
     "text": [
      "### mds\n",
      "# mean\n",
      "avg_crowd_density5      0.127617\n",
      "avg_crowd_density10     0.061701\n",
      "avg_min_dist            1.142504\n",
      "path_lenth2goal        22.737734\n",
      "dtype: float32\n",
      "# std\n",
      "avg_crowd_density5     0.022556\n",
      "avg_crowd_density10    0.008016\n",
      "avg_min_dist           0.188307\n",
      "path_lenth2goal        8.180550\n",
      "dtype: float32\n",
      "\n",
      "### rds\n",
      "# mean\n",
      "avg_crowd_density5      0.146772\n",
      "avg_crowd_density10     0.067548\n",
      "avg_min_dist            0.934207\n",
      "path_lenth2goal        18.863827\n",
      "dtype: float32\n",
      "# std\n",
      "avg_crowd_density5     0.017005\n",
      "avg_crowd_density10    0.006204\n",
      "avg_min_dist           0.157859\n",
      "path_lenth2goal        6.509468\n",
      "dtype: float32\n",
      "\n",
      "### shared_control\n",
      "# mean\n",
      "avg_crowd_density5      0.145792\n",
      "avg_crowd_density10     0.067476\n",
      "avg_min_dist            1.056585\n",
      "path_lenth2goal        26.270361\n",
      "dtype: float32\n",
      "# std\n",
      "avg_crowd_density5      0.016898\n",
      "avg_crowd_density10     0.009663\n",
      "avg_min_dist            0.110471\n",
      "path_lenth2goal        12.424047\n",
      "dtype: float32\n",
      "\n"
     ]
    }
   ],
   "source": [
    "for ctrl in control_types:\n",
    "    print(\"###\", ctrl)\n",
    "    print(\"# mean\")\n",
    "    print(crowd_metrics_df[crowd_metrics_df.control_type == ctrl].mean(numeric_only=True))\n",
    "    print(\"# std\")\n",
    "    print(crowd_metrics_df[crowd_metrics_df.control_type == ctrl].std(numeric_only=True))\n",
    "    print()"
   ]
  },
  {
   "cell_type": "markdown",
   "metadata": {},
   "source": [
    "- using sns.violinplot/boxplot"
   ]
  },
  {
   "cell_type": "code",
   "execution_count": 18,
   "metadata": {},
   "outputs": [
    {
     "data": {
      "image/png": "[encoded data removed]",
      "text/plain": [
       "<Figure size 504x360 with 1 Axes>"
      ]
     },
     "metadata": {},
     "output_type": "display_data"
    },
    {
     "data": {
      "image/png": "[encoded data removed]",
      "text/plain": [
       "<Figure size 504x360 with 1 Axes>"
      ]
     },
     "metadata": {},
     "output_type": "display_data"
    }
   ],
   "source": [
    "\"\"\"\n",
    "# original\n",
    "violinplot(axes = axes3,\n",
    "        df = crowd_metrics_df, \n",
    "        metric = 'avg_min_dist', \n",
    "        catogory = 'control_type', \n",
    "        title = 'Min. Distance of Pedestrain from qolo', \n",
    "        ylabel = 'Distance [m]', \n",
    "        ylim = [0.0, 3.0])\n",
    "\"\"\"\n",
    "\n",
    "\n",
    "fig, axes = plt.subplots(figsize=(7, 5))\n",
    "\n",
    "categorical_plot(\n",
    "    axes=axes,\n",
    "    df=crowd_metrics_df,\n",
    "    metric='avg_crowd_density5',\n",
    "    catogory='control_type',\n",
    "    title='Crowd Density within 5 m of qolo',\n",
    "    ylabel='Density [1/$m^2$]',\n",
    "    ylim=[0.0, 0.22],\n",
    "    # group='goal_reached',\n",
    "    # lgd_labels=['Not reached', 'Reached'],\n",
    ")\n",
    "\n",
    "\"\"\"\n",
    "fig2, axes2 = plt.subplots(figsize=(7, 5))\n",
    "\n",
    "categorical_plot(\n",
    "    axes=axes2,\n",
    "    df=crowd_metrics_df,\n",
    "    metric='avg_crowd_density10',\n",
    "    catogory='control_type',\n",
    "    title='Crowd Density within 10 m of qolo',\n",
    "    ylabel='Density [1/$m^2$]',\n",
    "    ylim=[0.0, 0.15],\n",
    "    # group='goal_reached',\n",
    "    # lgd_labels=['Not reached', 'Reached'],\n",
    ")\n",
    "\"\"\"\n",
    "\n",
    "fig3, axes3 = plt.subplots(figsize=(7, 5))\n",
    "\n",
    "categorical_plot(\n",
    "    axes=axes3,\n",
    "    df=crowd_metrics_df,\n",
    "    metric='avg_min_dist',\n",
    "    catogory='control_type',\n",
    "    title='Min. Distance of Pedestrain from qolo',\n",
    "    ylabel='Distance [m]',\n",
    "    ylim=[0.0, 2.0],\n",
    "    # group='goal_reached',\n",
    "    # lgd_labels=['Not reached', 'Reached'],\n",
    ")"
   ]
  },
  {
   "cell_type": "markdown",
   "metadata": {},
   "source": [
    "### Path Efficiency-related metrics"
   ]
  },
  {
   "cell_type": "markdown",
   "metadata": {},
   "source": [
    "- example image of **qolo_path** from 0423_shared_control\n",
    "\n",
    "<div align=\"center\"> <img src=\"./img/2021-04-24-13-07-54_path.png\" alt=\"robot_path\"   width=\"400\" >"
   ]
  },
  {
   "cell_type": "markdown",
   "metadata": {},
   "source": [
    "- eval code"
   ]
  },
  {
   "cell_type": "code",
   "execution_count": 12,
   "metadata": {
    "run_control": {
     "marked": true
    }
   },
   "outputs": [
    {
     "name": "stdout",
     "output_type": "stream",
     "text": [
      "Reading results from 0424_mds\n",
      "Reading results from 0424_rds\n",
      "Reading results from 0424_shared_control\n"
     ]
    },
    {
     "data": {
      "text/html": [
       "<div>\n",
       "<style scoped>\n",
       "    .dataframe tbody tr th:only-of-type {\n",
       "        vertical-align: middle;\n",
       "    }\n",
       "\n",
       "    .dataframe tbody tr th {\n",
       "        vertical-align: top;\n",
       "    }\n",
       "\n",
       "    .dataframe thead th {\n",
       "        text-align: right;\n",
       "    }\n",
       "</style>\n",
       "<table border=\"1\" class=\"dataframe\">\n",
       "  <thead>\n",
       "    <tr style=\"text-align: right;\">\n",
       "      <th></th>\n",
       "      <th>seq</th>\n",
       "      <th>control_type</th>\n",
       "      <th>rel_duration2goal</th>\n",
       "      <th>rel_path_length2goal</th>\n",
       "      <th>path_lenth2goal</th>\n",
       "      <th>duration2goal</th>\n",
       "      <th>goal_reached</th>\n",
       "    </tr>\n",
       "  </thead>\n",
       "  <tbody>\n",
       "    <tr>\n",
       "      <th>0</th>\n",
       "      <td>2021-04-24-12-04-04</td>\n",
       "      <td>mds</td>\n",
       "      <td>19.157540</td>\n",
       "      <td>0.744002</td>\n",
       "      <td>20.599373</td>\n",
       "      <td>81.509443</td>\n",
       "      <td>False</td>\n",
       "    </tr>\n",
       "    <tr>\n",
       "      <th>1</th>\n",
       "      <td>2021-04-24-12-07-57</td>\n",
       "      <td>mds</td>\n",
       "      <td>24.901257</td>\n",
       "      <td>0.638410</td>\n",
       "      <td>31.204075</td>\n",
       "      <td>56.250129</td>\n",
       "      <td>True</td>\n",
       "    </tr>\n",
       "    <tr>\n",
       "      <th>2</th>\n",
       "      <td>2021-04-24-12-10-45</td>\n",
       "      <td>mds</td>\n",
       "      <td>21.409329</td>\n",
       "      <td>0.671090</td>\n",
       "      <td>25.521812</td>\n",
       "      <td>73.315837</td>\n",
       "      <td>False</td>\n",
       "    </tr>\n",
       "    <tr>\n",
       "      <th>3</th>\n",
       "      <td>2021-04-24-12-54-04</td>\n",
       "      <td>mds</td>\n",
       "      <td>20.553014</td>\n",
       "      <td>0.554563</td>\n",
       "      <td>29.649303</td>\n",
       "      <td>79.635424</td>\n",
       "      <td>False</td>\n",
       "    </tr>\n",
       "    <tr>\n",
       "      <th>4</th>\n",
       "      <td>2021-04-24-12-56-59</td>\n",
       "      <td>mds</td>\n",
       "      <td>14.485890</td>\n",
       "      <td>0.556416</td>\n",
       "      <td>20.827414</td>\n",
       "      <td>75.924780</td>\n",
       "      <td>False</td>\n",
       "    </tr>\n",
       "  </tbody>\n",
       "</table>\n",
       "</div>"
      ],
      "text/plain": [
       "                   seq control_type  rel_duration2goal  rel_path_length2goal  \\\n",
       "0  2021-04-24-12-04-04          mds          19.157540              0.744002   \n",
       "1  2021-04-24-12-07-57          mds          24.901257              0.638410   \n",
       "2  2021-04-24-12-10-45          mds          21.409329              0.671090   \n",
       "3  2021-04-24-12-54-04          mds          20.553014              0.554563   \n",
       "4  2021-04-24-12-56-59          mds          14.485890              0.556416   \n",
       "\n",
       "   path_lenth2goal  duration2goal  goal_reached  \n",
       "0        20.599373      81.509443         False  \n",
       "1        31.204075      56.250129          True  \n",
       "2        25.521812      73.315837         False  \n",
       "3        29.649303      79.635424         False  \n",
       "4        20.827414      75.924780         False  "
      ]
     },
     "execution_count": 12,
     "metadata": {},
     "output_type": "execute_result"
    }
   ],
   "source": [
    "path_metrics = ('rel_duration2goal', \n",
    "                'rel_path_length2goal', \n",
    "                'path_lenth2goal',\n",
    "                'duration2goal',\n",
    "                'goal_reached',\n",
    "               )\n",
    "\n",
    "path_frames = []\n",
    "\n",
    "for ii, eval_dir in enumerate(eval_dirs):\n",
    "\n",
    "    print(\"Reading results from {}\".format(eval_dir))\n",
    "\n",
    "    # new a CrowdBotDatabase() instance\n",
    "    eval_database = CrowdBotDatabase(folder=eval_dir)\n",
    "\n",
    "    pm_dict = {'seq': eval_database.seqs}\n",
    "    pm_dict.update(\n",
    "        {'control_type': [eval_dir[5:] for i in range(eval_database.nr_seqs())]}\n",
    "    )\n",
    "    pm_dict.update({k: [] for k in path_metrics})\n",
    "\n",
    "    for idx, seq in enumerate(eval_database.seqs):\n",
    "        eval_res_dir = os.path.join(eval_database.metrics_dir)\n",
    "        qolo_eval_npy = os.path.join(eval_res_dir, seq + \"_qolo_eval.npy\")\n",
    "        qolo_eval_dict = np.load(\n",
    "            qolo_eval_npy,\n",
    "            allow_pickle=True,\n",
    "        ).item()\n",
    "\n",
    "        for iidx, val in enumerate(path_metrics):\n",
    "            pm_dict[path_metrics[iidx]].append(qolo_eval_dict[val])\n",
    "            # print(iidx, val, path_metrics[iidx])\n",
    "    # print(pm_dict.keys())\n",
    "        \n",
    "    path_df = pd.DataFrame(pm_dict)\n",
    "    path_df.columns = ['seq', 'control_type'] + list(path_metrics)\n",
    "    \n",
    "    # Filter path_lenth2goal less than 5 meter\n",
    "    path_df = path_df[path_df.path_lenth2goal >= 5.0]\n",
    "\n",
    "    path_frames.append(path_df)\n",
    "    \n",
    "path_metrics_df = pd.concat(path_frames, ignore_index=True)\n",
    "path_metrics_df.head()"
   ]
  },
  {
   "cell_type": "code",
   "execution_count": 13,
   "metadata": {},
   "outputs": [
    {
     "name": "stdout",
     "output_type": "stream",
     "text": [
      "### mds\n",
      "# mean\n",
      "rel_duration2goal       18.167434\n",
      "rel_path_length2goal     0.658784\n",
      "path_lenth2goal         22.737734\n",
      "duration2goal           67.620699\n",
      "goal_reached             0.166667\n",
      "dtype: float64\n",
      "# std\n",
      "rel_duration2goal        5.823838\n",
      "rel_path_length2goal     0.095838\n",
      "path_lenth2goal          8.180550\n",
      "duration2goal           16.625371\n",
      "goal_reached             0.408248\n",
      "dtype: float64\n",
      "\n",
      "### rds\n",
      "# mean\n",
      "rel_duration2goal       18.123225\n",
      "rel_path_length2goal     0.770023\n",
      "path_lenth2goal         18.863827\n",
      "duration2goal           54.050655\n",
      "goal_reached             0.285714\n",
      "dtype: float64\n",
      "# std\n",
      "rel_duration2goal        7.252233\n",
      "rel_path_length2goal     0.135315\n",
      "path_lenth2goal          6.509468\n",
      "duration2goal           16.007709\n",
      "goal_reached             0.487950\n",
      "dtype: float64\n",
      "\n",
      "### shared_control\n",
      "# mean\n",
      "rel_duration2goal       15.207352\n",
      "rel_path_length2goal     0.682463\n",
      "path_lenth2goal         26.270361\n",
      "duration2goal           62.134836\n",
      "goal_reached             0.111111\n",
      "dtype: float64\n",
      "# std\n",
      "rel_duration2goal        2.110608\n",
      "rel_path_length2goal     0.134699\n",
      "path_lenth2goal         12.424047\n",
      "duration2goal           17.195183\n",
      "goal_reached             0.333333\n",
      "dtype: float64\n",
      "\n"
     ]
    }
   ],
   "source": [
    "for ctrl in control_types:\n",
    "    print(\"###\", ctrl)\n",
    "    print(\"# mean\")\n",
    "    print(path_metrics_df[path_metrics_df.control_type == ctrl].mean(numeric_only=True))\n",
    "    print(\"# std\")\n",
    "    print(path_metrics_df[path_metrics_df.control_type == ctrl].std(numeric_only=True))\n",
    "    print()"
   ]
  },
  {
   "cell_type": "code",
   "execution_count": 14,
   "metadata": {},
   "outputs": [
    {
     "data": {
      "image/png": "[encoded data removed]",
      "text/plain": [
       "<Figure size 504x360 with 1 Axes>"
      ]
     },
     "metadata": {},
     "output_type": "display_data"
    },
    {
     "data": {
      "image/png": "[encoded data removed]",
      "text/plain": [
       "<Figure size 504x360 with 1 Axes>"
      ]
     },
     "metadata": {},
     "output_type": "display_data"
    }
   ],
   "source": [
    "path_fig1, path_axes1 = plt.subplots(figsize=(7, 5))\n",
    "\n",
    "categorical_plot(\n",
    "    axes=path_axes1,\n",
    "    df=path_metrics_df,\n",
    "    metric='rel_duration2goal',\n",
    "    catogory='control_type',\n",
    "    title='Relative time to the goal',\n",
    "    ylabel='Time [s]',\n",
    "    ylim=[0.0, 30.0],\n",
    "    # lgd_labels=['Not reached', 'Reached'],\n",
    "    # group='goal_reached',\n",
    "    kind='box',\n",
    ")\n",
    "\n",
    "path_fig2, path_axes2 = plt.subplots(figsize=(7, 5))\n",
    "\n",
    "categorical_plot(\n",
    "    axes=path_axes2,\n",
    "    df=path_metrics_df,\n",
    "    metric='rel_path_length2goal',\n",
    "    catogory='control_type',\n",
    "    title='Relative path length to the goal',\n",
    "    ylabel='Length [m]',\n",
    "    ylim=[0.0, 1.0],\n",
    "    # lgd_labels=['Not reached', 'Reached'],\n",
    "    # group='goal_reached',\n",
    "    kind='box',\n",
    ")"
   ]
  },
  {
   "cell_type": "markdown",
   "metadata": {},
   "source": [
    "### Shared control-related metrics"
   ]
  },
  {
   "cell_type": "markdown",
   "metadata": {},
   "source": [
    "- example image of **qolo_command** from 0423_shared_control\n",
    "\n",
    "<div align=\"center\"> <img src=\"./img/2021-04-24-13-07-54_qolo_command.png\" alt=\"qolo_command\"   width=\"800\" >"
   ]
  },
  {
   "cell_type": "code",
   "execution_count": 15,
   "metadata": {},
   "outputs": [
    {
     "name": "stdout",
     "output_type": "stream",
     "text": [
      "Reading results from 0424_mds\n",
      "Reading results from 0424_rds\n",
      "Reading results from 0424_shared_control\n"
     ]
    },
    {
     "data": {
      "text/html": [
       "<div>\n",
       "<style scoped>\n",
       "    .dataframe tbody tr th:only-of-type {\n",
       "        vertical-align: middle;\n",
       "    }\n",
       "\n",
       "    .dataframe tbody tr th {\n",
       "        vertical-align: top;\n",
       "    }\n",
       "\n",
       "    .dataframe thead th {\n",
       "        text-align: right;\n",
       "    }\n",
       "</style>\n",
       "<table border=\"1\" class=\"dataframe\">\n",
       "  <thead>\n",
       "    <tr style=\"text-align: right;\">\n",
       "      <th></th>\n",
       "      <th>seq</th>\n",
       "      <th>control_type</th>\n",
       "      <th>avg_fluency</th>\n",
       "      <th>linear_dis</th>\n",
       "      <th>heading_dis</th>\n",
       "      <th>disagreement</th>\n",
       "      <th>path_lenth2goal</th>\n",
       "      <th>goal_reached</th>\n",
       "    </tr>\n",
       "  </thead>\n",
       "  <tbody>\n",
       "    <tr>\n",
       "      <th>0</th>\n",
       "      <td>2021-04-24-12-04-04</td>\n",
       "      <td>mds</td>\n",
       "      <td>0.965360</td>\n",
       "      <td>[0.6393989024106088, 0.38569399396641807]</td>\n",
       "      <td>[0.11771109222169121, 0.09080398843413687]</td>\n",
       "      <td>[0.6659515002365751, 0.36905376067164525]</td>\n",
       "      <td>20.599373</td>\n",
       "      <td>False</td>\n",
       "    </tr>\n",
       "    <tr>\n",
       "      <th>1</th>\n",
       "      <td>2021-04-24-12-07-57</td>\n",
       "      <td>mds</td>\n",
       "      <td>0.971144</td>\n",
       "      <td>[0.7720069273999285, 0.4211504732517899]</td>\n",
       "      <td>[0.10070294764371045, 0.08852314610603079]</td>\n",
       "      <td>[0.7916190916264153, 0.4058066804611473]</td>\n",
       "      <td>31.204075</td>\n",
       "      <td>True</td>\n",
       "    </tr>\n",
       "    <tr>\n",
       "      <th>2</th>\n",
       "      <td>2021-04-24-12-10-45</td>\n",
       "      <td>mds</td>\n",
       "      <td>0.974231</td>\n",
       "      <td>[0.6403673104484585, 0.33845174117910093]</td>\n",
       "      <td>[0.14771728660245179, 0.16163672909741006]</td>\n",
       "      <td>[0.690686830452206, 0.30906051930413836]</td>\n",
       "      <td>25.521812</td>\n",
       "      <td>False</td>\n",
       "    </tr>\n",
       "    <tr>\n",
       "      <th>3</th>\n",
       "      <td>2021-04-24-12-54-04</td>\n",
       "      <td>mds</td>\n",
       "      <td>0.970634</td>\n",
       "      <td>[0.7623616543444646, 0.3490351840058458]</td>\n",
       "      <td>[0.0905576355469887, 0.06729653784270985]</td>\n",
       "      <td>[0.774592253707545, 0.3402311002047963]</td>\n",
       "      <td>29.649303</td>\n",
       "      <td>False</td>\n",
       "    </tr>\n",
       "    <tr>\n",
       "      <th>4</th>\n",
       "      <td>2021-04-24-12-56-59</td>\n",
       "      <td>mds</td>\n",
       "      <td>0.973481</td>\n",
       "      <td>[0.6598747134792747, 0.38463823325955915]</td>\n",
       "      <td>[0.08850096490714517, 0.06880285540511866]</td>\n",
       "      <td>[0.6777317068795673, 0.3696311609779289]</td>\n",
       "      <td>20.827414</td>\n",
       "      <td>False</td>\n",
       "    </tr>\n",
       "  </tbody>\n",
       "</table>\n",
       "</div>"
      ],
      "text/plain": [
       "                   seq control_type  avg_fluency  \\\n",
       "0  2021-04-24-12-04-04          mds     0.965360   \n",
       "1  2021-04-24-12-07-57          mds     0.971144   \n",
       "2  2021-04-24-12-10-45          mds     0.974231   \n",
       "3  2021-04-24-12-54-04          mds     0.970634   \n",
       "4  2021-04-24-12-56-59          mds     0.973481   \n",
       "\n",
       "                                  linear_dis  \\\n",
       "0  [0.6393989024106088, 0.38569399396641807]   \n",
       "1   [0.7720069273999285, 0.4211504732517899]   \n",
       "2  [0.6403673104484585, 0.33845174117910093]   \n",
       "3   [0.7623616543444646, 0.3490351840058458]   \n",
       "4  [0.6598747134792747, 0.38463823325955915]   \n",
       "\n",
       "                                  heading_dis  \\\n",
       "0  [0.11771109222169121, 0.09080398843413687]   \n",
       "1  [0.10070294764371045, 0.08852314610603079]   \n",
       "2  [0.14771728660245179, 0.16163672909741006]   \n",
       "3   [0.0905576355469887, 0.06729653784270985]   \n",
       "4  [0.08850096490714517, 0.06880285540511866]   \n",
       "\n",
       "                                disagreement  path_lenth2goal  goal_reached  \n",
       "0  [0.6659515002365751, 0.36905376067164525]        20.599373         False  \n",
       "1   [0.7916190916264153, 0.4058066804611473]        31.204075          True  \n",
       "2   [0.690686830452206, 0.30906051930413836]        25.521812         False  \n",
       "3    [0.774592253707545, 0.3402311002047963]        29.649303         False  \n",
       "4   [0.6777317068795673, 0.3696311609779289]        20.827414         False  "
      ]
     },
     "execution_count": 15,
     "metadata": {},
     "output_type": "execute_result"
    }
   ],
   "source": [
    "control_metrics = ('avg_fluency', \n",
    "                   'linear_dis', \n",
    "                   'heading_dis', \n",
    "                   'disagreement',\n",
    "                   'path_lenth2goal',\n",
    "                   'goal_reached',\n",
    "                   )\n",
    "\n",
    "# todo: relative jerk and contribution\n",
    "\n",
    "control_frames = []\n",
    "\n",
    "for ii, eval_dir in enumerate(eval_dirs):\n",
    "\n",
    "    print(\"Reading results from {}\".format(eval_dir))\n",
    "\n",
    "    # new a CrowdBotDatabase() instance\n",
    "    eval_database = CrowdBotDatabase(folder=eval_dir)\n",
    "\n",
    "    cm_dict = {'seq': eval_database.seqs}\n",
    "    cm_dict.update(\n",
    "        {'control_type': [eval_dir[5:] for i in range(eval_database.nr_seqs())]}\n",
    "    )\n",
    "    cm_dict.update({k: [] for k in control_metrics})\n",
    "\n",
    "    for idx, seq in enumerate(eval_database.seqs):\n",
    "        eval_res_dir = os.path.join(eval_database.metrics_dir)\n",
    "        qolo_eval_npy = os.path.join(eval_res_dir, seq + \"_qolo_eval.npy\")\n",
    "        qolo_eval_dict = np.load(\n",
    "            qolo_eval_npy,\n",
    "            allow_pickle=True,\n",
    "        ).item()\n",
    "\n",
    "        for iidx, val in enumerate(control_metrics):\n",
    "            cm_dict[control_metrics[iidx]].append(qolo_eval_dict[val])\n",
    "        \n",
    "    control_df = pd.DataFrame(cm_dict)\n",
    "    control_df.columns = ['seq', 'control_type'] + list(control_metrics)\n",
    "    \n",
    "    # Filter path_lenth2goal less than 5 meter\n",
    "    control_df = control_df[control_df.path_lenth2goal >= 5.0]\n",
    "\n",
    "    control_frames.append(control_df)\n",
    "    \n",
    "control_metrics_df = pd.concat(control_frames, ignore_index=True)\n",
    "control_metrics_df.head()"
   ]
  },
  {
   "cell_type": "code",
   "execution_count": 16,
   "metadata": {},
   "outputs": [],
   "source": [
    "# for ctrl in control_types:\n",
    "#     print(\"###\", ctrl)\n",
    "#     print(\"# mean\")\n",
    "#     print(control_df[control_df.control_type == ctrl].mean(numeric_only=True))\n",
    "#     print(\"# std\")\n",
    "#     print(control_df[control_df.control_type == ctrl].std(numeric_only=True))\n",
    "#     print()"
   ]
  },
  {
   "cell_type": "code",
   "execution_count": 17,
   "metadata": {},
   "outputs": [
    {
     "data": {
      "image/png": "[encoded data removed]",
      "text/plain": [
       "<Figure size 504x360 with 1 Axes>"
      ]
     },
     "metadata": {},
     "output_type": "display_data"
    }
   ],
   "source": [
    "control_fig1, control_axes1 = plt.subplots(figsize=(7, 5))\n",
    "\n",
    "categorical_plot(\n",
    "    axes=control_axes1,\n",
    "    df=control_metrics_df,\n",
    "    metric='avg_fluency',\n",
    "    catogory='control_type',\n",
    "    title='Average control fluency',\n",
    "    ylabel='',\n",
    "    ylim=[0.95, 1.0],\n",
    "    # lgd_labels=['Not reached', 'Reached'],\n",
    "    # group='goal_reached',\n",
    "    kind='box',\n",
    ")"
   ]
  },
  {
   "cell_type": "markdown",
   "metadata": {},
   "source": [
    "## Example data on 2021-04-10"
   ]
  },
  {
   "cell_type": "code",
   "execution_count": 15,
   "metadata": {},
   "outputs": [
    {
     "name": "stdout",
     "output_type": "stream",
     "text": [
      "0410_mds/ is available!\n",
      "0410_rds/ is available!\n",
      "0410_shared_control/ is available!\n"
     ]
    }
   ],
   "source": [
    "example_date = '0410'\n",
    "eval_dirs = []\n",
    "for root, dirs, files in walk(bagbase, topdown=False, maxdepth=1):\n",
    "    for dir in dirs:\n",
    "        if (example_date in dir):\n",
    "            eval_dirs.append(dir)\n",
    "            print(\"{}/ is available!\".format(dir))"
   ]
  },
  {
   "cell_type": "markdown",
   "metadata": {},
   "source": [
    "### Crowd-related metrics"
   ]
  },
  {
   "cell_type": "code",
   "execution_count": 16,
   "metadata": {},
   "outputs": [
    {
     "name": "stdout",
     "output_type": "stream",
     "text": [
      "Reading results from 0410_mds\n",
      "Reading results from 0410_rds\n",
      "Reading results from 0410_shared_control\n"
     ]
    }
   ],
   "source": [
    "crowd_metrics = ('avg_crowd_density5', \n",
    "           'avg_crowd_density10', \n",
    "           'avg_min_dist',\n",
    "           'path_lenth2goal',\n",
    "           'goal_reached',\n",
    "          )\n",
    "\n",
    "# more_metrics = (\n",
    "#     'crowd_density5',\n",
    "#     'crowd_density10',\n",
    "#     'min_dist',\n",
    "# )\n",
    "\n",
    "frames = []\n",
    "\n",
    "for eval_dir in eval_dirs:\n",
    "\n",
    "    print(\"Reading results from {}\".format(eval_dir))\n",
    "\n",
    "    # new a CrowdBotDatabase() instance\n",
    "    eval_database = CrowdBotDatabase(folder=eval_dir)\n",
    "\n",
    "    m_dict = {'seq': eval_database.seqs}\n",
    "    m_dict.update(\n",
    "        {'control_type': [eval_dir[5:] for i in range(eval_database.nr_seqs())]}\n",
    "    )\n",
    "    m_dict.update({k: [] for k in crowd_metrics})\n",
    "\n",
    "    for idx, seq in enumerate(eval_database.seqs):\n",
    "        eval_res_dir = os.path.join(eval_database.metrics_dir)\n",
    "        crowd_eval_npy = os.path.join(eval_res_dir, seq + \"_crowd_eval.npy\")\n",
    "        crowd_eval_dict = np.load(\n",
    "            crowd_eval_npy,\n",
    "            allow_pickle=True,\n",
    "        ).item()\n",
    "\n",
    "        for iidx, val in enumerate(crowd_metrics):\n",
    "            m_dict[crowd_metrics[iidx]].append(crowd_eval_dict[val])\n",
    "\n",
    "    crowd_df = pd.DataFrame(m_dict)\n",
    "    crowd_df.columns = ['seq', 'control_type'] + list(crowd_metrics)\n",
    "    \n",
    "    # Filter path_lenth2goal less than 10 meter\n",
    "    crowd_df = crowd_df[crowd_df.path_lenth2goal >= 10.0]\n",
    "\n",
    "    frames.append(crowd_df)\n",
    "\n",
    "crowd_metrics_df = pd.concat(frames, ignore_index=True)"
   ]
  },
  {
   "cell_type": "code",
   "execution_count": 17,
   "metadata": {},
   "outputs": [
    {
     "name": "stdout",
     "output_type": "stream",
     "text": [
      "### mds\n",
      "# mean\n",
      "avg_crowd_density5      0.110323\n",
      "avg_crowd_density10     0.066573\n",
      "avg_min_dist            1.182001\n",
      "path_lenth2goal        20.774523\n",
      "goal_reached            0.400000\n",
      "dtype: float64\n",
      "# std\n",
      "avg_crowd_density5     0.012525\n",
      "avg_crowd_density10    0.006799\n",
      "avg_min_dist           0.156473\n",
      "path_lenth2goal        4.389658\n",
      "goal_reached           0.516398\n",
      "dtype: float64\n",
      "\n",
      "### rds\n",
      "# mean\n",
      "avg_crowd_density5      0.118940\n",
      "avg_crowd_density10     0.066748\n",
      "avg_min_dist            1.128615\n",
      "path_lenth2goal        22.089470\n",
      "goal_reached            0.875000\n",
      "dtype: float64\n",
      "# std\n",
      "avg_crowd_density5     0.008000\n",
      "avg_crowd_density10    0.004932\n",
      "avg_min_dist           0.059883\n",
      "path_lenth2goal        1.833365\n",
      "goal_reached           0.353553\n",
      "dtype: float64\n",
      "\n",
      "### shared_control\n",
      "# mean\n",
      "avg_crowd_density5      0.105671\n",
      "avg_crowd_density10     0.064317\n",
      "avg_min_dist            1.300822\n",
      "path_lenth2goal        31.200518\n",
      "goal_reached            0.375000\n",
      "dtype: float64\n",
      "# std\n",
      "avg_crowd_density5      0.010102\n",
      "avg_crowd_density10     0.006502\n",
      "avg_min_dist            0.105566\n",
      "path_lenth2goal        15.194144\n",
      "goal_reached            0.517549\n",
      "dtype: float64\n",
      "\n"
     ]
    }
   ],
   "source": [
    "for ctrl in control_types:\n",
    "    print(\"###\", ctrl)\n",
    "    print(\"# mean\")\n",
    "    print(crowd_metrics_df[crowd_metrics_df.control_type == ctrl].mean(numeric_only=True))\n",
    "    print(\"# std\")\n",
    "    print(crowd_metrics_df[crowd_metrics_df.control_type == ctrl].std(numeric_only=True))\n",
    "    print()"
   ]
  },
  {
   "cell_type": "code",
   "execution_count": 18,
   "metadata": {},
   "outputs": [
    {
     "data": {
      "image/png": "[encoded data removed]",
      "text/plain": [
       "<Figure size 504x360 with 1 Axes>"
      ]
     },
     "metadata": {
      "needs_background": "light"
     },
     "output_type": "display_data"
    },
    {
     "data": {
      "image/png": "[encoded data removed]",
      "text/plain": [
       "<Figure size 504x360 with 1 Axes>"
      ]
     },
     "metadata": {
      "needs_background": "light"
     },
     "output_type": "display_data"
    },
    {
     "data": {
      "image/png": "[encoded data removed]",
      "text/plain": [
       "<Figure size 504x360 with 1 Axes>"
      ]
     },
     "metadata": {
      "needs_background": "light"
     },
     "output_type": "display_data"
    }
   ],
   "source": [
    "fig, axes = plt.subplots(figsize=(7, 5))\n",
    "\n",
    "categorical_plot(\n",
    "    axes=axes,\n",
    "    df=crowd_metrics_df,\n",
    "    metric='avg_crowd_density5',\n",
    "    catogory='control_type',\n",
    "    title='Crowd Density within 5 m of qolo',\n",
    "    ylabel='Density [1/$m^2$]',\n",
    "    ylim=[0.0, 0.22],\n",
    "    group='goal_reached',\n",
    "    lgd_labels=['Not reached', 'Reached'],\n",
    ")\n",
    "\n",
    "fig2, axes2 = plt.subplots(figsize=(7, 5))\n",
    "\n",
    "categorical_plot(\n",
    "    axes=axes2,\n",
    "    df=crowd_metrics_df,\n",
    "    metric='avg_crowd_density10',\n",
    "    catogory='control_type',\n",
    "    title='Crowd Density within 10 m of qolo',\n",
    "    ylabel='Density [1/$m^2$]',\n",
    "    ylim=[0.0, 0.15],\n",
    "    group='goal_reached',\n",
    "    lgd_labels=['Not reached', 'Reached'],\n",
    ")\n",
    "\n",
    "fig3, axes3 = plt.subplots(figsize=(7, 5))\n",
    "\n",
    "categorical_plot(\n",
    "    axes=axes3,\n",
    "    df=crowd_metrics_df,\n",
    "    metric='avg_min_dist',\n",
    "    catogory='control_type',\n",
    "    title='Min. Distance of Pedestrain from qolo',\n",
    "    ylabel='Distance [m]',\n",
    "    ylim=[0.0, 2.0],\n",
    "    group='goal_reached',\n",
    "    lgd_labels=['Not reached', 'Reached'],\n",
    ")"
   ]
  },
  {
   "cell_type": "markdown",
   "metadata": {},
   "source": [
    "### Path Efficiency-related metrics"
   ]
  },
  {
   "cell_type": "code",
   "execution_count": 19,
   "metadata": {},
   "outputs": [
    {
     "name": "stdout",
     "output_type": "stream",
     "text": [
      "Reading results from 0410_mds\n",
      "Reading results from 0410_rds\n",
      "Reading results from 0410_shared_control\n"
     ]
    },
    {
     "data": {
      "text/html": [
       "<div>\n",
       "<style scoped>\n",
       "    .dataframe tbody tr th:only-of-type {\n",
       "        vertical-align: middle;\n",
       "    }\n",
       "\n",
       "    .dataframe tbody tr th {\n",
       "        vertical-align: top;\n",
       "    }\n",
       "\n",
       "    .dataframe thead th {\n",
       "        text-align: right;\n",
       "    }\n",
       "</style>\n",
       "<table border=\"1\" class=\"dataframe\">\n",
       "  <thead>\n",
       "    <tr style=\"text-align: right;\">\n",
       "      <th></th>\n",
       "      <th>seq</th>\n",
       "      <th>control_type</th>\n",
       "      <th>rel_duration2goal</th>\n",
       "      <th>rel_path_length2goal</th>\n",
       "      <th>path_lenth2goal</th>\n",
       "      <th>goal_reached</th>\n",
       "    </tr>\n",
       "  </thead>\n",
       "  <tbody>\n",
       "    <tr>\n",
       "      <th>0</th>\n",
       "      <td>2021-04-10-11-28-10</td>\n",
       "      <td>mds</td>\n",
       "      <td>19.040220</td>\n",
       "      <td>0.817301</td>\n",
       "      <td>18.637169</td>\n",
       "      <td>False</td>\n",
       "    </tr>\n",
       "    <tr>\n",
       "      <th>1</th>\n",
       "      <td>2021-04-10-11-30-57</td>\n",
       "      <td>mds</td>\n",
       "      <td>19.485387</td>\n",
       "      <td>0.764789</td>\n",
       "      <td>20.382484</td>\n",
       "      <td>False</td>\n",
       "    </tr>\n",
       "    <tr>\n",
       "      <th>2</th>\n",
       "      <td>2021-04-10-11-33-46</td>\n",
       "      <td>mds</td>\n",
       "      <td>20.635500</td>\n",
       "      <td>0.901158</td>\n",
       "      <td>18.319101</td>\n",
       "      <td>False</td>\n",
       "    </tr>\n",
       "    <tr>\n",
       "      <th>3</th>\n",
       "      <td>2021-04-10-11-36-41</td>\n",
       "      <td>mds</td>\n",
       "      <td>18.364228</td>\n",
       "      <td>0.737210</td>\n",
       "      <td>19.928324</td>\n",
       "      <td>False</td>\n",
       "    </tr>\n",
       "    <tr>\n",
       "      <th>4</th>\n",
       "      <td>2021-04-10-11-54-34</td>\n",
       "      <td>mds</td>\n",
       "      <td>8.083122</td>\n",
       "      <td>0.607402</td>\n",
       "      <td>10.646132</td>\n",
       "      <td>False</td>\n",
       "    </tr>\n",
       "  </tbody>\n",
       "</table>\n",
       "</div>"
      ],
      "text/plain": [
       "                   seq control_type  rel_duration2goal  rel_path_length2goal  \\\n",
       "0  2021-04-10-11-28-10          mds          19.040220              0.817301   \n",
       "1  2021-04-10-11-30-57          mds          19.485387              0.764789   \n",
       "2  2021-04-10-11-33-46          mds          20.635500              0.901158   \n",
       "3  2021-04-10-11-36-41          mds          18.364228              0.737210   \n",
       "4  2021-04-10-11-54-34          mds           8.083122              0.607402   \n",
       "\n",
       "   path_lenth2goal  goal_reached  \n",
       "0        18.637169         False  \n",
       "1        20.382484         False  \n",
       "2        18.319101         False  \n",
       "3        19.928324         False  \n",
       "4        10.646132         False  "
      ]
     },
     "execution_count": 19,
     "metadata": {},
     "output_type": "execute_result"
    }
   ],
   "source": [
    "path_metrics = ('rel_duration2goal', \n",
    "                'rel_path_length2goal', \n",
    "                'path_lenth2goal',\n",
    "                'goal_reached',\n",
    "               )\n",
    "\n",
    "path_frames = []\n",
    "\n",
    "for ii, eval_dir in enumerate(eval_dirs):\n",
    "\n",
    "    print(\"Reading results from {}\".format(eval_dir))\n",
    "\n",
    "    # new a CrowdBotDatabase() instance\n",
    "    eval_database = CrowdBotDatabase(folder=eval_dir)\n",
    "\n",
    "    pm_dict = {'seq': eval_database.seqs}\n",
    "    pm_dict.update(\n",
    "        {'control_type': [eval_dir[5:] for i in range(eval_database.nr_seqs())]}\n",
    "    )\n",
    "    pm_dict.update({k: [] for k in path_metrics})\n",
    "\n",
    "    for idx, seq in enumerate(eval_database.seqs):\n",
    "        eval_res_dir = os.path.join(eval_database.metrics_dir)\n",
    "        qolo_eval_npy = os.path.join(eval_res_dir, seq + \"_qolo_eval.npy\")\n",
    "        qolo_eval_dict = np.load(\n",
    "            qolo_eval_npy,\n",
    "            allow_pickle=True,\n",
    "        ).item()\n",
    "\n",
    "        for iidx, val in enumerate(path_metrics):\n",
    "            pm_dict[path_metrics[iidx]].append(qolo_eval_dict[val])\n",
    "            # print(iidx, val, path_metrics[iidx])\n",
    "    # print(pm_dict.keys())\n",
    "        \n",
    "    path_df = pd.DataFrame(pm_dict)\n",
    "    path_df.columns = ['seq', 'control_type'] + list(path_metrics)\n",
    "    \n",
    "    # Filter path_lenth2goal less than 10 meter\n",
    "    path_df = path_df[path_df.path_lenth2goal >= 10.0]\n",
    "\n",
    "    path_frames.append(path_df)\n",
    "    \n",
    "path_metrics_df = pd.concat(path_frames, ignore_index=True)\n",
    "path_metrics_df.head()"
   ]
  },
  {
   "cell_type": "code",
   "execution_count": 20,
   "metadata": {},
   "outputs": [
    {
     "name": "stdout",
     "output_type": "stream",
     "text": [
      "### mds\n",
      "# mean\n",
      "rel_duration2goal       19.983374\n",
      "rel_path_length2goal     0.764391\n",
      "path_lenth2goal         20.774523\n",
      "goal_reached             0.400000\n",
      "dtype: float64\n",
      "# std\n",
      "rel_duration2goal       4.656465\n",
      "rel_path_length2goal    0.076879\n",
      "path_lenth2goal         4.389658\n",
      "goal_reached            0.516398\n",
      "dtype: float64\n",
      "\n",
      "### rds\n",
      "# mean\n",
      "rel_duration2goal       22.526666\n",
      "rel_path_length2goal     0.818905\n",
      "path_lenth2goal         22.089470\n",
      "goal_reached             0.875000\n",
      "dtype: float64\n",
      "# std\n",
      "rel_duration2goal       1.255885\n",
      "rel_path_length2goal    0.054843\n",
      "path_lenth2goal         1.833365\n",
      "goal_reached            0.353553\n",
      "dtype: float64\n",
      "\n",
      "### shared_control\n",
      "# mean\n",
      "rel_duration2goal       16.505664\n",
      "rel_path_length2goal     0.679427\n",
      "path_lenth2goal         31.200518\n",
      "goal_reached             0.375000\n",
      "dtype: float64\n",
      "# std\n",
      "rel_duration2goal        1.675222\n",
      "rel_path_length2goal     0.195525\n",
      "path_lenth2goal         15.194144\n",
      "goal_reached             0.517549\n",
      "dtype: float64\n",
      "\n"
     ]
    }
   ],
   "source": [
    "for ctrl in control_types:\n",
    "    print(\"###\", ctrl)\n",
    "    print(\"# mean\")\n",
    "    print(path_metrics_df[path_metrics_df.control_type == ctrl].mean(numeric_only=True))\n",
    "    print(\"# std\")\n",
    "    print(path_metrics_df[path_metrics_df.control_type == ctrl].std(numeric_only=True))\n",
    "    print()"
   ]
  },
  {
   "cell_type": "code",
   "execution_count": 21,
   "metadata": {},
   "outputs": [
    {
     "data": {
      "image/png": "[encoded data removed]",
      "text/plain": [
       "<Figure size 504x360 with 1 Axes>"
      ]
     },
     "metadata": {
      "needs_background": "light"
     },
     "output_type": "display_data"
    },
    {
     "data": {
      "image/png": "[encoded data removed]",
      "text/plain": [
       "<Figure size 504x360 with 1 Axes>"
      ]
     },
     "metadata": {
      "needs_background": "light"
     },
     "output_type": "display_data"
    }
   ],
   "source": [
    "path_fig1, path_axes1 = plt.subplots(figsize=(7, 5))\n",
    "\n",
    "categorical_plot(\n",
    "    axes=path_axes1,\n",
    "    df=path_metrics_df,\n",
    "    metric='rel_duration2goal',\n",
    "    catogory='control_type',\n",
    "    title='Relative time to the goal',\n",
    "    ylabel='Time [s]',\n",
    "    ylim=[0.0, 30.0],\n",
    "    lgd_labels=['Not reached', 'Reached'],\n",
    "    group='goal_reached',\n",
    "    kind='box',\n",
    ")\n",
    "\n",
    "path_fig2, path_axes2 = plt.subplots(figsize=(7, 5))\n",
    "\n",
    "categorical_plot(\n",
    "    axes=path_axes2,\n",
    "    df=path_metrics_df,\n",
    "    metric='rel_path_length2goal',\n",
    "    catogory='control_type',\n",
    "    title='Relative path length to the goal',\n",
    "    ylabel='Length [m]',\n",
    "    ylim=[0.0, 1.0],\n",
    "    lgd_labels=['Not reached', 'Reached'],\n",
    "    group='goal_reached',\n",
    "    kind='box',\n",
    ")"
   ]
  },
  {
   "cell_type": "code",
   "execution_count": null,
   "metadata": {},
   "outputs": [],
   "source": []
  }
 ],
 "metadata": {
  "kernelspec": {
   "display_name": "Python 3.8.12 64-bit ('py38cuda110': conda)",
   "language": "python",
   "name": "python3812jvsc74a57bd04c6b102e5d13e1fecd509d7afca2a015b7aa951d14e261cb21795c62f51c11cb"
  },
  "language_info": {
   "codemirror_mode": {
    "name": "ipython",
    "version": 3
   },
   "file_extension": ".py",
   "mimetype": "text/x-python",
   "name": "python",
   "nbconvert_exporter": "python",
   "pygments_lexer": "ipython3",
   "version": "3.8.12"
  },
  "toc": {
   "base_numbering": 1,
   "nav_menu": {},
   "number_sections": true,
   "sideBar": true,
   "skip_h1_title": true,
   "title_cell": "Table of Contents",
   "title_sidebar": "Contents",
   "toc_cell": true,
   "toc_position": {
    "height": "calc(100% - 180px)",
    "left": "10px",
    "top": "150px",
    "width": "275.2px"
   },
   "toc_section_display": true,
   "toc_window_display": true
  }
 },
 "nbformat": 4,
 "nbformat_minor": 4
}
