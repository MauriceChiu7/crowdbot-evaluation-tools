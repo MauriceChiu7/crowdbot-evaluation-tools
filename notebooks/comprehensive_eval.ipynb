{
 "cells": [
  {
   "cell_type": "markdown",
   "metadata": {
    "toc": true
   },
   "source": [
    "<h1>Table of Contents<span class=\"tocSkip\"></span></h1>\n",
    "<div class=\"toc\"><ul class=\"toc-item\"><li><span><a href=\"#Analysis-of-different-control-method-on-different-datas\" data-toc-modified-id=\"Analysis-of-different-control-method-on-different-datas-1\"><span class=\"toc-item-num\">1&nbsp;&nbsp;</span>Analysis of different control method on different datas</a></span><ul class=\"toc-item\"><li><span><a href=\"#Example:-2021-04-10\" data-toc-modified-id=\"Example:-2021-04-10-1.1\"><span class=\"toc-item-num\">1.1&nbsp;&nbsp;</span>Example: 2021-04-10</a></span><ul class=\"toc-item\"><li><span><a href=\"#Crowd-related-metrics\" data-toc-modified-id=\"Crowd-related-metrics-1.1.1\"><span class=\"toc-item-num\">1.1.1&nbsp;&nbsp;</span>Crowd-related metrics</a></span></li><li><span><a href=\"#Path-Efficiency-related-metrics\" data-toc-modified-id=\"Path-Efficiency-related-metrics-1.1.2\"><span class=\"toc-item-num\">1.1.2&nbsp;&nbsp;</span>Path Efficiency-related metrics</a></span></li><li><span><a href=\"#Shared-control-related-metrics\" data-toc-modified-id=\"Shared-control-related-metrics-1.1.3\"><span class=\"toc-item-num\">1.1.3&nbsp;&nbsp;</span>Shared control-related metrics</a></span></li></ul></li></ul></li><li><span><a href=\"#Archive\" data-toc-modified-id=\"Archive-2\"><span class=\"toc-item-num\">2&nbsp;&nbsp;</span>Archive</a></span></li><li><span><a href=\"#Crowd\" data-toc-modified-id=\"Crowd-3\"><span class=\"toc-item-num\">3&nbsp;&nbsp;</span>Crowd</a></span></li><li><span><a href=\"#Path-Efficiency\" data-toc-modified-id=\"Path-Efficiency-4\"><span class=\"toc-item-num\">4&nbsp;&nbsp;</span>Path Efficiency</a></span></li><li><span><a href=\"#Shared-Control\" data-toc-modified-id=\"Shared-Control-5\"><span class=\"toc-item-num\">5&nbsp;&nbsp;</span>Shared Control</a></span></li></ul></div>"
   ]
  },
  {
   "cell_type": "markdown",
   "metadata": {},
   "source": [
    "# Crowd navigation evaluation\n",
    "\n",
    "Subfolders:\n",
    "mds/ rds/ shared_control/"
   ]
  },
  {
   "cell_type": "code",
   "execution_count": 1,
   "metadata": {},
   "outputs": [],
   "source": [
    "import math\n",
    "import collections\n",
    "import urllib.request\n",
    "from pathlib import Path\n",
    "\n",
    "import numpy as np\n",
    "import pandas as pd\n",
    "import matplotlib.pyplot as pp\n",
    "import seaborn as sns\n",
    "sns.set_theme()\n",
    "\n",
    "import sys, os, fnmatch\n",
    "# Importing Metrics Functions:\n",
    "# sys.path.append(os.path.join(os.path.dirname(sys.path[0]),'src'))\n",
    "sys.path.append(os.path.join(os.path.dirname(sys.path[0]),'qolo'))\n",
    "\n",
    "# from metrics_evaluation import crowd_evaluation\n",
    "from crowd_evaluation import *\n",
    "from crowdbot_data import CrowdBotData, CrowdBotDatabase\n",
    "\n",
    "%matplotlib inline"
   ]
  },
  {
   "cell_type": "code",
   "execution_count": 2,
   "metadata": {},
   "outputs": [
    {
     "name": "stdout",
     "output_type": "stream",
     "text": [
      "rosbag database: /hdd/data_qolo/crowd_qolo_recordings/\n",
      "['0325_rds', '0410_mds', '0410_rds', '0410_shared_control', '0424_mds', '0424_rds', '0424_shared_control', 'MDS', 'RDS', 'readme.md', 'shared_control', 'shared_test', 'test']\n",
      "output database: /hdd/data_qolo/crowdbot_data_analysis/\n",
      "['0410_mds_processed', '0410_rds_processed', '0410_shared_control_processed', '0424_mds_processed', '0424_rds_processed', '0424_shared_control_processed', 'MDS_processed', 'shared_test_processed', 'test_processed']\n"
     ]
    }
   ],
   "source": [
    "qolo_dataset = CrowdBotData()\n",
    "print(\"rosbag database:\", qolo_dataset.bagbase_dir)\n",
    "print(os.listdir(qolo_dataset.bagbase_dir))\n",
    "print(\"output database:\", qolo_dataset.outbase_dir)\n",
    "print(os.listdir(qolo_dataset.outbase_dir))"
   ]
  },
  {
   "cell_type": "code",
   "execution_count": 3,
   "metadata": {},
   "outputs": [],
   "source": [
    "#!sh data_export_pipeline.sh -e=py38cuda110 -t=shared_test"
   ]
  },
  {
   "cell_type": "markdown",
   "metadata": {},
   "source": [
    "## Analysis of different control method on different datas"
   ]
  },
  {
   "cell_type": "code",
   "execution_count": 4,
   "metadata": {},
   "outputs": [],
   "source": [
    "outbase = qolo_dataset.outbase_dir\n",
    "bagbase = qolo_dataset.bagbase_dir\n",
    "control_types = ['mds', 'rds', 'shared_control']"
   ]
  },
  {
   "cell_type": "markdown",
   "metadata": {},
   "source": [
    "### Example: 2021-04-10"
   ]
  },
  {
   "cell_type": "code",
   "execution_count": 5,
   "metadata": {},
   "outputs": [],
   "source": [
    "# https://stackoverflow.com/a/53380401/7961693\n",
    "import os.path as path\n",
    "\n",
    "def walk(top, topdown=True, onerror=None, followlinks=False, maxdepth=None):\n",
    "    islink, join, isdir = path.islink, path.join, path.isdir\n",
    "    names = os.listdir(top)\n",
    "    dirs, nondirs = [], []\n",
    "    for name in names:\n",
    "        if isdir(join(top, name)):\n",
    "            dirs.append(name)\n",
    "        else:\n",
    "            nondirs.append(name)\n",
    "\n",
    "    if topdown:\n",
    "        yield top, dirs, nondirs\n",
    "\n",
    "    if maxdepth is None or maxdepth > 1:\n",
    "        for name in dirs:\n",
    "            new_path = join(top, name)\n",
    "            if followlinks or not islink(new_path):\n",
    "                for x in walk(new_path, topdown, onerror, followlinks, None if maxdepth is None else maxdepth-1):\n",
    "                    yield x\n",
    "    if not topdown:\n",
    "        yield top, dirs, nondirs"
   ]
  },
  {
   "cell_type": "code",
   "execution_count": 6,
   "metadata": {},
   "outputs": [
    {
     "name": "stdout",
     "output_type": "stream",
     "text": [
      "0424_mds/ is available!\n",
      "0424_rds/ is available!\n",
      "0424_shared_control/ is available!\n"
     ]
    }
   ],
   "source": [
    "example_date = '0424'\n",
    "eval_dirs = []\n",
    "for root, dirs, files in walk(bagbase, topdown=False, maxdepth=1):\n",
    "    for dir in dirs:\n",
    "        if (example_date in dir):\n",
    "            eval_dirs.append(dir)\n",
    "            print(\"{}/ is available!\".format(dir))"
   ]
  },
  {
   "cell_type": "code",
   "execution_count": 7,
   "metadata": {},
   "outputs": [
    {
     "name": "stdout",
     "output_type": "stream",
     "text": [
      "Reading results from 0424_mds\n"
     ]
    }
   ],
   "source": [
    "# for eval_dir in eval_dirs:\n",
    "eval_dir = eval_dirs[0]\n",
    "print(\"Reading results from {}\".format(eval_dir))\n",
    "\n",
    "# new a CrowdBotDatabase() instance\n",
    "eval_database = CrowdBotDatabase(folder=eval_dir)"
   ]
  },
  {
   "cell_type": "code",
   "execution_count": 8,
   "metadata": {},
   "outputs": [
    {
     "name": "stdout",
     "output_type": "stream",
     "text": [
      "Available seqs in eval_dir: ['2021-04-24-12-04-04', '2021-04-24-12-07-57', '2021-04-24-12-10-45', '2021-04-24-12-54-04', '2021-04-24-12-56-59', '2021-04-24-13-03-39']\n"
     ]
    }
   ],
   "source": [
    "print(\"Available seqs in eval_dir:\", eval_database.seqs)"
   ]
  },
  {
   "cell_type": "markdown",
   "metadata": {},
   "source": [
    "#### Crowd-related metrics"
   ]
  },
  {
   "cell_type": "code",
   "execution_count": 9,
   "metadata": {},
   "outputs": [
    {
     "name": "stdout",
     "output_type": "stream",
     "text": [
      "Reading results from 0424_mds\n",
      "Reading results from 0424_rds\n",
      "Reading results from 0424_shared_control\n",
      "                    seq   control_type  avg_crowd_density5  avg_crowd_density10  avg_min_dist\n",
      "    2021-04-24-12-04-04            mds            0.120290             0.061124      1.667078\n",
      "    2021-04-24-12-07-57            mds            0.093233             0.046961      2.219815\n",
      "    2021-04-24-12-10-45            mds            0.149362             0.069602      1.728294\n",
      "    2021-04-24-12-54-04            mds            0.114009             0.062583      1.909025\n",
      "    2021-04-24-12-56-59            mds            0.137841             0.068062      1.722945\n",
      "    2021-04-24-13-03-39            mds            0.150969             0.061873      1.786513\n",
      "    2021-04-24-11-20-18            rds            0.160733             0.070133      1.633202\n",
      "    2021-04-24-11-23-43            rds            0.125135             0.063976      1.751423\n",
      "    2021-04-24-11-35-54            rds            0.122445             0.055816      1.886481\n",
      "    2021-04-24-11-40-33            rds            0.161121             0.074358      1.531466\n",
      "    2021-04-24-11-43-54            rds            0.158128             0.066283      1.601850\n",
      "    2021-04-24-11-48-21            rds            0.141997             0.071372      1.585839\n",
      "    2021-04-24-11-55-30            rds            0.157842             0.070900      1.555839\n",
      "    2021-04-24-13-07-54 shared_control            0.149252             0.069288      1.733505\n",
      "    2021-04-24-13-11-03 shared_control            0.140995             0.069307      1.766926\n",
      "    2021-04-24-13-14-49 shared_control            0.157753             0.074547      1.722914\n",
      "    2021-04-24-13-16-58 shared_control            0.169079             0.082017      1.712375\n",
      "    2021-04-24-13-20-05 shared_control            0.165287             0.077891      1.715448\n",
      "    2021-04-24-13-22-52 shared_control            0.141218             0.057149      1.650139\n",
      "2021-04-24-13-22-52-002 shared_control            0.141218             0.057149      1.650139\n",
      "2021-04-24-13-25-24-001 shared_control            0.132688             0.064677      1.887133\n",
      "2021-04-24-13-27-09-003 shared_control            0.114643             0.055257      1.940999\n"
     ]
    }
   ],
   "source": [
    "# load_metrics = ('crowd_density5', \n",
    "#                 'crowd_density10', \n",
    "#                 'min_dist',\n",
    "#                 'avg_crowd_density5',\n",
    "#                 'avg_crowd_density10',\n",
    "#                 'avg_min_dist')\n",
    "\n",
    "metrics = ('avg_crowd_density5',\n",
    "           'avg_crowd_density10',\n",
    "           'avg_min_dist')\n",
    "\n",
    "frames = []\n",
    "\n",
    "for eval_dir in eval_dirs:\n",
    "    \n",
    "    print(\"Reading results from {}\".format(eval_dir))\n",
    "\n",
    "    # new a CrowdBotDatabase() instance\n",
    "    eval_database = CrowdBotDatabase(folder=eval_dir)\n",
    "\n",
    "    m_dict = {'seq': eval_database.seqs}\n",
    "    m_dict.update({'control_type': [eval_dir[5:] for i in range(eval_database.nr_seqs())]})\n",
    "    m_dict.update({k: [] for k in metrics})\n",
    "\n",
    "    for idx, seq in enumerate(eval_database.seqs):\n",
    "        eval_res_dir = os.path.join(eval_database.metrics_dir)\n",
    "        crowd_eval_npy = os.path.join(eval_res_dir, seq + \"_crowd_eval.npy\")\n",
    "        crowd_eval_dict = np.load(crowd_eval_npy, \n",
    "                                  allow_pickle=True,\n",
    "                                 ).item()\n",
    "\n",
    "        for iidx, val in enumerate(metrics):\n",
    "            m_dict[metrics[iidx]].append(crowd_eval_dict[val])\n",
    "\n",
    "    dir_df = pd.DataFrame(m_dict)\n",
    "    dir_df.columns = ['seq', 'control_type'] + list(metrics)\n",
    "    \n",
    "    frames.append(dir_df)\n",
    "    \n",
    "crowd_metrics_df = pd.concat(frames)\n",
    "\n",
    "# crowd__metrics_df.head()\n",
    "print(crowd_metrics_df.to_string(index=False))"
   ]
  },
  {
   "cell_type": "markdown",
   "metadata": {},
   "source": [
    "- choose specific control type"
   ]
  },
  {
   "cell_type": "code",
   "execution_count": 10,
   "metadata": {},
   "outputs": [
    {
     "data": {
      "text/html": [
       "<div>\n",
       "<style scoped>\n",
       "    .dataframe tbody tr th:only-of-type {\n",
       "        vertical-align: middle;\n",
       "    }\n",
       "\n",
       "    .dataframe tbody tr th {\n",
       "        vertical-align: top;\n",
       "    }\n",
       "\n",
       "    .dataframe thead th {\n",
       "        text-align: right;\n",
       "    }\n",
       "</style>\n",
       "<table border=\"1\" class=\"dataframe\">\n",
       "  <thead>\n",
       "    <tr style=\"text-align: right;\">\n",
       "      <th></th>\n",
       "      <th>seq</th>\n",
       "      <th>control_type</th>\n",
       "      <th>avg_crowd_density5</th>\n",
       "      <th>avg_crowd_density10</th>\n",
       "      <th>avg_min_dist</th>\n",
       "    </tr>\n",
       "  </thead>\n",
       "  <tbody>\n",
       "    <tr>\n",
       "      <th>0</th>\n",
       "      <td>2021-04-24-13-07-54</td>\n",
       "      <td>shared_control</td>\n",
       "      <td>0.149252</td>\n",
       "      <td>0.069288</td>\n",
       "      <td>1.733505</td>\n",
       "    </tr>\n",
       "    <tr>\n",
       "      <th>1</th>\n",
       "      <td>2021-04-24-13-11-03</td>\n",
       "      <td>shared_control</td>\n",
       "      <td>0.140995</td>\n",
       "      <td>0.069307</td>\n",
       "      <td>1.766926</td>\n",
       "    </tr>\n",
       "    <tr>\n",
       "      <th>2</th>\n",
       "      <td>2021-04-24-13-14-49</td>\n",
       "      <td>shared_control</td>\n",
       "      <td>0.157753</td>\n",
       "      <td>0.074547</td>\n",
       "      <td>1.722914</td>\n",
       "    </tr>\n",
       "    <tr>\n",
       "      <th>3</th>\n",
       "      <td>2021-04-24-13-16-58</td>\n",
       "      <td>shared_control</td>\n",
       "      <td>0.169079</td>\n",
       "      <td>0.082017</td>\n",
       "      <td>1.712375</td>\n",
       "    </tr>\n",
       "    <tr>\n",
       "      <th>4</th>\n",
       "      <td>2021-04-24-13-20-05</td>\n",
       "      <td>shared_control</td>\n",
       "      <td>0.165287</td>\n",
       "      <td>0.077891</td>\n",
       "      <td>1.715448</td>\n",
       "    </tr>\n",
       "    <tr>\n",
       "      <th>5</th>\n",
       "      <td>2021-04-24-13-22-52</td>\n",
       "      <td>shared_control</td>\n",
       "      <td>0.141218</td>\n",
       "      <td>0.057149</td>\n",
       "      <td>1.650139</td>\n",
       "    </tr>\n",
       "    <tr>\n",
       "      <th>6</th>\n",
       "      <td>2021-04-24-13-22-52-002</td>\n",
       "      <td>shared_control</td>\n",
       "      <td>0.141218</td>\n",
       "      <td>0.057149</td>\n",
       "      <td>1.650139</td>\n",
       "    </tr>\n",
       "    <tr>\n",
       "      <th>7</th>\n",
       "      <td>2021-04-24-13-25-24-001</td>\n",
       "      <td>shared_control</td>\n",
       "      <td>0.132688</td>\n",
       "      <td>0.064677</td>\n",
       "      <td>1.887133</td>\n",
       "    </tr>\n",
       "    <tr>\n",
       "      <th>8</th>\n",
       "      <td>2021-04-24-13-27-09-003</td>\n",
       "      <td>shared_control</td>\n",
       "      <td>0.114643</td>\n",
       "      <td>0.055257</td>\n",
       "      <td>1.940999</td>\n",
       "    </tr>\n",
       "  </tbody>\n",
       "</table>\n",
       "</div>"
      ],
      "text/plain": [
       "                       seq    control_type  avg_crowd_density5  \\\n",
       "0      2021-04-24-13-07-54  shared_control            0.149252   \n",
       "1      2021-04-24-13-11-03  shared_control            0.140995   \n",
       "2      2021-04-24-13-14-49  shared_control            0.157753   \n",
       "3      2021-04-24-13-16-58  shared_control            0.169079   \n",
       "4      2021-04-24-13-20-05  shared_control            0.165287   \n",
       "5      2021-04-24-13-22-52  shared_control            0.141218   \n",
       "6  2021-04-24-13-22-52-002  shared_control            0.141218   \n",
       "7  2021-04-24-13-25-24-001  shared_control            0.132688   \n",
       "8  2021-04-24-13-27-09-003  shared_control            0.114643   \n",
       "\n",
       "   avg_crowd_density10  avg_min_dist  \n",
       "0             0.069288      1.733505  \n",
       "1             0.069307      1.766926  \n",
       "2             0.074547      1.722914  \n",
       "3             0.082017      1.712375  \n",
       "4             0.077891      1.715448  \n",
       "5             0.057149      1.650139  \n",
       "6             0.057149      1.650139  \n",
       "7             0.064677      1.887133  \n",
       "8             0.055257      1.940999  "
      ]
     },
     "execution_count": 10,
     "metadata": {},
     "output_type": "execute_result"
    }
   ],
   "source": [
    "crowd_metrics_df[crowd_metrics_df.control_type == 'shared_control']"
   ]
  },
  {
   "cell_type": "markdown",
   "metadata": {},
   "source": [
    "- calculate std and mean according to `control_type`"
   ]
  },
  {
   "cell_type": "code",
   "execution_count": 11,
   "metadata": {},
   "outputs": [
    {
     "name": "stdout",
     "output_type": "stream",
     "text": [
      "### mds\n",
      "# mean\n",
      "avg_crowd_density5     0.127617\n",
      "avg_crowd_density10    0.061701\n",
      "avg_min_dist           1.838945\n",
      "dtype: float32\n",
      "# std\n",
      "avg_crowd_density5     0.022556\n",
      "avg_crowd_density10    0.008016\n",
      "avg_min_dist           0.203941\n",
      "dtype: float32\n",
      "\n",
      "### rds\n",
      "# mean\n",
      "avg_crowd_density5     0.146772\n",
      "avg_crowd_density10    0.067548\n",
      "avg_min_dist           1.649443\n",
      "dtype: float32\n",
      "# std\n",
      "avg_crowd_density5     0.017005\n",
      "avg_crowd_density10    0.006204\n",
      "avg_min_dist           0.126387\n",
      "dtype: float32\n",
      "\n",
      "### shared_control\n",
      "# mean\n",
      "avg_crowd_density5     0.145792\n",
      "avg_crowd_density10    0.067476\n",
      "avg_min_dist           1.753286\n",
      "dtype: float32\n",
      "# std\n",
      "avg_crowd_density5     0.016898\n",
      "avg_crowd_density10    0.009663\n",
      "avg_min_dist           0.099395\n",
      "dtype: float32\n",
      "\n"
     ]
    }
   ],
   "source": [
    "crowd_metrics_df_ = crowd_metrics_df.drop(['seq'], axis=1)\n",
    "\n",
    "# pandas.core.series.Series\n",
    "for ctrl in control_types:\n",
    "    print(\"###\", ctrl)\n",
    "    print(\"# mean\")\n",
    "    print(crowd_metrics_df_[crowd_metrics_df_.control_type == ctrl].mean(numeric_only=True))\n",
    "    print(\"# std\")\n",
    "    print(crowd_metrics_df_[crowd_metrics_df_.control_type == ctrl].std(numeric_only=True))\n",
    "    print()"
   ]
  },
  {
   "cell_type": "markdown",
   "metadata": {},
   "source": [
    "- using [df.boxplot](https://pandas.pydata.org/docs/reference/api/pandas.DataFrame.boxplot.html) inside pandas"
   ]
  },
  {
   "cell_type": "code",
   "execution_count": 12,
   "metadata": {
    "scrolled": true
   },
   "outputs": [],
   "source": [
    "# fig, ax = plt.subplots(figsize=(7,5))\n",
    "# boxplot = crowd_metrics_df_.boxplot(ax=ax)\n",
    "# plt.show()\n",
    "\n",
    "# color = {\n",
    "#     \"boxes\": \"DarkGreen\",\n",
    "#     \"whiskers\": \"DarkOrange\",\n",
    "#     \"medians\": \"DarkBlue\",\n",
    "#     \"caps\": \"Gray\",\n",
    "# }\n",
    "# crowd_metrics_df_.plot.box(color=color, sym=\"r\")"
   ]
  },
  {
   "cell_type": "markdown",
   "metadata": {},
   "source": [
    "- using sns.violinplot/boxplot"
   ]
  },
  {
   "cell_type": "code",
   "execution_count": 13,
   "metadata": {},
   "outputs": [
    {
     "data": {
      "image/png": "[encoded data removed]",
      "text/plain": [
       "<Figure size 504x360 with 1 Axes>"
      ]
     },
     "metadata": {
      "needs_background": "light"
     },
     "output_type": "display_data"
    }
   ],
   "source": [
    "fig1, axes1 = plt.subplots(figsize=(7,5))\n",
    "\n",
    "sns.violinplot(x='control_type',y='avg_crowd_density5', data=crowd_metrics_df_, ax = axes1)\n",
    "\n",
    "axes1.set_title('Crowd Density within 5 m of qolo')\n",
    "axes1.yaxis.grid(True)\n",
    "axes1.set_xlabel('Control type')\n",
    "axes1.set_ylabel('Density [1/$m^2$]')\n",
    "axes1.set_ylim(bottom=0.0, top=0.2)\n",
    "\n",
    "plt.show()"
   ]
  },
  {
   "cell_type": "code",
   "execution_count": 14,
   "metadata": {},
   "outputs": [
    {
     "data": {
      "image/png": "[encoded data removed]",
      "text/plain": [
       "<Figure size 504x360 with 1 Axes>"
      ]
     },
     "metadata": {
      "needs_background": "light"
     },
     "output_type": "display_data"
    }
   ],
   "source": [
    "fig1, axes1 = plt.subplots(figsize=(7,5))\n",
    "\n",
    "sns.violinplot(x='control_type',y='avg_crowd_density10', data=crowd_metrics_df_, ax = axes1)\n",
    "\n",
    "axes1.set_title('Crowd Density within 10 m of qolo')\n",
    "axes1.yaxis.grid(True)\n",
    "axes1.set_xlabel('Control type')\n",
    "axes1.set_ylabel('Density [1/$m^2$]')\n",
    "axes1.set_ylim(bottom=0.0, top=0.2)\n",
    "\n",
    "plt.show()"
   ]
  },
  {
   "cell_type": "code",
   "execution_count": 17,
   "metadata": {},
   "outputs": [
    {
     "data": {
      "image/png": "[encoded data removed]",
      "text/plain": [
       "<Figure size 504x360 with 1 Axes>"
      ]
     },
     "metadata": {
      "needs_background": "light"
     },
     "output_type": "display_data"
    }
   ],
   "source": [
    "fig1, axes1 = plt.subplots(figsize=(7,5))\n",
    "\n",
    "sns.violinplot(x='control_type',y='avg_min_dist', data=crowd_metrics_df_, ax = axes1)\n",
    "\n",
    "axes1.set_title('Min. Distance of Pedestrain from qolo')\n",
    "axes1.yaxis.grid(True)\n",
    "axes1.set_xlabel('Control type')\n",
    "axes1.set_ylabel('Distance [m]')\n",
    "axes1.set_ylim(bottom=0.0, top=5.0)\n",
    "\n",
    "plt.show()"
   ]
  },
  {
   "cell_type": "markdown",
   "metadata": {},
   "source": [
    "#### Path Efficiency-related metrics"
   ]
  },
  {
   "cell_type": "code",
   "execution_count": null,
   "metadata": {},
   "outputs": [],
   "source": []
  },
  {
   "cell_type": "markdown",
   "metadata": {},
   "source": [
    "#### Shared control-related metrics"
   ]
  },
  {
   "cell_type": "code",
   "execution_count": null,
   "metadata": {},
   "outputs": [],
   "source": []
  },
  {
   "cell_type": "markdown",
   "metadata": {},
   "source": [
    "## Archive "
   ]
  },
  {
   "cell_type": "code",
   "execution_count": 6,
   "metadata": {},
   "outputs": [],
   "source": [
    "example_class = 'shared_test'\n",
    "example_seq = '2021-04-10-12-36-29'"
   ]
  },
  {
   "cell_type": "code",
   "execution_count": null,
   "metadata": {},
   "outputs": [],
   "source": [
    "data_processed = example_class + '_processed'\n",
    "metrics_dir = os.path.join(qolo_dataset.outbase_dir, data_processed, 'metrics')\n",
    "source_data_dir = os.path.join(qolo_dataset.outbase_dir, data_processed, 'source_data')"
   ]
  },
  {
   "cell_type": "code",
   "execution_count": 1,
   "metadata": {
    "scrolled": true
   },
   "outputs": [
    {
     "ename": "NameError",
     "evalue": "name 'example_class' is not defined",
     "output_type": "error",
     "traceback": [
      "\u001b[0;31m---------------------------------------------------------------------------\u001b[0m",
      "\u001b[0;31mNameError\u001b[0m                                 Traceback (most recent call last)",
      "\u001b[0;32m/tmp/ipykernel_1976081/1113722154.py\u001b[0m in \u001b[0;36m<module>\u001b[0;34m\u001b[0m\n\u001b[0;32m----> 1\u001b[0;31m \u001b[0mdata_processed\u001b[0m \u001b[0;34m=\u001b[0m \u001b[0mexample_class\u001b[0m \u001b[0;34m+\u001b[0m \u001b[0;34m'_processed'\u001b[0m\u001b[0;34m\u001b[0m\u001b[0;34m\u001b[0m\u001b[0m\n\u001b[0m\u001b[1;32m      2\u001b[0m \u001b[0mmetrics_dir\u001b[0m \u001b[0;34m=\u001b[0m \u001b[0mos\u001b[0m\u001b[0;34m.\u001b[0m\u001b[0mpath\u001b[0m\u001b[0;34m.\u001b[0m\u001b[0mjoin\u001b[0m\u001b[0;34m(\u001b[0m\u001b[0mqolo_dataset\u001b[0m\u001b[0;34m.\u001b[0m\u001b[0moutbase_dir\u001b[0m\u001b[0;34m,\u001b[0m \u001b[0mdata_processed\u001b[0m\u001b[0;34m,\u001b[0m \u001b[0;34m'metrics'\u001b[0m\u001b[0;34m)\u001b[0m\u001b[0;34m\u001b[0m\u001b[0;34m\u001b[0m\u001b[0m\n\u001b[1;32m      3\u001b[0m \u001b[0msource_data_dir\u001b[0m \u001b[0;34m=\u001b[0m \u001b[0mos\u001b[0m\u001b[0;34m.\u001b[0m\u001b[0mpath\u001b[0m\u001b[0;34m.\u001b[0m\u001b[0mjoin\u001b[0m\u001b[0;34m(\u001b[0m\u001b[0mqolo_dataset\u001b[0m\u001b[0;34m.\u001b[0m\u001b[0moutbase_dir\u001b[0m\u001b[0;34m,\u001b[0m \u001b[0mdata_processed\u001b[0m\u001b[0;34m,\u001b[0m \u001b[0;34m'source_data'\u001b[0m\u001b[0;34m)\u001b[0m\u001b[0;34m\u001b[0m\u001b[0;34m\u001b[0m\u001b[0m\n\u001b[1;32m      4\u001b[0m \u001b[0;34m\u001b[0m\u001b[0m\n\u001b[1;32m      5\u001b[0m \u001b[0;32mfor\u001b[0m \u001b[0mroot\u001b[0m\u001b[0;34m,\u001b[0m \u001b[0mdirs\u001b[0m\u001b[0;34m,\u001b[0m \u001b[0mfiles\u001b[0m \u001b[0;32min\u001b[0m \u001b[0mos\u001b[0m\u001b[0;34m.\u001b[0m\u001b[0mwalk\u001b[0m\u001b[0;34m(\u001b[0m\u001b[0mmetrics_dir\u001b[0m\u001b[0;34m,\u001b[0m \u001b[0mtopdown\u001b[0m\u001b[0;34m=\u001b[0m\u001b[0;32mFalse\u001b[0m\u001b[0;34m)\u001b[0m\u001b[0;34m:\u001b[0m\u001b[0;34m\u001b[0m\u001b[0;34m\u001b[0m\u001b[0m\n",
      "\u001b[0;31mNameError\u001b[0m: name 'example_class' is not defined"
     ]
    }
   ],
   "source": [
    "for root, dirs, files in os.walk(metrics_dir, topdown=False):\n",
    "    for name in files:\n",
    "        if (example_seq in name) and name[-4:]=='.npy':\n",
    "            print(\"\\n{}\".format(os.path.join(root, name)))\n",
    "            dict_tmp = np.load(os.path.join(root, name), allow_pickle=True).item()\n",
    "            for idx, key in enumerate(dict_tmp.keys()):\n",
    "                print(idx, key)\n",
    "            \n",
    "for root, dirs, files in os.walk(source_data_dir, topdown=False):\n",
    "    for name in files:\n",
    "        if (example_seq in name) and name[-4:]=='.npy':\n",
    "            print(\"\\n{}\".format(os.path.join(root, name)))\n",
    "            dict_tmp = np.load(os.path.join(root, name), allow_pickle=True).item()\n",
    "            for idx, key in enumerate(dict_tmp.keys()):\n",
    "                print(idx, key)"
   ]
  },
  {
   "cell_type": "code",
   "execution_count": 4,
   "metadata": {},
   "outputs": [
    {
     "name": "stdout",
     "output_type": "stream",
     "text": [
      "/home/crowdbot/Documents/yujie/lasa_crowdbot_tools/../data-crowdbot/mds/metrics/\n"
     ]
    },
    {
     "ename": "FileNotFoundError",
     "evalue": "[Errno 2] No such file or directory: '/home/crowdbot/Documents/yujie/lasa_crowdbot_tools/../data-crowdbot/mds/metrics/'",
     "output_type": "error",
     "traceback": [
      "\u001b[0;31m---------------------------------------------------------------------------\u001b[0m",
      "\u001b[0;31mFileNotFoundError\u001b[0m                         Traceback (most recent call last)",
      "\u001b[0;32m/tmp/ipykernel_1778001/1957526395.py\u001b[0m in \u001b[0;36m<module>\u001b[0;34m\u001b[0m\n\u001b[1;32m     10\u001b[0m \u001b[0mprint\u001b[0m\u001b[0;34m(\u001b[0m\u001b[0mfullPath\u001b[0m\u001b[0;34m)\u001b[0m\u001b[0;34m\u001b[0m\u001b[0;34m\u001b[0m\u001b[0m\n\u001b[1;32m     11\u001b[0m \u001b[0;34m\u001b[0m\u001b[0m\n\u001b[0;32m---> 12\u001b[0;31m \u001b[0mmds_files\u001b[0m \u001b[0;34m=\u001b[0m \u001b[0mfnmatch\u001b[0m\u001b[0;34m.\u001b[0m\u001b[0mfilter\u001b[0m\u001b[0;34m(\u001b[0m\u001b[0mos\u001b[0m\u001b[0;34m.\u001b[0m\u001b[0mlistdir\u001b[0m\u001b[0;34m(\u001b[0m\u001b[0mpath\u001b[0m\u001b[0;34m=\u001b[0m\u001b[0mfullPath\u001b[0m\u001b[0;34m)\u001b[0m\u001b[0;34m,\u001b[0m \u001b[0;34m\"*.npy\"\u001b[0m\u001b[0;34m)\u001b[0m\u001b[0;34m\u001b[0m\u001b[0;34m\u001b[0m\u001b[0m\n\u001b[0m\u001b[1;32m     13\u001b[0m \u001b[0;34m\u001b[0m\u001b[0m\n\u001b[1;32m     14\u001b[0m \u001b[0mprint\u001b[0m\u001b[0;34m(\u001b[0m\u001b[0mmds_files\u001b[0m\u001b[0;34m)\u001b[0m\u001b[0;34m\u001b[0m\u001b[0;34m\u001b[0m\u001b[0m\n",
      "\u001b[0;31mFileNotFoundError\u001b[0m: [Errno 2] No such file or directory: '/home/crowdbot/Documents/yujie/lasa_crowdbot_tools/../data-crowdbot/mds/metrics/'"
     ]
    }
   ],
   "source": [
    "main_dir = os.path.join(os.path.dirname(sys.path[0]), os.pardir)\n",
    "# print(main_dir)\n",
    "\n",
    "data_dir = os.path.join(main_dir,'data-crowdbot/')\n",
    "control_type = ['rds/', 'shared_control/','mds/']\n",
    "data_type = ['metrics/', 'pose_stamped', 'source_data']\n",
    "\n",
    "# Testing directories:\n",
    "fullPath = data_dir+control_type[2]+data_type[0]\n",
    "print(fullPath)\n",
    "\n",
    "mds_files = fnmatch.filter(os.listdir(path=fullPath), \"*.npy\")\n",
    "\n",
    "print(mds_files)"
   ]
  },
  {
   "cell_type": "code",
   "execution_count": 30,
   "metadata": {},
   "outputs": [
    {
     "name": "stdout",
     "output_type": "stream",
     "text": [
      "2021-04-24-11-20-18_crowd_eval.npy\n",
      "[0.10185917 0.11459156 0.11777466 ... 0.07321128 0.07957747 0.07957747]\n"
     ]
    }
   ],
   "source": [
    "mds_tests = list()\n",
    "rds_tests = list()\n",
    "sh_tests = list()\n",
    "\n",
    "rds_path = data_dir+control_type[0]+data_type[0]\n",
    "rds_files = fnmatch.filter(os.listdir(path=rds_path), \"*.npy\")\n",
    "\n",
    "shared_control_path = data_dir+control_type[1]+data_type[0]\n",
    "shared_control_files = fnmatch.filter(os.listdir(path=shared_control_path), \"*.npy\")\n",
    "\n",
    "mds_path = data_dir+control_type[2]+data_type[0]\n",
    "mds_files = fnmatch.filter(os.listdir(path=mds_path), \"*.npy\")\n",
    "\n",
    "print(rds_files[0])\n",
    "rds_test = dict()\n",
    "rds_test = np.load(rds_path+rds_files[0], allow_pickle=True).item()\n",
    "rds_test['crowd_density10']\n",
    "\n",
    "# TODO-1: Read the qolo_eval files and extract controller metrics\n",
    "\n",
    "# print(rds_test['path_lenth2goal'])"
   ]
  },
  {
   "cell_type": "markdown",
   "metadata": {},
   "source": [
    "## Crowd \n",
    "1. Crowd Density (within an area of 10m around the robot):\n",
    "evalMetricCrowdDensity(npy_files_directory, plot_result=False)\n",
    "2. Minimal distance to pedestrians: mean+SD: \n",
    "evalMetricProximity(npy_files_directory, plot_result=False):\n",
    "\n",
    "2. Normalized proximity to surrounding pedestrians : SD(d1..dn) / avg(d1...dn)\n",
    "\n"
   ]
  },
  {
   "cell_type": "code",
   "execution_count": null,
   "metadata": {},
   "outputs": [
    {
     "data": {
      "image/png": "[encoded data removed]",
      "text/plain": [
       "<Figure size 432x288 with 1 Axes>"
      ]
     },
     "metadata": {
      "needs_background": "light"
     },
     "output_type": "display_data"
    }
   ],
   "source": [
    "plot_results = True\n",
    "flag_tracker = False\n",
    "\n",
    "test_dir = rds_tests[0]\n",
    "density_detect = evalMetricCrowdDensity(test_dir,False,plot_results)\n",
    "\n",
    "# density_track = evalMetricCrowdDensity(test_dir,True,plot_results)\n",
    "\n",
    "min_dist = evalMetricProximity(test_dir, plot_results)"
   ]
  },
  {
   "cell_type": "markdown",
   "metadata": {},
   "source": [
    "## Path Efficiency \n",
    "1. Relative time to goal (normalized by the goal distance)\n",
    "2. Relative path length (normalized by the goal distance in straight line): \n",
    "evalMetricsPathAndTimeToGoal(npy_files_directory, plot_result=False):\n",
    "\n",
    "3. Relative Jerk (smoothness of the path as added sum of linear and angular jerk): \n"
   ]
  },
  {
   "cell_type": "code",
   "execution_count": null,
   "metadata": {},
   "outputs": [],
   "source": [
    "plot_results = True\n",
    "# path_length_to_goal, time_duration_to_goal, min_dist (to the Attractor)\n",
    "evalMetricsPathAndTimeToGoal(test_dir, plot_results)"
   ]
  },
  {
   "cell_type": "markdown",
   "metadata": {},
   "source": [
    "## Shared Control \n",
    "1. Agreement\n",
    "2. Fluency\n",
    "3. Entropy\n",
    "\n",
    "shared_control(npy_files_directory, plot_result=False)"
   ]
  },
  {
   "cell_type": "code",
   "execution_count": null,
   "metadata": {},
   "outputs": [],
   "source": [
    "# metrics['fluency']['mean'] = \n",
    "\n",
    "fluency, linear_dis, heading_dis, disagreement = MetricsSharedControl(test_dir, plot_results)\n",
    "print(linear_dis)\n",
    "print(heading_dis)\n",
    "\n"
   ]
  },
  {
   "cell_type": "code",
   "execution_count": null,
   "metadata": {},
   "outputs": [],
   "source": []
  },
  {
   "cell_type": "code",
   "execution_count": null,
   "metadata": {},
   "outputs": [],
   "source": []
  }
 ],
 "metadata": {
  "kernelspec": {
   "display_name": "Python 3.8.12 64-bit ('py38cuda110': conda)",
   "language": "python",
   "name": "python3812jvsc74a57bd04c6b102e5d13e1fecd509d7afca2a015b7aa951d14e261cb21795c62f51c11cb"
  },
  "language_info": {
   "codemirror_mode": {
    "name": "ipython",
    "version": 3
   },
   "file_extension": ".py",
   "mimetype": "text/x-python",
   "name": "python",
   "nbconvert_exporter": "python",
   "pygments_lexer": "ipython3",
   "version": "3.8.12"
  },
  "toc": {
   "base_numbering": 1,
   "nav_menu": {},
   "number_sections": true,
   "sideBar": true,
   "skip_h1_title": true,
   "title_cell": "Table of Contents",
   "title_sidebar": "Contents",
   "toc_cell": true,
   "toc_position": {},
   "toc_section_display": true,
   "toc_window_display": true
  }
 },
 "nbformat": 4,
 "nbformat_minor": 4
}
