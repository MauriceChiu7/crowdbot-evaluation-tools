{
 "cells": [
  {
   "cell_type": "markdown",
   "metadata": {
    "toc": true
   },
   "source": [
    "<h1>Table of Contents<span class=\"tocSkip\"></span></h1>\n",
    "<div class=\"toc\"><ul class=\"toc-item\"><li><span><a href=\"#Libraries-&amp;-settings\" data-toc-modified-id=\"Libraries-&amp;-settings-1\"><span class=\"toc-item-num\">1&nbsp;&nbsp;</span>Libraries &amp; settings</a></span></li><li><span><a href=\"#Metrics\" data-toc-modified-id=\"Metrics-2\"><span class=\"toc-item-num\">2&nbsp;&nbsp;</span>Metrics</a></span><ul class=\"toc-item\"><li><span><a href=\"#Crowd-related\" data-toc-modified-id=\"Crowd-related-2.1\"><span class=\"toc-item-num\">2.1&nbsp;&nbsp;</span>Crowd-related</a></span></li><li><span><a href=\"#Path-efficiency-related\" data-toc-modified-id=\"Path-efficiency-related-2.2\"><span class=\"toc-item-num\">2.2&nbsp;&nbsp;</span>Path efficiency-related</a></span></li><li><span><a href=\"#Control-related\" data-toc-modified-id=\"Control-related-2.3\"><span class=\"toc-item-num\">2.3&nbsp;&nbsp;</span>Control-related</a></span></li></ul></li><li><span><a href=\"#Pipeline\" data-toc-modified-id=\"Pipeline-3\"><span class=\"toc-item-num\">3&nbsp;&nbsp;</span>Pipeline</a></span><ul class=\"toc-item\"><li><span><a href=\"#Result-loading\" data-toc-modified-id=\"Result-loading-3.1\"><span class=\"toc-item-num\">3.1&nbsp;&nbsp;</span>Result loading</a></span></li><li><span><a href=\"#Mean-Std-statistics\" data-toc-modified-id=\"Mean-Std-statistics-3.2\"><span class=\"toc-item-num\">3.2&nbsp;&nbsp;</span>Mean-Std statistics</a></span></li><li><span><a href=\"#ANOVA-test-for-controller-comparison\" data-toc-modified-id=\"ANOVA-test-for-controller-comparison-3.3\"><span class=\"toc-item-num\">3.3&nbsp;&nbsp;</span>ANOVA test for controller comparison</a></span></li><li><span><a href=\"#Visualize-with-grouping-by-date\" data-toc-modified-id=\"Visualize-with-grouping-by-date-3.4\"><span class=\"toc-item-num\">3.4&nbsp;&nbsp;</span>Visualize with grouping by date</a></span><ul class=\"toc-item\"><li><span><a href=\"#Palette-settings\" data-toc-modified-id=\"Palette-settings-3.4.1\"><span class=\"toc-item-num\">3.4.1&nbsp;&nbsp;</span>Palette settings</a></span></li><li><span><a href=\"#Crowd-related-metrics\" data-toc-modified-id=\"Crowd-related-metrics-3.4.2\"><span class=\"toc-item-num\">3.4.2&nbsp;&nbsp;</span>Crowd-related metrics</a></span><ul class=\"toc-item\"><li><span><a href=\"#4-in-1-plotting\" data-toc-modified-id=\"4-in-1-plotting-3.4.2.1\"><span class=\"toc-item-num\">3.4.2.1&nbsp;&nbsp;</span>4-in-1 plotting</a></span></li><li><span><a href=\"#Individual-figutes\" data-toc-modified-id=\"Individual-figutes-3.4.2.2\"><span class=\"toc-item-num\">3.4.2.2&nbsp;&nbsp;</span>Individual figutes</a></span></li></ul></li><li><span><a href=\"#Path-efficiency-related-metrics\" data-toc-modified-id=\"Path-efficiency-related-metrics-3.4.3\"><span class=\"toc-item-num\">3.4.3&nbsp;&nbsp;</span>Path efficiency-related metrics</a></span><ul class=\"toc-item\"><li><span><a href=\"#2-in-1-plotting\" data-toc-modified-id=\"2-in-1-plotting-3.4.3.1\"><span class=\"toc-item-num\">3.4.3.1&nbsp;&nbsp;</span>2-in-1 plotting</a></span></li><li><span><a href=\"#Individual-figutes\" data-toc-modified-id=\"Individual-figutes-3.4.3.2\"><span class=\"toc-item-num\">3.4.3.2&nbsp;&nbsp;</span>Individual figutes</a></span></li></ul></li><li><span><a href=\"#Shared-control-related-metrics\" data-toc-modified-id=\"Shared-control-related-metrics-3.4.4\"><span class=\"toc-item-num\">3.4.4&nbsp;&nbsp;</span>Shared control-related metrics</a></span><ul class=\"toc-item\"><li><span><a href=\"#4-in-1-plotting\" data-toc-modified-id=\"4-in-1-plotting-3.4.4.1\"><span class=\"toc-item-num\">3.4.4.1&nbsp;&nbsp;</span>4-in-1 plotting</a></span></li><li><span><a href=\"#Individual-figutes\" data-toc-modified-id=\"Individual-figutes-3.4.4.2\"><span class=\"toc-item-num\">3.4.4.2&nbsp;&nbsp;</span>Individual figutes</a></span></li></ul></li></ul></li><li><span><a href=\"#Visualize-without-grouping-by-date\" data-toc-modified-id=\"Visualize-without-grouping-by-date-3.5\"><span class=\"toc-item-num\">3.5&nbsp;&nbsp;</span>Visualize without grouping by date</a></span><ul class=\"toc-item\"><li><span><a href=\"#Palette-settings\" data-toc-modified-id=\"Palette-settings-3.5.1\"><span class=\"toc-item-num\">3.5.1&nbsp;&nbsp;</span>Palette settings</a></span></li><li><span><a href=\"#Crowd-related-metrics\" data-toc-modified-id=\"Crowd-related-metrics-3.5.2\"><span class=\"toc-item-num\">3.5.2&nbsp;&nbsp;</span>Crowd-related metrics</a></span><ul class=\"toc-item\"><li><span><a href=\"#4-in-1-plotting\" data-toc-modified-id=\"4-in-1-plotting-3.5.2.1\"><span class=\"toc-item-num\">3.5.2.1&nbsp;&nbsp;</span>4-in-1 plotting</a></span></li><li><span><a href=\"#Individual-figutes\" data-toc-modified-id=\"Individual-figutes-3.5.2.2\"><span class=\"toc-item-num\">3.5.2.2&nbsp;&nbsp;</span>Individual figutes</a></span></li></ul></li><li><span><a href=\"#Path-efficiency-related-metrics\" data-toc-modified-id=\"Path-efficiency-related-metrics-3.5.3\"><span class=\"toc-item-num\">3.5.3&nbsp;&nbsp;</span>Path efficiency-related metrics</a></span><ul class=\"toc-item\"><li><span><a href=\"#2-in-1-plotting\" data-toc-modified-id=\"2-in-1-plotting-3.5.3.1\"><span class=\"toc-item-num\">3.5.3.1&nbsp;&nbsp;</span>2-in-1 plotting</a></span></li><li><span><a href=\"#Individual-figutes\" data-toc-modified-id=\"Individual-figutes-3.5.3.2\"><span class=\"toc-item-num\">3.5.3.2&nbsp;&nbsp;</span>Individual figutes</a></span></li></ul></li><li><span><a href=\"#Shared-control-related-metrics\" data-toc-modified-id=\"Shared-control-related-metrics-3.5.4\"><span class=\"toc-item-num\">3.5.4&nbsp;&nbsp;</span>Shared control-related metrics</a></span><ul class=\"toc-item\"><li><span><a href=\"#4-in-1-plotting\" data-toc-modified-id=\"4-in-1-plotting-3.5.4.1\"><span class=\"toc-item-num\">3.5.4.1&nbsp;&nbsp;</span>4-in-1 plotting</a></span></li><li><span><a href=\"#Individual-figutes\" data-toc-modified-id=\"Individual-figutes-3.5.4.2\"><span class=\"toc-item-num\">3.5.4.2&nbsp;&nbsp;</span>Individual figutes</a></span></li></ul></li></ul></li></ul></li></ul></div>"
   ]
  },
  {
   "cell_type": "markdown",
   "metadata": {},
   "source": [
    "# Controller comparison analysis\n",
    "\n",
    "> Analysis of different control methods on April 10 and April 24 data"
   ]
  },
  {
   "cell_type": "markdown",
   "metadata": {},
   "source": [
    "## Libraries & settings"
   ]
  },
  {
   "cell_type": "code",
   "execution_count": 1,
   "metadata": {},
   "outputs": [],
   "source": [
    "import math\n",
    "import datetime\n",
    "import collections\n",
    "import sys, os, fnmatch\n",
    "from pathlib import Path\n",
    "\n",
    "import numpy as np\n",
    "import pandas as pd\n",
    "import scipy.stats as stats\n",
    "\n",
    "import matplotlib as mpl\n",
    "import matplotlib.pyplot as plt\n",
    "\n",
    "# use serif and customized style\n",
    "# https://stackoverflow.com/questions/42097053/matplotlib-cannot-find-basic-fonts\n",
    "# https://matplotlib.org/stable/tutorials/text/mathtext.html\n",
    "# https://matplotlib.org/stable/tutorials/introductory/customizing.html\n",
    "use_serif_font = True\n",
    "if use_serif_font:\n",
    "    plt.style.use('./styles/serif.mplstyle')\n",
    "else:\n",
    "    plt.style.use('./styles/sans_serif.mplstyle')\n",
    "\n",
    "plt.ioff()\n",
    "import seaborn as sns\n",
    "sns.set_context(\"paper\", font_scale=1.2, rc={\"lines.linewidth\": 1.3})\n",
    "\n",
    "from qolo.utils.notebook_util import (\n",
    "    walk,\n",
    "    values2colors,\n",
    "    values2color_list,\n",
    "    violinplot,\n",
    "    categorical_plot,\n",
    "    barplot_annotate_brackets,\n",
    "    import_eval_res,\n",
    ")\n",
    "from qolo.core.crowdbot_data import CrowdBotDatabase, CrowdBotData\n",
    "from qolo.metrics.metric_qolo_perf import compute_rel_jerk"
   ]
  },
  {
   "cell_type": "markdown",
   "metadata": {},
   "source": [
    "## Metrics"
   ]
  },
  {
   "cell_type": "markdown",
   "metadata": {},
   "source": [
    "### Crowd-related\n",
    "\n",
    "1. (Main) Crowd Density (within an area of 10m around the robot):\n",
    "2. (Main) Minimal distance to pedestrians: mean+SD: \n",
    "3. Minimum distance to surrounding pedestrians "
   ]
  },
  {
   "cell_type": "code",
   "execution_count": 2,
   "metadata": {},
   "outputs": [],
   "source": [
    "crowd_metrics = (\n",
    "    'avg_crowd_density2_5',\n",
    "    'std_crowd_density2_5',\n",
    "    'max_crowd_density2_5',\n",
    "    'avg_crowd_density5',\n",
    "    'std_crowd_density5',\n",
    "    'max_crowd_density5',\n",
    "    'avg_min_dist',\n",
    "    'virtual_collision',\n",
    ")"
   ]
  },
  {
   "cell_type": "markdown",
   "metadata": {},
   "source": [
    "### Path efficiency-related\n",
    "\n",
    "1. Relative time to goal (normalized by the goal distance)\n",
    "2. Relative path length (normalized by the goal distance in straight line):"
   ]
  },
  {
   "cell_type": "code",
   "execution_count": 3,
   "metadata": {},
   "outputs": [],
   "source": [
    "path_metrics = (\n",
    "    'rel_duration2goal',\n",
    "    'rel_path_length2goal',\n",
    "    'path_length2goal',\n",
    "    'duration2goal',\n",
    "    'min_dist2goal',\n",
    ")"
   ]
  },
  {
   "cell_type": "markdown",
   "metadata": {},
   "source": [
    "### Control-related\n",
    "\n",
    "1. Agreement\n",
    "    2. Fluency\n",
    "    3. Contribution\n",
    "    4. Relative Jerk (smoothness of the path as added sum of linear and angular jerk)"
   ]
  },
  {
   "cell_type": "code",
   "execution_count": 4,
   "metadata": {},
   "outputs": [],
   "source": [
    "control_metrics = (\n",
    "    'rel_jerk',\n",
    "    'avg_fluency',\n",
    "    'contribution',\n",
    "    'avg_agreement',\n",
    ")"
   ]
  },
  {
   "cell_type": "markdown",
   "metadata": {},
   "source": [
    "## Pipeline"
   ]
  },
  {
   "cell_type": "markdown",
   "metadata": {},
   "source": [
    "### Result loading"
   ]
  },
  {
   "cell_type": "code",
   "execution_count": 5,
   "metadata": {},
   "outputs": [
    {
     "ename": "NameError",
     "evalue": "name 'outbase' is not defined",
     "output_type": "error",
     "traceback": [
      "\u001b[0;31m---------------------------------------------------------------------------\u001b[0m",
      "\u001b[0;31mNameError\u001b[0m                                 Traceback (most recent call last)",
      "\u001b[0;32m/tmp/ipykernel_1949611/3448955891.py\u001b[0m in \u001b[0;36m<module>\u001b[0;34m\u001b[0m\n\u001b[1;32m      4\u001b[0m \u001b[0meval_dirs\u001b[0m \u001b[0;34m=\u001b[0m \u001b[0;34m[\u001b[0m\u001b[0;34m]\u001b[0m\u001b[0;34m\u001b[0m\u001b[0;34m\u001b[0m\u001b[0m\n\u001b[1;32m      5\u001b[0m \u001b[0;34m\u001b[0m\u001b[0m\n\u001b[0;32m----> 6\u001b[0;31m \u001b[0;32mfor\u001b[0m \u001b[0mroot\u001b[0m\u001b[0;34m,\u001b[0m \u001b[0mdirs\u001b[0m\u001b[0;34m,\u001b[0m \u001b[0mfiles\u001b[0m \u001b[0;32min\u001b[0m \u001b[0mwalk\u001b[0m\u001b[0;34m(\u001b[0m\u001b[0moutbase\u001b[0m\u001b[0;34m,\u001b[0m \u001b[0mtopdown\u001b[0m\u001b[0;34m=\u001b[0m\u001b[0;32mFalse\u001b[0m\u001b[0;34m,\u001b[0m \u001b[0mmaxdepth\u001b[0m\u001b[0;34m=\u001b[0m\u001b[0;36m1\u001b[0m\u001b[0;34m)\u001b[0m\u001b[0;34m:\u001b[0m\u001b[0;34m\u001b[0m\u001b[0;34m\u001b[0m\u001b[0m\n\u001b[0m\u001b[1;32m      7\u001b[0m     \u001b[0;32mfor\u001b[0m \u001b[0mdir_\u001b[0m \u001b[0;32min\u001b[0m \u001b[0mdirs\u001b[0m\u001b[0;34m:\u001b[0m\u001b[0;34m\u001b[0m\u001b[0;34m\u001b[0m\u001b[0m\n\u001b[1;32m      8\u001b[0m         \u001b[0;32mif\u001b[0m \u001b[0many\u001b[0m\u001b[0;34m(\u001b[0m\u001b[0ms\u001b[0m \u001b[0;32min\u001b[0m \u001b[0mdir_\u001b[0m \u001b[0;32mfor\u001b[0m \u001b[0ms\u001b[0m \u001b[0;32min\u001b[0m \u001b[0mchosen_dates\u001b[0m\u001b[0;34m)\u001b[0m \u001b[0;32mand\u001b[0m \u001b[0many\u001b[0m\u001b[0;34m(\u001b[0m\u001b[0ms\u001b[0m \u001b[0;32min\u001b[0m \u001b[0mdir_\u001b[0m \u001b[0;32mfor\u001b[0m \u001b[0ms\u001b[0m \u001b[0;32min\u001b[0m \u001b[0mchosen_type\u001b[0m\u001b[0;34m)\u001b[0m\u001b[0;34m:\u001b[0m\u001b[0;34m\u001b[0m\u001b[0;34m\u001b[0m\u001b[0m\n",
      "\u001b[0;31mNameError\u001b[0m: name 'outbase' is not defined"
     ]
    }
   ],
   "source": [
    "chosen_dates = ['0410', '0424']\n",
    "chosen_type = ['mds', 'rds', 'shared_control']\n",
    "\n",
    "eval_dirs = []\n",
    "\n",
    "for root, dirs, files in walk(outbase, topdown=False, maxdepth=1):\n",
    "    for dir_ in dirs:\n",
    "        if any(s in dir_ for s in chosen_dates) and any(s in dir_ for s in chosen_type):\n",
    "            dir_ = dir_.replace(\"_processed\", \"\")\n",
    "            eval_dirs.append(dir_)\n",
    "            print(\"{}/ is available!\".format(dir_))"
   ]
  },
  {
   "cell_type": "code",
   "execution_count": null,
   "metadata": {},
   "outputs": [],
   "source": [
    "eval_res_df = import_eval_res(eval_dirs)"
   ]
  },
  {
   "cell_type": "code",
   "execution_count": null,
   "metadata": {
    "scrolled": true
   },
   "outputs": [],
   "source": [
    "eval_res_df.head()"
   ]
  },
  {
   "cell_type": "markdown",
   "metadata": {},
   "source": [
    "### Mean-Std statistics"
   ]
  },
  {
   "cell_type": "code",
   "execution_count": null,
   "metadata": {
    "scrolled": false
   },
   "outputs": [],
   "source": [
    "for ctrl in chosen_type:\n",
    "    print(ctrl, \":\", len(eval_res_df[eval_res_df.control_type == ctrl]))\n",
    "\n",
    "frames_stat = []\n",
    "for ctrl in chosen_type:\n",
    "    eval_res_df_ = eval_res_df[eval_res_df.control_type == ctrl]\n",
    "    stat_df = eval_res_df_.drop(['date'], axis=1).agg(['mean', 'std'])\n",
    "    if ctrl == 'shared_control':\n",
    "        stat_df.index = 'sc_'+stat_df.index.values\n",
    "    else:\n",
    "        stat_df.index = ctrl+'_'+stat_df.index.values\n",
    "    frames_stat.append(stat_df)\n",
    "    \n",
    "stat_df_all = pd.concat(frames_stat) # , ignore_index=True\n",
    "stat_df_all.index.name = 'Metrics'\n",
    "stat_df_all"
   ]
  },
  {
   "cell_type": "code",
   "execution_count": null,
   "metadata": {},
   "outputs": [],
   "source": [
    "export_metrics = (\n",
    "    'avg_crowd_density2_5',\n",
    "    'max_crowd_density2_5',\n",
    "    # 'avg_crowd_density5',\n",
    "    'avg_min_dist',\n",
    "    'rel_duration2goal',\n",
    "    'rel_path_length2goal',\n",
    "    'rel_jerk',\n",
    "    'contribution',\n",
    "    'avg_fluency',\n",
    "    'avg_agreement',\n",
    "    'virtual_collision',\n",
    ")"
   ]
  },
  {
   "cell_type": "code",
   "execution_count": null,
   "metadata": {},
   "outputs": [],
   "source": [
    "export_control_df = stat_df_all[list(export_metrics)]\n",
    "metrics_len = len(export_control_df.loc['mds_mean'])\n",
    "methods = ['MDS', 'RDS', 'shared_control']"
   ]
  },
  {
   "cell_type": "code",
   "execution_count": null,
   "metadata": {},
   "outputs": [],
   "source": [
    "for idxx, method in enumerate(methods):\n",
    "    str_out = []\n",
    "    for idx in range(metrics_len):\n",
    "        avg = \"${:0.2f}\".format(round(export_control_df.iloc[2*idxx,idx],2))\n",
    "        std = \"{:0.2f}$\".format(round(export_control_df.iloc[2*idxx+1,idx],2))\n",
    "        str_out.append(avg+\" \\pm \"+std)\n",
    "    export_control_df.loc[method] = str_out\n",
    "export_contro_str_df = export_control_df.iloc[6:9]\n",
    "export_contro_str_df"
   ]
  },
  {
   "cell_type": "code",
   "execution_count": null,
   "metadata": {},
   "outputs": [],
   "source": [
    "# print(export_contro_str_df.to_latex())\n",
    "# print(export_contro_str_df.T.to_latex())"
   ]
  },
  {
   "cell_type": "markdown",
   "metadata": {},
   "source": [
    "### ANOVA test for controller comparison"
   ]
  },
  {
   "cell_type": "code",
   "execution_count": null,
   "metadata": {},
   "outputs": [],
   "source": [
    "anova_metrics = (\n",
    "    'avg_crowd_density2_5',\n",
    "    'max_crowd_density2_5',\n",
    "    'avg_crowd_density5',\n",
    "    'avg_min_dist',\n",
    "    'virtual_collision',\n",
    "    'rel_duration2goal',\n",
    "    'rel_path_length2goal',\n",
    "    'rel_jerk',\n",
    "    'contribution',\n",
    "    'avg_fluency',\n",
    "    'avg_agreement',\n",
    ")"
   ]
  },
  {
   "cell_type": "code",
   "execution_count": null,
   "metadata": {},
   "outputs": [],
   "source": [
    "mds_anova_ = eval_res_df[eval_res_df.control_type=='mds']\n",
    "mds_metrics = mds_anova_[list(anova_metrics)].values\n",
    "\n",
    "rds_anova_ = eval_res_df[eval_res_df.control_type=='rds']\n",
    "rds_metrics = rds_anova_[list(anova_metrics)].values\n",
    "\n",
    "shared_control_anova_ = eval_res_df[eval_res_df.control_type=='shared_control']\n",
    "shared_control_metrics = shared_control_anova_[list(anova_metrics)].values"
   ]
  },
  {
   "cell_type": "code",
   "execution_count": null,
   "metadata": {},
   "outputs": [],
   "source": [
    "fvalue12, pvalue12 = stats.f_oneway(mds_metrics, rds_metrics)\n",
    "fvalue23, pvalue23 = stats.f_oneway(mds_metrics, shared_control_metrics)\n",
    "fvalue13, pvalue13 = stats.f_oneway(rds_metrics, shared_control_metrics)\n",
    "# total\n",
    "fvalue, pvalue = stats.f_oneway(mds_metrics, rds_metrics, shared_control_metrics)\n",
    "\n",
    "statP_df = pd.DataFrame(\n",
    "    data=np.vstack((pvalue12, pvalue23, pvalue13, pvalue)), \n",
    "    index=['mds-rds', 'mds-shared', 'rds-shared', 'total'],\n",
    ")\n",
    "statP_df.columns = list(anova_metrics)\n",
    "statP_df.index.name = 'Metrics'\n",
    "\n",
    "statF_df = pd.DataFrame(\n",
    "    data=np.vstack((fvalue12, fvalue23, fvalue13, fvalue)), \n",
    "    index=['mds-rds', 'mds-shared', 'rds-shared', 'total'],\n",
    ")\n",
    "statF_df.columns = list(anova_metrics)\n",
    "statF_df.index.name = 'Metrics'"
   ]
  },
  {
   "cell_type": "code",
   "execution_count": null,
   "metadata": {},
   "outputs": [],
   "source": [
    "statP_df"
   ]
  },
  {
   "cell_type": "code",
   "execution_count": null,
   "metadata": {},
   "outputs": [],
   "source": [
    "statF_df"
   ]
  },
  {
   "cell_type": "code",
   "execution_count": null,
   "metadata": {},
   "outputs": [],
   "source": [
    "# print(statF_df.T.to_latex())\n",
    "# print(statP_df.T.to_latex())\n",
    "# print(stat_df_all.T.to_latex())"
   ]
  },
  {
   "cell_type": "markdown",
   "metadata": {},
   "source": [
    "### Visualize with grouping by date"
   ]
  },
  {
   "cell_type": "markdown",
   "metadata": {},
   "source": [
    "#### Palette settings"
   ]
  },
  {
   "cell_type": "code",
   "execution_count": null,
   "metadata": {},
   "outputs": [],
   "source": [
    "dates=['0410', '0424']\n",
    "\n",
    "value_unique, color_unique = values2color_list(\n",
    "        dates, cmap_name='hot', range=(0.55, 0.75)\n",
    "    )\n",
    "\n",
    "value_unique, point_color_unique = values2color_list(\n",
    "        dates, cmap_name='hot', range=(0.3, 0.6)\n",
    "    )\n",
    "\n",
    "# creating a dictionary with one specific color per group:\n",
    "box_pal = {value_unique[i]: color_unique[i] for i in range(len(value_unique))}\n",
    "# original: (0.3, 0.6)\n",
    "scatter_pal = {value_unique[i]: point_color_unique[i] for i in range(len(value_unique))}\n",
    "# black\n",
    "# scatter_pal = {value_unique[i]: (0.0, 0.0, 0.0, 1.0) for i in range(len(value_unique))}\n",
    "# gray\n",
    "# scatter_pal = {value_unique[i]: (0.3, 0.3, 0.3, 0.8) for i in range(len(value_unique))}\n",
    "box_pal, scatter_pal"
   ]
  },
  {
   "cell_type": "markdown",
   "metadata": {},
   "source": [
    "#### Crowd-related metrics"
   ]
  },
  {
   "cell_type": "code",
   "execution_count": null,
   "metadata": {},
   "outputs": [],
   "source": [
    "crowd_metrics_df = eval_res_df[['seq', 'control_type'] + list(crowd_metrics) + ['date']]"
   ]
  },
  {
   "cell_type": "code",
   "execution_count": null,
   "metadata": {},
   "outputs": [],
   "source": [
    "for ctrl in chosen_type:\n",
    "    print(\"###\", ctrl)\n",
    "    print(\"# mean\")\n",
    "    print(crowd_metrics_df[crowd_metrics_df.control_type == ctrl].mean(numeric_only=True))\n",
    "    # print(\"# std\")\n",
    "    # print(crowd_metrics_df[crowd_metrics_df.control_type == ctrl].std(numeric_only=True))\n",
    "    print()"
   ]
  },
  {
   "cell_type": "code",
   "execution_count": null,
   "metadata": {
    "scrolled": false
   },
   "outputs": [],
   "source": [
    "print(\"# max value in each metrics\")\n",
    "print(crowd_metrics_df.max(numeric_only=True))\n",
    "print(\"# min value in each metrics\")\n",
    "print(crowd_metrics_df.min(numeric_only=True))"
   ]
  },
  {
   "cell_type": "markdown",
   "metadata": {},
   "source": [
    "##### 4-in-1 plotting"
   ]
  },
  {
   "cell_type": "code",
   "execution_count": null,
   "metadata": {},
   "outputs": [],
   "source": [
    "mpl.rcParams['font.family'] = ['serif']\n",
    "mpl.rcParams['font.serif'] = ['Times New Roman']\n",
    "mpl.rcParams['mathtext.fontset'] = 'stix'\n",
    "\n",
    "fig, axes = plt.subplots(2, 2, figsize=(16, 10))\n",
    "\n",
    "categorical_plot(\n",
    "    axes=axes[0,0],\n",
    "    df=crowd_metrics_df,\n",
    "    metric='avg_crowd_density2_5',\n",
    "    category='control_type',\n",
    "    title='Mean crowd density within 2.5 m',\n",
    "    xlabel='',\n",
    "    ylabel='Density [1/$m^2$]',\n",
    "    ylim=[0.0, 0.25],\n",
    "    kind='box',\n",
    "    lgd_labels=['April 10, 2021', 'April 24, 2021'],\n",
    "    lgd_font=\"Times New Roman\",\n",
    "    group='date',\n",
    "    loc='upper left',\n",
    "    box_palette=box_pal,\n",
    "    scatter_palette=scatter_pal,\n",
    ")\n",
    "\n",
    "axes[0,0].set_ylabel(\"Density [1/$m^2$]\", fontsize=16)\n",
    "axes[0,0].tick_params(axis='x', labelsize=16)\n",
    "axes[0,0].tick_params(axis='y', labelsize=14)\n",
    "\n",
    "categorical_plot(\n",
    "    axes=axes[0,1],\n",
    "    df=crowd_metrics_df,\n",
    "    metric='max_crowd_density2_5',\n",
    "    category='control_type',\n",
    "    title='Max crowd density within 2.5 m',\n",
    "    xlabel='',\n",
    "    ylabel='Density [1/$m^2$]',\n",
    "    ylim=[0.3, 0.90],\n",
    "    kind='box',\n",
    "    lgd_labels=['April 10, 2021', 'April 24, 2021'],\n",
    "    lgd_font=\"Times New Roman\",\n",
    "    group='date',\n",
    "    loc='upper left',\n",
    "    box_palette=box_pal,\n",
    "    scatter_palette=scatter_pal,\n",
    ")\n",
    "\n",
    "axes[0,1].set_ylabel(\"Density [1/$m^2$]\", fontsize=16)\n",
    "axes[0,1].tick_params(axis='x', labelsize=16)\n",
    "axes[0,1].tick_params(axis='y', labelsize=14)\n",
    "\n",
    "categorical_plot(\n",
    "    axes=axes[1,0],\n",
    "    df=crowd_metrics_df,\n",
    "    metric='virtual_collision',\n",
    "    category='control_type',\n",
    "    title='Virtual collision with Qolo',\n",
    "    xlabel='',\n",
    "    ylabel='',\n",
    "    ylim=[-0.1, 20],\n",
    "    kind='box',\n",
    "    lgd_labels=['April 10, 2021', 'April 24, 2021'],\n",
    "    lgd_font=\"Times New Roman\",\n",
    "    group='date',\n",
    "    loc='upper left',\n",
    "    box_palette=box_pal,\n",
    "    scatter_palette=scatter_pal,\n",
    ")\n",
    "\n",
    "axes[1,0].set_ylabel(\"Virtual collision\", fontsize=16)\n",
    "axes[1,0].tick_params(axis='x', labelsize=16)\n",
    "axes[1,0].tick_params(axis='y', labelsize=14)\n",
    "\n",
    "categorical_plot(\n",
    "    axes=axes[1,1],\n",
    "    df=crowd_metrics_df,\n",
    "    metric='avg_min_dist',\n",
    "    category='control_type',\n",
    "    title='Min. distance of Pedestrain from qolo',\n",
    "    xlabel='',\n",
    "    ylabel='Distance [m]',\n",
    "    ylim=[0.6, 2.0],\n",
    "    kind='box',\n",
    "    lgd_labels=['April 10, 2021', 'April 24, 2021'],\n",
    "    lgd_font=\"Times New Roman\",\n",
    "    group='date',\n",
    "    loc='upper left',\n",
    "    box_palette=box_pal,\n",
    "    scatter_palette=scatter_pal,\n",
    ")\n",
    "\n",
    "axes[1,1].set_ylabel(\"Distance [m]\", fontsize=16)\n",
    "axes[1,1].tick_params(axis='x', labelsize=16)\n",
    "axes[1,1].tick_params(axis='y', labelsize=14)\n",
    "\n",
    "plt.savefig(\"./pdf/comp_crowd_group_by_date.pdf\", dpi=300)\n",
    "\n",
    "plt.show()"
   ]
  },
  {
   "cell_type": "code",
   "execution_count": null,
   "metadata": {},
   "outputs": [],
   "source": [
    "plt.close()"
   ]
  },
  {
   "cell_type": "markdown",
   "metadata": {},
   "source": [
    "##### Individual figutes"
   ]
  },
  {
   "cell_type": "code",
   "execution_count": null,
   "metadata": {},
   "outputs": [],
   "source": [
    "mpl.rcParams['font.family'] = ['serif']\n",
    "mpl.rcParams['font.serif'] = ['Times New Roman']\n",
    "mpl.rcParams['mathtext.fontset'] = 'stix'\n",
    "\n",
    "control_fig1, control_axes1 = plt.subplots(figsize=(6, 5))\n",
    "\n",
    "categorical_plot(\n",
    "    axes=control_axes1,\n",
    "    df=crowd_metrics_df,\n",
    "    metric='avg_crowd_density2_5',\n",
    "    category='control_type',\n",
    "    title='',\n",
    "    xlabel='',\n",
    "    ylabel='Density [1/$m^2$]',\n",
    "    ylim=[0.0, 0.25],\n",
    "    kind='box',\n",
    "    lgd_labels=['April 10, 2021', 'April 24, 2021'],\n",
    "    lgd_font=\"Times New Roman\",\n",
    "    group='date',\n",
    "    loc='upper left',\n",
    "    box_palette=box_pal,\n",
    "    scatter_palette=scatter_pal,\n",
    ")\n",
    "\n",
    "control_axes1.set_ylabel(\"Density [1/$m^2$]\", fontsize=16)\n",
    "control_axes1.tick_params(axis='x', labelsize=16)\n",
    "control_axes1.tick_params(axis='y', labelsize=14)\n",
    "\n",
    "plt.savefig(\"./pdf/pub/control_boxplot_mean_density_2_5_group_by_date.pdf\", dpi=300)\n",
    "\n",
    "plt.show()"
   ]
  },
  {
   "cell_type": "code",
   "execution_count": null,
   "metadata": {},
   "outputs": [],
   "source": [
    "plt.close()"
   ]
  },
  {
   "cell_type": "code",
   "execution_count": null,
   "metadata": {},
   "outputs": [],
   "source": [
    "mpl.rcParams['font.family'] = ['serif']\n",
    "mpl.rcParams['font.serif'] = ['Times New Roman']\n",
    "mpl.rcParams['mathtext.fontset'] = 'stix'\n",
    "\n",
    "control_fig2, control_axes2 = plt.subplots(figsize=(6, 5))\n",
    "\n",
    "categorical_plot(\n",
    "    axes=control_axes2,\n",
    "    df=crowd_metrics_df,\n",
    "    metric='max_crowd_density2_5',\n",
    "    category='control_type',\n",
    "    title='',\n",
    "    xlabel='',\n",
    "    ylabel='Density [1/$m^2$]',\n",
    "    ylim=[0.3, 0.90],\n",
    "    kind='box',\n",
    "    lgd_labels=['April 10, 2021', 'April 24, 2021'],\n",
    "    lgd_font=\"Times New Roman\",\n",
    "    group='date',\n",
    "    loc='upper left',\n",
    "    box_palette=box_pal,\n",
    "    scatter_palette=scatter_pal,\n",
    ")\n",
    "\n",
    "control_axes2.set_ylabel(\"Density [1/$m^2$]\", fontsize=16)\n",
    "control_axes2.tick_params(axis='x', labelsize=16)\n",
    "control_axes2.tick_params(axis='y', labelsize=14)\n",
    "\n",
    "plt.savefig(\"./pdf/pub/control_boxplot_max_density_2_5_group_by_date.pdf\", dpi=300)\n",
    "\n",
    "plt.show()"
   ]
  },
  {
   "cell_type": "code",
   "execution_count": null,
   "metadata": {},
   "outputs": [],
   "source": [
    "plt.close()"
   ]
  },
  {
   "cell_type": "code",
   "execution_count": null,
   "metadata": {},
   "outputs": [],
   "source": [
    "mpl.rcParams['font.family'] = ['serif']\n",
    "mpl.rcParams['font.serif'] = ['Times New Roman']\n",
    "mpl.rcParams['mathtext.fontset'] = 'stix'\n",
    "\n",
    "control_fig3, control_axes3 = plt.subplots(figsize=(6, 5))\n",
    "\n",
    "categorical_plot(\n",
    "    axes=control_axes3,\n",
    "    df=crowd_metrics_df,\n",
    "    metric='virtual_collision',\n",
    "    category='control_type',\n",
    "    title='',\n",
    "    xlabel='',\n",
    "    ylabel='',\n",
    "    ylim=[-0.1, 20],\n",
    "    kind='box',\n",
    "    lgd_labels=['April 10, 2021', 'April 24, 2021'],\n",
    "    lgd_font=\"Times New Roman\",\n",
    "    group='date',\n",
    "    loc='upper left',\n",
    "    box_palette=box_pal,\n",
    "    scatter_palette=scatter_pal,\n",
    ")\n",
    "\n",
    "control_axes3.set_ylabel(\"Virtual collision\", fontsize=16)\n",
    "control_axes3.tick_params(axis='x', labelsize=16)\n",
    "control_axes3.tick_params(axis='y', labelsize=14)\n",
    "\n",
    "plt.savefig(\"./pdf/pub/control_boxplot_virtual_collision_group_by_date.pdf\", dpi=300)\n",
    "\n",
    "plt.show()"
   ]
  },
  {
   "cell_type": "code",
   "execution_count": null,
   "metadata": {},
   "outputs": [],
   "source": [
    "plt.close()"
   ]
  },
  {
   "cell_type": "code",
   "execution_count": null,
   "metadata": {},
   "outputs": [],
   "source": [
    "mpl.rcParams['font.family'] = ['serif']\n",
    "mpl.rcParams['font.serif'] = ['Times New Roman']\n",
    "mpl.rcParams['mathtext.fontset'] = 'stix'\n",
    "\n",
    "control_fig4, control_axes4 = plt.subplots(figsize=(6, 5))\n",
    "\n",
    "categorical_plot(\n",
    "    axes=control_axes4,\n",
    "    df=crowd_metrics_df,\n",
    "    metric='avg_min_dist',\n",
    "    category='control_type',\n",
    "    title='',\n",
    "    xlabel='',\n",
    "    ylabel='Distance [m]',\n",
    "    ylim=[0.6, 2.0],\n",
    "    kind='box',\n",
    "    lgd_labels=['April 10, 2021', 'April 24, 2021'],\n",
    "    lgd_font=\"Times New Roman\",\n",
    "    group='date',\n",
    "    loc='upper left',\n",
    "    box_palette=box_pal,\n",
    "    scatter_palette=scatter_pal,\n",
    ")\n",
    "\n",
    "control_axes4.set_ylabel(\"Distance [m]\", fontsize=16)\n",
    "control_axes4.tick_params(axis='x', labelsize=16)\n",
    "control_axes4.tick_params(axis='y', labelsize=14)\n",
    "\n",
    "plt.savefig(\"./pdf/pub/control_boxplot_mean_min_dist_group_by_date.pdf\", dpi=300)\n",
    "\n",
    "plt.show()"
   ]
  },
  {
   "cell_type": "code",
   "execution_count": null,
   "metadata": {},
   "outputs": [],
   "source": [
    "plt.close()"
   ]
  },
  {
   "cell_type": "markdown",
   "metadata": {},
   "source": [
    "#### Path efficiency-related metrics"
   ]
  },
  {
   "cell_type": "code",
   "execution_count": null,
   "metadata": {},
   "outputs": [],
   "source": [
    "path_metrics_df = eval_res_df[['seq', 'control_type'] + list(path_metrics) + ['date']]"
   ]
  },
  {
   "cell_type": "code",
   "execution_count": null,
   "metadata": {},
   "outputs": [],
   "source": [
    "print(\"# max value in each metrics\")\n",
    "print(path_metrics_df.max(numeric_only=True))\n",
    "print(\"# min value in each metrics\")\n",
    "print(path_metrics_df.min(numeric_only=True))"
   ]
  },
  {
   "cell_type": "markdown",
   "metadata": {},
   "source": [
    "##### 2-in-1 plotting"
   ]
  },
  {
   "cell_type": "code",
   "execution_count": null,
   "metadata": {
    "scrolled": false
   },
   "outputs": [],
   "source": [
    "mpl.rcParams['font.family'] = ['serif']\n",
    "mpl.rcParams['font.serif'] = ['Times New Roman']\n",
    "mpl.rcParams['mathtext.fontset'] = 'stix'\n",
    "\n",
    "path_fig, path_axes = plt.subplots(1, 2, figsize=(16, 5))\n",
    "\n",
    "categorical_plot(\n",
    "    axes=path_axes[0],\n",
    "    df=path_metrics_df,\n",
    "    metric='rel_duration2goal',\n",
    "    category='control_type',\n",
    "    title='',\n",
    "    xlabel='',\n",
    "    ylabel='',\n",
    "    ylim=[0.0, 1.0],\n",
    "    lgd_labels=['April 10, 2021', 'April 24, 2021'],\n",
    "    lgd_font=\"Times New Roman\",\n",
    "    kind='box',\n",
    "    group='date',\n",
    "    loc='upper left',\n",
    "    box_palette=box_pal,\n",
    "    scatter_palette=scatter_pal,\n",
    ")\n",
    "\n",
    "path_axes[0].set_ylabel(\"Relative time to the goal\", fontsize=16)\n",
    "path_axes[0].tick_params(axis='x', labelsize=16)\n",
    "path_axes[0].tick_params(axis='y', labelsize=14)\n",
    "\n",
    "categorical_plot(\n",
    "    axes=path_axes[1],\n",
    "    df=path_metrics_df,\n",
    "    metric='rel_path_length2goal',\n",
    "    category='control_type',\n",
    "    title='',\n",
    "    xlabel='',\n",
    "    ylabel='',\n",
    "    ylim=[0.0, 3.0],\n",
    "    lgd_labels=['April 10, 2021', 'April 24, 2021'],\n",
    "    lgd_font=\"Times New Roman\",\n",
    "    kind='box',\n",
    "    group='date',\n",
    "    loc='upper left',\n",
    "    box_palette=box_pal,\n",
    "    scatter_palette=scatter_pal,\n",
    ")\n",
    "\n",
    "path_axes[1].set_ylabel(\"Relative path length to the goal\", fontsize=16)\n",
    "path_axes[1].tick_params(axis='x', labelsize=16)\n",
    "path_axes[1].tick_params(axis='y', labelsize=14)\n",
    "\n",
    "plt.savefig(\"./pdf/comp_path_efficiency_group_by_date.pdf\", dpi=300)\n",
    "\n",
    "plt.show()"
   ]
  },
  {
   "cell_type": "code",
   "execution_count": null,
   "metadata": {},
   "outputs": [],
   "source": [
    "plt.close()"
   ]
  },
  {
   "cell_type": "markdown",
   "metadata": {},
   "source": [
    "##### Individual figutes"
   ]
  },
  {
   "cell_type": "code",
   "execution_count": null,
   "metadata": {},
   "outputs": [],
   "source": [
    "mpl.rcParams['font.family'] = ['serif']\n",
    "mpl.rcParams['font.serif'] = ['Times New Roman']\n",
    "mpl.rcParams['mathtext.fontset'] = 'stix'\n",
    "\n",
    "control_fig5, control_axes5 = plt.subplots(figsize=(6, 5))\n",
    "\n",
    "categorical_plot(\n",
    "    axes=control_axes5,\n",
    "    df=path_metrics_df,\n",
    "    metric='rel_duration2goal',\n",
    "    category='control_type',\n",
    "    title='',\n",
    "    xlabel='',\n",
    "    ylabel='',\n",
    "    ylim=[0.0, 1.0],\n",
    "    lgd_labels=['April 10, 2021', 'April 24, 2021'],\n",
    "    lgd_font=\"Times New Roman\",\n",
    "    kind='box',\n",
    "    group='date',\n",
    "    loc='upper left',\n",
    "    box_palette=box_pal,\n",
    "    scatter_palette=scatter_pal,\n",
    ")\n",
    "\n",
    "control_axes5.set_ylabel(\"Relative time to the goal\", fontsize=16)\n",
    "control_axes5.tick_params(axis='x', labelsize=16)\n",
    "control_axes5.tick_params(axis='y', labelsize=14)\n",
    "\n",
    "plt.savefig(\"./pdf/pub/control_boxplot_rel_time2goal_group_by_date.pdf\", dpi=300)\n",
    "\n",
    "plt.show()"
   ]
  },
  {
   "cell_type": "code",
   "execution_count": null,
   "metadata": {},
   "outputs": [],
   "source": [
    "plt.close()"
   ]
  },
  {
   "cell_type": "code",
   "execution_count": null,
   "metadata": {},
   "outputs": [],
   "source": [
    "mpl.rcParams['font.family'] = ['serif']\n",
    "mpl.rcParams['font.serif'] = ['Times New Roman']\n",
    "mpl.rcParams['mathtext.fontset'] = 'stix'\n",
    "\n",
    "control_fig6, control_axes6 = plt.subplots(figsize=(6, 5))\n",
    "\n",
    "categorical_plot(\n",
    "    axes=control_axes6,\n",
    "    df=path_metrics_df,\n",
    "    metric='rel_path_length2goal',\n",
    "    category='control_type',\n",
    "    title='',\n",
    "    xlabel='',\n",
    "    ylabel='',\n",
    "    ylim=[1.0, 2.0],\n",
    "    lgd_labels=['April 10, 2021', 'April 24, 2021'],\n",
    "    lgd_font=\"Times New Roman\",\n",
    "    kind='box',\n",
    "    group='date',\n",
    "    loc='upper left',\n",
    "    box_palette=box_pal,\n",
    "    scatter_palette=scatter_pal,\n",
    ")\n",
    "\n",
    "control_axes6.set_ylabel(\"Relative path length to the goal\", fontsize=16)\n",
    "control_axes6.tick_params(axis='x', labelsize=16)\n",
    "control_axes6.tick_params(axis='y', labelsize=14)\n",
    "\n",
    "plt.savefig(\"./pdf/pub/control_boxplot_rel_path_length2goal_group_by_date.pdf\", dpi=300)\n",
    "\n",
    "plt.show()"
   ]
  },
  {
   "cell_type": "code",
   "execution_count": null,
   "metadata": {},
   "outputs": [],
   "source": [
    "plt.close()"
   ]
  },
  {
   "cell_type": "markdown",
   "metadata": {},
   "source": [
    "#### Shared control-related metrics"
   ]
  },
  {
   "cell_type": "code",
   "execution_count": null,
   "metadata": {},
   "outputs": [],
   "source": [
    "control_metrics_df = eval_res_df[['seq', 'control_type'] + list(control_metrics) + ['date']]"
   ]
  },
  {
   "cell_type": "code",
   "execution_count": null,
   "metadata": {},
   "outputs": [],
   "source": [
    "print(\"# max value in each metrics\")\n",
    "print(control_metrics_df.max(numeric_only=True))\n",
    "print(\"# min value in each metrics\")\n",
    "print(control_metrics_df.min(numeric_only=True))"
   ]
  },
  {
   "cell_type": "markdown",
   "metadata": {},
   "source": [
    "##### 4-in-1 plotting"
   ]
  },
  {
   "cell_type": "code",
   "execution_count": null,
   "metadata": {},
   "outputs": [],
   "source": [
    "mpl.rcParams['font.family'] = ['serif']\n",
    "mpl.rcParams['font.serif'] = ['Times New Roman']\n",
    "mpl.rcParams['mathtext.fontset'] = 'stix'\n",
    "\n",
    "control_fig, control_axes = plt.subplots(2, 2, figsize=(16, 12))\n",
    "\n",
    "categorical_plot(\n",
    "    axes=control_axes[0,0],\n",
    "    df=control_metrics_df,\n",
    "    metric='avg_fluency',\n",
    "    category='control_type',\n",
    "    title='',\n",
    "    xlabel='',\n",
    "    ylabel='',\n",
    "    ylim=[0.90, 1.02],\n",
    "    lgd_labels=['April 10, 2021', 'April 24, 2021'],\n",
    "    lgd_font=\"Times New Roman\",\n",
    "    kind='box',\n",
    "    group='date',\n",
    "    loc='upper left',\n",
    "    box_palette=box_pal,\n",
    "    scatter_palette=scatter_pal,\n",
    ")\n",
    "\n",
    "control_axes[0,0].set_ylabel(\"Average control fluency\", fontsize=16)\n",
    "control_axes[0,0].tick_params(axis='x', labelsize=16)\n",
    "control_axes[0,0].tick_params(axis='y', labelsize=14)\n",
    "\n",
    "categorical_plot(\n",
    "    axes=control_axes[0,1],\n",
    "    df=control_metrics_df,\n",
    "    metric='rel_jerk',\n",
    "    category='control_type',\n",
    "    title='',\n",
    "    xlabel='',\n",
    "    ylabel='',\n",
    "    ylim=[0, 0.35],\n",
    "    lgd_labels=['April 10, 2021', 'April 24, 2021'],\n",
    "    lgd_font=\"Times New Roman\",\n",
    "    kind='box',\n",
    "    group='date',\n",
    "    loc='upper left',\n",
    "    box_palette=box_pal,\n",
    "    scatter_palette=scatter_pal,\n",
    ")\n",
    "\n",
    "control_axes[0,1].set_ylabel(\"Relative jerk\", fontsize=16)\n",
    "control_axes[0,1].tick_params(axis='x', labelsize=16)\n",
    "control_axes[0,1].tick_params(axis='y', labelsize=14)\n",
    "\n",
    "categorical_plot(\n",
    "    axes=control_axes[1,0],\n",
    "    df=control_metrics_df,\n",
    "    metric='contribution',\n",
    "    category='control_type',\n",
    "    title='',\n",
    "    xlabel='',\n",
    "    ylabel='',\n",
    "    ylim=[0.0, 1.2],\n",
    "    lgd_labels=['April 10, 2021', 'April 24, 2021'],\n",
    "    lgd_font=\"Times New Roman\",\n",
    "    kind='box',\n",
    "    group='date',\n",
    "    loc='upper left',\n",
    "    box_palette=box_pal,\n",
    "    scatter_palette=scatter_pal,\n",
    ")\n",
    "\n",
    "control_axes[1,0].set_ylabel(\"Contribution\", fontsize=16)\n",
    "control_axes[1,0].tick_params(axis='x', labelsize=16)\n",
    "control_axes[1,0].tick_params(axis='y', labelsize=14)\n",
    "\n",
    "categorical_plot(\n",
    "    axes=control_axes[1,1],\n",
    "    df=control_metrics_df,\n",
    "    metric='avg_agreement',\n",
    "    category='control_type',\n",
    "    title='',\n",
    "    xlabel='',\n",
    "    ylabel='',\n",
    "    ylim=[0.5, 1.0],\n",
    "    lgd_labels=['April 10, 2021', 'April 24, 2021'],\n",
    "    lgd_font=\"Times New Roman\",\n",
    "    kind='box',\n",
    "    group='date',\n",
    "    loc='upper left',\n",
    "    box_palette=box_pal,\n",
    "    scatter_palette=scatter_pal,\n",
    ")\n",
    "\n",
    "control_axes[1,1].set_ylabel(\"Average agreement\", fontsize=16)\n",
    "control_axes[1,1].tick_params(axis='x', labelsize=16)\n",
    "control_axes[1,1].tick_params(axis='y', labelsize=14)\n",
    "\n",
    "plt.savefig(\"./pdf/comp_control_group_by_date.pdf\", dpi=300)\n",
    "\n",
    "plt.show()"
   ]
  },
  {
   "cell_type": "code",
   "execution_count": null,
   "metadata": {},
   "outputs": [],
   "source": [
    "plt.close()"
   ]
  },
  {
   "cell_type": "markdown",
   "metadata": {},
   "source": [
    "##### Individual figutes"
   ]
  },
  {
   "cell_type": "code",
   "execution_count": null,
   "metadata": {},
   "outputs": [],
   "source": [
    "mpl.rcParams['font.family'] = ['serif']\n",
    "mpl.rcParams['font.serif'] = ['Times New Roman']\n",
    "mpl.rcParams['mathtext.fontset'] = 'stix'\n",
    "\n",
    "control_fig7, control_axes7 = plt.subplots(figsize=(6, 5))\n",
    "\n",
    "categorical_plot(\n",
    "    axes=control_axes7,\n",
    "    df=control_metrics_df,\n",
    "    metric='avg_fluency',\n",
    "    category='control_type',\n",
    "    title='',\n",
    "    xlabel='',\n",
    "    ylabel='',\n",
    "    ylim=[0.90, 1.02],\n",
    "    lgd_labels=['April 10, 2021', 'April 24, 2021'],\n",
    "    lgd_font=\"Times New Roman\",\n",
    "    kind='box',\n",
    "    group='date',\n",
    "    loc='upper left',\n",
    "    box_palette=box_pal,\n",
    "    scatter_palette=scatter_pal,\n",
    ")\n",
    "\n",
    "control_axes7.set_ylabel(\"Average control fluency\", fontsize=16)\n",
    "control_axes7.tick_params(axis='x', labelsize=16)\n",
    "control_axes7.tick_params(axis='y', labelsize=14)\n",
    "\n",
    "plt.savefig(\"./pdf/pub/control_boxplot_avg_fluency_group_by_date.pdf\", dpi=300)\n",
    "\n",
    "plt.show()"
   ]
  },
  {
   "cell_type": "code",
   "execution_count": null,
   "metadata": {},
   "outputs": [],
   "source": [
    "plt.close()"
   ]
  },
  {
   "cell_type": "code",
   "execution_count": null,
   "metadata": {},
   "outputs": [],
   "source": [
    "mpl.rcParams['font.family'] = ['serif']\n",
    "mpl.rcParams['font.serif'] = ['Times New Roman']\n",
    "mpl.rcParams['mathtext.fontset'] = 'stix'\n",
    "\n",
    "control_fig8, control_axes8 = plt.subplots(figsize=(6, 5))\n",
    "\n",
    "categorical_plot(\n",
    "    axes=control_axes8,\n",
    "    df=control_metrics_df,\n",
    "    metric='rel_jerk',\n",
    "    category='control_type',\n",
    "    title='',\n",
    "    xlabel='',\n",
    "    ylabel='',\n",
    "    ylim=[0, 0.35],\n",
    "    lgd_labels=['April 10, 2021', 'April 24, 2021'],\n",
    "    lgd_font=\"Times New Roman\",\n",
    "    kind='box',\n",
    "    group='date',\n",
    "    loc='upper left',\n",
    "    box_palette=box_pal,\n",
    "    scatter_palette=scatter_pal,\n",
    ")\n",
    "\n",
    "control_axes8.set_ylabel(\"Relative jerk\", fontsize=16)\n",
    "control_axes8.tick_params(axis='x', labelsize=16)\n",
    "control_axes8.tick_params(axis='y', labelsize=14)\n",
    "\n",
    "plt.savefig(\"./pdf/pub/control_boxplot_rel_jerk_group_by_date.pdf\", dpi=300)\n",
    "\n",
    "plt.show()"
   ]
  },
  {
   "cell_type": "code",
   "execution_count": null,
   "metadata": {},
   "outputs": [],
   "source": [
    "plt.close()"
   ]
  },
  {
   "cell_type": "code",
   "execution_count": null,
   "metadata": {},
   "outputs": [],
   "source": [
    "mpl.rcParams['font.family'] = ['serif']\n",
    "mpl.rcParams['font.serif'] = ['Times New Roman']\n",
    "mpl.rcParams['mathtext.fontset'] = 'stix'\n",
    "\n",
    "control_fig9, control_axes9 = plt.subplots(figsize=(6, 5))\n",
    "\n",
    "categorical_plot(\n",
    "    axes=control_axes9,\n",
    "    df=control_metrics_df,\n",
    "    metric='contribution',\n",
    "    category='control_type',\n",
    "    title='',\n",
    "    xlabel='',\n",
    "    ylabel='',\n",
    "    ylim=[0.0, 1.2],\n",
    "    lgd_labels=['April 10, 2021', 'April 24, 2021'],\n",
    "    lgd_font=\"Times New Roman\",\n",
    "    kind='box',\n",
    "    group='date',\n",
    "    loc='upper left',\n",
    "    box_palette=box_pal,\n",
    "    scatter_palette=scatter_pal,\n",
    ")\n",
    "\n",
    "control_axes9.set_ylabel(\"Contribution\", fontsize=16)\n",
    "control_axes9.tick_params(axis='x', labelsize=16)\n",
    "control_axes9.tick_params(axis='y', labelsize=14)\n",
    "\n",
    "plt.savefig(\"./pdf/pub/control_boxplot_contribution_group_by_date.pdf\", dpi=300)\n",
    "\n",
    "plt.show()"
   ]
  },
  {
   "cell_type": "code",
   "execution_count": null,
   "metadata": {},
   "outputs": [],
   "source": [
    "plt.close()"
   ]
  },
  {
   "cell_type": "code",
   "execution_count": null,
   "metadata": {},
   "outputs": [],
   "source": [
    "mpl.rcParams['font.family'] = ['serif']\n",
    "mpl.rcParams['font.serif'] = ['Times New Roman']\n",
    "mpl.rcParams['mathtext.fontset'] = 'stix'\n",
    "\n",
    "control_fig10, control_axes10 = plt.subplots(figsize=(6, 5))\n",
    "\n",
    "categorical_plot(\n",
    "    axes=control_axes10,\n",
    "    df=control_metrics_df,\n",
    "    metric='avg_agreement',\n",
    "    category='control_type',\n",
    "    title='',\n",
    "    xlabel='',\n",
    "    ylabel='',\n",
    "    ylim=[0.5, 1.0],\n",
    "    lgd_labels=['April 10, 2021', 'April 24, 2021'],\n",
    "    lgd_font=\"Times New Roman\",\n",
    "    kind='box',\n",
    "    group='date',\n",
    "    loc='upper left',\n",
    "    box_palette=box_pal,\n",
    "    scatter_palette=scatter_pal,\n",
    ")\n",
    "\n",
    "control_axes10.set_ylabel(\"Average agreement\", fontsize=16)\n",
    "control_axes10.tick_params(axis='x', labelsize=16)\n",
    "control_axes10.tick_params(axis='y', labelsize=14)\n",
    "\n",
    "plt.savefig(\"./pdf/pub/control_boxplot_avg_agreement_group_by_date.pdf\", dpi=300)\n",
    "\n",
    "plt.show()"
   ]
  },
  {
   "cell_type": "code",
   "execution_count": null,
   "metadata": {},
   "outputs": [],
   "source": [
    "plt.close()"
   ]
  },
  {
   "cell_type": "code",
   "execution_count": null,
   "metadata": {},
   "outputs": [],
   "source": [
    "crowd_metrics_df0424 = crowd_metrics_df[crowd_metrics_df.date=='0424'].sort_values('control_type', ascending=False)\n",
    "print(\"Sequence on 0424\")\n",
    "print(crowd_metrics_df0424['control_type'].value_counts())"
   ]
  },
  {
   "cell_type": "code",
   "execution_count": null,
   "metadata": {},
   "outputs": [],
   "source": [
    "crowd_metrics_df0410 = crowd_metrics_df[crowd_metrics_df.date=='0410'].sort_values(by=['control_type'], ascending=False, ignore_index=True).reindex()\n",
    "print(\"Sequence on 0410\")\n",
    "print(crowd_metrics_df0410['control_type'].value_counts())"
   ]
  },
  {
   "cell_type": "markdown",
   "metadata": {},
   "source": [
    "### Visualize without grouping by date"
   ]
  },
  {
   "cell_type": "markdown",
   "metadata": {},
   "source": [
    "#### Palette settings"
   ]
  },
  {
   "cell_type": "code",
   "execution_count": null,
   "metadata": {},
   "outputs": [],
   "source": [
    "control_methods=['mds', 'rds', 'shared_control']\n",
    "\n",
    "value_unique, color_unique = values2color_list(\n",
    "        eval_res_df['control_type'].values, cmap_name='hot', range=(0.55, 0.75)\n",
    "    )\n",
    "\n",
    "value_unique, point_color_unique = values2color_list(\n",
    "        eval_res_df['control_type'].values, cmap_name='hot', range=(0.35, 0.5)\n",
    "    )\n",
    "\n",
    "# creating a dictionary with one specific color per group:\n",
    "box_pal = {value_unique[i]: color_unique[i] for i in range(len(value_unique))}\n",
    "# original: (0.3, 0.6)\n",
    "# scatter_pal = {value_unique[i]: point_color_unique[i] for i in range(len(value_unique))}\n",
    "# black\n",
    "# scatter_pal = {value_unique[i]: (0.0, 0.0, 0.0, 1.0) for i in range(len(value_unique))}\n",
    "# gray\n",
    "scatter_pal = {value_unique[i]: (0.3, 0.3, 0.3, 0.8) for i in range(len(value_unique))}\n",
    "box_pal, scatter_pal"
   ]
  },
  {
   "cell_type": "markdown",
   "metadata": {},
   "source": [
    "#### Crowd-related metrics"
   ]
  },
  {
   "cell_type": "markdown",
   "metadata": {},
   "source": [
    "##### 4-in-1 plotting"
   ]
  },
  {
   "cell_type": "code",
   "execution_count": null,
   "metadata": {},
   "outputs": [],
   "source": [
    "mpl.rcParams['font.family'] = ['serif']\n",
    "mpl.rcParams['font.serif'] = ['Times New Roman']\n",
    "mpl.rcParams['mathtext.fontset'] = 'stix'\n",
    "\n",
    "fig, axes = plt.subplots(2, 2, figsize=(16, 10))\n",
    "\n",
    "categorical_plot(\n",
    "    axes=axes[0,0],\n",
    "    df=crowd_metrics_df,\n",
    "    metric='avg_crowd_density2_5',\n",
    "    category='control_type',\n",
    "    title='Mean crowd density within 2.5 m',\n",
    "    xlabel='',\n",
    "    ylabel='Density [1/$m^2$]',\n",
    "    ylim=[0.05, 0.20],\n",
    "    kind='box',\n",
    "    lgd_labels=['April 10, 2021', 'April 24, 2021'],\n",
    "    lgd_font=\"Times New Roman\",\n",
    "    #group='date',\n",
    "    loc='upper left',\n",
    "    box_palette=box_pal,\n",
    "    scatter_palette=scatter_pal,\n",
    ")\n",
    "\n",
    "axes[0,0].set_ylabel(\"Density [1/$m^2$]\", fontsize=16)\n",
    "axes[0,0].tick_params(axis='x', labelsize=16)\n",
    "axes[0,0].tick_params(axis='y', labelsize=14)\n",
    "\n",
    "categorical_plot(\n",
    "    axes=axes[0,1],\n",
    "    df=crowd_metrics_df,\n",
    "    metric='max_crowd_density2_5',\n",
    "    category='control_type',\n",
    "    title='Max crowd density within 2.5 m',\n",
    "    xlabel='',\n",
    "    ylabel='Density [1/$m^2$]',\n",
    "    ylim=[0.3, 0.90],\n",
    "    kind='box',\n",
    "    lgd_labels=['April 10, 2021', 'April 24, 2021'],\n",
    "    lgd_font=\"Times New Roman\",\n",
    "    #group='date',\n",
    "    loc='upper left',\n",
    "    box_palette=box_pal,\n",
    "    scatter_palette=scatter_pal,\n",
    ")\n",
    "\n",
    "axes[0,1].set_ylabel(\"Density [1/$m^2$]\", fontsize=16)\n",
    "axes[0,1].tick_params(axis='x', labelsize=16)\n",
    "axes[0,1].tick_params(axis='y', labelsize=14)\n",
    "\n",
    "categorical_plot(\n",
    "    axes=axes[1,0],\n",
    "    df=crowd_metrics_df,\n",
    "    metric='virtual_collision',\n",
    "    category='control_type',\n",
    "    title='Virtual collision with Qolo',\n",
    "    xlabel='',\n",
    "    ylabel='',\n",
    "    ylim=[-0.1, 20],\n",
    "    kind='box',\n",
    "    lgd_labels=['April 10, 2021', 'April 24, 2021'],\n",
    "    lgd_font=\"Times New Roman\",\n",
    "    #group='date',\n",
    "    loc='upper left',\n",
    "    box_palette=box_pal,\n",
    "    scatter_palette=scatter_pal,\n",
    ")\n",
    "\n",
    "axes[1,0].set_ylabel(\"Virtual collision\", fontsize=16)\n",
    "axes[1,0].tick_params(axis='x', labelsize=16)\n",
    "axes[1,0].tick_params(axis='y', labelsize=14)\n",
    "\n",
    "categorical_plot(\n",
    "    axes=axes[1,1],\n",
    "    df=crowd_metrics_df,\n",
    "    metric='avg_min_dist',\n",
    "    category='control_type',\n",
    "    title='Min. distance of Pedestrain from qolo',\n",
    "    xlabel='',\n",
    "    ylabel='Distance [m]',\n",
    "    ylim=[0.6, 1.6],\n",
    "    kind='box',\n",
    "    lgd_labels=['April 10, 2021', 'April 24, 2021'],\n",
    "    lgd_font=\"Times New Roman\",\n",
    "    #group='date',\n",
    "    loc='upper left',\n",
    "    box_palette=box_pal,\n",
    "    scatter_palette=scatter_pal,\n",
    ")\n",
    "\n",
    "axes[1,1].set_ylabel(\"Distance [m]\", fontsize=16)\n",
    "axes[1,1].tick_params(axis='x', labelsize=16)\n",
    "axes[1,1].tick_params(axis='y', labelsize=14)\n",
    "\n",
    "plt.savefig(\"./pdf/comp_crowd.pdf\", dpi=300)\n",
    "\n",
    "plt.show()"
   ]
  },
  {
   "cell_type": "code",
   "execution_count": null,
   "metadata": {},
   "outputs": [],
   "source": [
    "plt.close()"
   ]
  },
  {
   "cell_type": "markdown",
   "metadata": {},
   "source": [
    "##### Individual figutes"
   ]
  },
  {
   "cell_type": "code",
   "execution_count": null,
   "metadata": {},
   "outputs": [],
   "source": [
    "mpl.rcParams['font.family'] = ['serif']\n",
    "mpl.rcParams['font.serif'] = ['Times New Roman']\n",
    "mpl.rcParams['mathtext.fontset'] = 'stix'\n",
    "\n",
    "control_fig1, control_axes1 = plt.subplots(figsize=(6, 5))\n",
    "\n",
    "categorical_plot(\n",
    "    axes=control_axes1,\n",
    "    df=crowd_metrics_df,\n",
    "    metric='avg_crowd_density2_5',\n",
    "    category='control_type',\n",
    "    title='',\n",
    "    xlabel='',\n",
    "    ylabel='Density [1/$m^2$]',\n",
    "    ylim=[0.05, 0.20],\n",
    "    kind='box',\n",
    "    lgd_labels=['April 10, 2021', 'April 24, 2021'],\n",
    "    lgd_font=\"Times New Roman\",\n",
    "    # group='date',\n",
    "    loc='upper left',\n",
    "    box_palette=box_pal,\n",
    "    scatter_palette=scatter_pal,\n",
    ")\n",
    "\n",
    "control_axes1.set_ylabel(\"Density [1/$m^2$]\", fontsize=16)\n",
    "control_axes1.tick_params(axis='x', labelsize=16)\n",
    "control_axes1.tick_params(axis='y', labelsize=14)\n",
    "control_axes1.set_xticks([0,1,2])\n",
    "control_axes1.set_xticklabels(['MDS','RDS','SC'], fontsize=16)\n",
    "\n",
    "plt.savefig(\"./pdf/pub/control_boxplot_mean_density_2_5.pdf\", dpi=300)\n",
    "\n",
    "plt.show()"
   ]
  },
  {
   "cell_type": "code",
   "execution_count": null,
   "metadata": {},
   "outputs": [],
   "source": [
    "plt.close()"
   ]
  },
  {
   "cell_type": "code",
   "execution_count": null,
   "metadata": {},
   "outputs": [],
   "source": [
    "mpl.rcParams['font.family'] = ['serif']\n",
    "mpl.rcParams['font.serif'] = ['Times New Roman']\n",
    "mpl.rcParams['mathtext.fontset'] = 'stix'\n",
    "\n",
    "control_fig2, control_axes2 = plt.subplots(figsize=(6, 5))\n",
    "\n",
    "categorical_plot(\n",
    "    axes=control_axes2,\n",
    "    df=crowd_metrics_df,\n",
    "    metric='max_crowd_density2_5',\n",
    "    category='control_type',\n",
    "    title='',\n",
    "    xlabel='',\n",
    "    ylabel='Density [1/$m^2$]',\n",
    "    ylim=[0.2, 0.90],\n",
    "    kind='box',\n",
    "    lgd_labels=['April 10, 2021', 'April 24, 2021'],\n",
    "    lgd_font=\"Times New Roman\",\n",
    "    # group='date',\n",
    "    loc='upper left',\n",
    "    box_palette=box_pal,\n",
    "    scatter_palette=scatter_pal,\n",
    ")\n",
    "\n",
    "control_axes2.set_ylabel(\"Density [1/$m^2$]\", fontsize=16)\n",
    "control_axes2.tick_params(axis='x', labelsize=16)\n",
    "control_axes2.tick_params(axis='y', labelsize=14)\n",
    "control_axes2.set_xticks([0,1,2])\n",
    "control_axes2.set_xticklabels(['MDS','RDS','SC'], fontsize=16)\n",
    "\n",
    "plt.savefig(\"./pdf/pub/control_boxplot_max_density_2_5.pdf\", dpi=300)\n",
    "\n",
    "plt.show()"
   ]
  },
  {
   "cell_type": "code",
   "execution_count": null,
   "metadata": {},
   "outputs": [],
   "source": [
    "plt.close()"
   ]
  },
  {
   "cell_type": "code",
   "execution_count": null,
   "metadata": {},
   "outputs": [],
   "source": [
    "mpl.rcParams['font.family'] = ['serif']\n",
    "mpl.rcParams['font.serif'] = ['Times New Roman']\n",
    "mpl.rcParams['mathtext.fontset'] = 'stix'\n",
    "\n",
    "control_fig3, control_axes3 = plt.subplots(figsize=(6, 5))\n",
    "\n",
    "categorical_plot(\n",
    "    axes=control_axes3,\n",
    "    df=crowd_metrics_df,\n",
    "    metric='virtual_collision',\n",
    "    category='control_type',\n",
    "    title='',\n",
    "    xlabel='',\n",
    "    ylabel='',\n",
    "    ylim=[-0.1, 15],\n",
    "    kind='box',\n",
    "    lgd_labels=['April 10, 2021', 'April 24, 2021'],\n",
    "    lgd_font=\"Times New Roman\",\n",
    "    # group='date',\n",
    "    loc='upper left',\n",
    "    box_palette=box_pal,\n",
    "    scatter_palette=scatter_pal,\n",
    ")\n",
    "\n",
    "control_axes3.set_ylabel(\"Virtual collision\", fontsize=16)\n",
    "control_axes3.tick_params(axis='x', labelsize=16)\n",
    "control_axes3.tick_params(axis='y', labelsize=14)\n",
    "control_axes3.set_xticks([0,1,2])\n",
    "control_axes3.set_xticklabels(['MDS','RDS','SC'], fontsize=16)\n",
    "\n",
    "plt.savefig(\"./pdf/pub/control_boxplot_virtual_collision.pdf\", dpi=300)\n",
    "\n",
    "plt.show()"
   ]
  },
  {
   "cell_type": "code",
   "execution_count": null,
   "metadata": {},
   "outputs": [],
   "source": [
    "plt.close()"
   ]
  },
  {
   "cell_type": "code",
   "execution_count": null,
   "metadata": {},
   "outputs": [],
   "source": [
    "mpl.rcParams['font.family'] = ['serif']\n",
    "mpl.rcParams['font.serif'] = ['Times New Roman']\n",
    "mpl.rcParams['mathtext.fontset'] = 'stix'\n",
    "\n",
    "control_fig4, control_axes4 = plt.subplots(figsize=(6, 5))\n",
    "\n",
    "categorical_plot(\n",
    "    axes=control_axes4,\n",
    "    df=crowd_metrics_df,\n",
    "    metric='avg_min_dist',\n",
    "    category='control_type',\n",
    "    title='',\n",
    "    xlabel='',\n",
    "    ylabel='Distance [m]',\n",
    "    ylim=[0.6, 1.6],\n",
    "    kind='box',\n",
    "    lgd_labels=['April 10, 2021', 'April 24, 2021'],\n",
    "    lgd_font=\"Times New Roman\",\n",
    "    # group='date',\n",
    "    loc='upper left',\n",
    "    box_palette=box_pal,\n",
    "    scatter_palette=scatter_pal,\n",
    ")\n",
    "\n",
    "control_axes4.set_ylabel(\"Distance [m]\", fontsize=16)\n",
    "control_axes4.tick_params(axis='x', labelsize=16)\n",
    "control_axes4.tick_params(axis='y', labelsize=14)\n",
    "control_axes4.set_xticks([0,1,2])\n",
    "control_axes4.set_xticklabels(['MDS','RDS','SC'], fontsize=16)\n",
    "\n",
    "plt.savefig(\"./pdf/pub/control_boxplot_mean_min_dist.pdf\", dpi=300)\n",
    "\n",
    "plt.show()"
   ]
  },
  {
   "cell_type": "code",
   "execution_count": null,
   "metadata": {},
   "outputs": [],
   "source": [
    "plt.close()"
   ]
  },
  {
   "cell_type": "markdown",
   "metadata": {},
   "source": [
    "#### Path efficiency-related metrics"
   ]
  },
  {
   "cell_type": "markdown",
   "metadata": {},
   "source": [
    "##### 2-in-1 plotting"
   ]
  },
  {
   "cell_type": "code",
   "execution_count": null,
   "metadata": {},
   "outputs": [],
   "source": [
    "mpl.rcParams['font.family'] = ['serif']\n",
    "mpl.rcParams['font.serif'] = ['Times New Roman']\n",
    "mpl.rcParams['mathtext.fontset'] = 'stix'\n",
    "\n",
    "path_fig, path_axes = plt.subplots(1, 2, figsize=(16, 5))\n",
    "\n",
    "categorical_plot(\n",
    "    axes=path_axes[0],\n",
    "    df=path_metrics_df,\n",
    "    metric='rel_duration2goal',\n",
    "    category='control_type',\n",
    "    title='',\n",
    "    xlabel='',\n",
    "    ylabel='',\n",
    "    ylim=[0.0, 1.0],\n",
    "    lgd_labels=['April 10, 2021', 'April 24, 2021'],\n",
    "    lgd_font=\"Times New Roman\",\n",
    "    kind='box',\n",
    "    # group='date',\n",
    "    loc='upper left',\n",
    "    box_palette=box_pal,\n",
    "    scatter_palette=scatter_pal,\n",
    ")\n",
    "\n",
    "path_axes[0].set_ylabel(\"Relative time to the goal\", fontsize=16)\n",
    "path_axes[0].tick_params(axis='x', labelsize=16)\n",
    "path_axes[0].tick_params(axis='y', labelsize=14)\n",
    "\n",
    "categorical_plot(\n",
    "    axes=path_axes[1],\n",
    "    df=path_metrics_df,\n",
    "    metric='rel_path_length2goal',\n",
    "    category='control_type',\n",
    "    title='',\n",
    "    xlabel='',\n",
    "    ylabel='',\n",
    "    ylim=[1.0, 2.0],\n",
    "    lgd_labels=['April 10, 2021', 'April 24, 2021'],\n",
    "    lgd_font=\"Times New Roman\",\n",
    "    kind='box',\n",
    "    # group='date',\n",
    "    loc='upper left',\n",
    "    box_palette=box_pal,\n",
    "    scatter_palette=scatter_pal,\n",
    ")\n",
    "\n",
    "path_axes[1].set_ylabel(\"Relative path length to the goal\", fontsize=16)\n",
    "path_axes[1].tick_params(axis='x', labelsize=16)\n",
    "path_axes[1].tick_params(axis='y', labelsize=14)\n",
    "\n",
    "plt.savefig(\"./pdf/comp_path_efficiency.pdf\", dpi=300)\n",
    "\n",
    "plt.show()"
   ]
  },
  {
   "cell_type": "code",
   "execution_count": null,
   "metadata": {},
   "outputs": [],
   "source": [
    "plt.close()"
   ]
  },
  {
   "cell_type": "markdown",
   "metadata": {},
   "source": [
    "##### Individual figutes"
   ]
  },
  {
   "cell_type": "code",
   "execution_count": null,
   "metadata": {},
   "outputs": [],
   "source": [
    "mpl.rcParams['font.family'] = ['serif']\n",
    "mpl.rcParams['font.serif'] = ['Times New Roman']\n",
    "mpl.rcParams['mathtext.fontset'] = 'stix'\n",
    "\n",
    "control_fig5, control_axes5 = plt.subplots(figsize=(6, 5))\n",
    "\n",
    "categorical_plot(\n",
    "    axes=control_axes5,\n",
    "    df=path_metrics_df,\n",
    "    metric='rel_duration2goal',\n",
    "    category='control_type',\n",
    "    title='',\n",
    "    xlabel='',\n",
    "    ylabel='',\n",
    "    ylim=[0.0, 1.0],\n",
    "    lgd_labels=['April 10, 2021', 'April 24, 2021'],\n",
    "    lgd_font=\"Times New Roman\",\n",
    "    kind='box',\n",
    "    # group='date',\n",
    "    loc='upper left',\n",
    "    box_palette=box_pal,\n",
    "    scatter_palette=scatter_pal,\n",
    ")\n",
    "\n",
    "control_axes5.set_ylabel(\"Relative time to the goal\", fontsize=16)\n",
    "control_axes5.tick_params(axis='x', labelsize=16)\n",
    "control_axes5.tick_params(axis='y', labelsize=14)\n",
    "control_axes5.set_xticks([0,1,2])\n",
    "control_axes5.set_xticklabels(['MDS','RDS','SC'], fontsize=16)\n",
    "\n",
    "plt.savefig(\"./pdf/pub/control_boxplot_rel_time2goal.pdf\", dpi=300)\n",
    "\n",
    "plt.show()"
   ]
  },
  {
   "cell_type": "code",
   "execution_count": null,
   "metadata": {},
   "outputs": [],
   "source": [
    "plt.close()"
   ]
  },
  {
   "cell_type": "code",
   "execution_count": null,
   "metadata": {},
   "outputs": [],
   "source": [
    "mpl.rcParams['font.family'] = ['serif']\n",
    "mpl.rcParams['font.serif'] = ['Times New Roman']\n",
    "mpl.rcParams['mathtext.fontset'] = 'stix'\n",
    "\n",
    "control_fig6, control_axes6 = plt.subplots(figsize=(6, 5))\n",
    "\n",
    "categorical_plot(\n",
    "    axes=control_axes6,\n",
    "    df=path_metrics_df,\n",
    "    metric='rel_path_length2goal',\n",
    "    category='control_type',\n",
    "    title='',\n",
    "    xlabel='',\n",
    "    ylabel='',\n",
    "    ylim=[1.0, 2.0],\n",
    "    lgd_labels=['April 10, 2021', 'April 24, 2021'],\n",
    "    lgd_font=\"Times New Roman\",\n",
    "    kind='box',\n",
    "    # group='date',\n",
    "    loc='upper left',\n",
    "    box_palette=box_pal,\n",
    "    scatter_palette=scatter_pal,\n",
    ")\n",
    "\n",
    "control_axes6.set_ylabel(\"Relative path length to the goal\", fontsize=16)\n",
    "control_axes6.tick_params(axis='x', labelsize=16)\n",
    "control_axes6.tick_params(axis='y', labelsize=14)\n",
    "control_axes6.set_xticks([0,1,2])\n",
    "control_axes6.set_xticklabels(['MDS','RDS','SC'], fontsize=16)\n",
    "\n",
    "plt.savefig(\"./pdf/pub/control_boxplot_rel_path_length2goal.pdf\", dpi=300)\n",
    "\n",
    "plt.show()"
   ]
  },
  {
   "cell_type": "code",
   "execution_count": null,
   "metadata": {},
   "outputs": [],
   "source": [
    "plt.close()"
   ]
  },
  {
   "cell_type": "markdown",
   "metadata": {},
   "source": [
    "#### Shared control-related metrics"
   ]
  },
  {
   "cell_type": "markdown",
   "metadata": {},
   "source": [
    "##### 4-in-1 plotting"
   ]
  },
  {
   "cell_type": "code",
   "execution_count": null,
   "metadata": {},
   "outputs": [],
   "source": [
    "mpl.rcParams['font.family'] = ['serif']\n",
    "mpl.rcParams['font.serif'] = ['Times New Roman']\n",
    "mpl.rcParams['mathtext.fontset'] = 'stix'\n",
    "\n",
    "control_fig, control_axes = plt.subplots(2, 2, figsize=(16, 12))\n",
    "\n",
    "categorical_plot(\n",
    "    axes=control_axes[0,0],\n",
    "    df=control_metrics_df,\n",
    "    metric='avg_fluency',\n",
    "    category='control_type',\n",
    "    title='',\n",
    "    xlabel='',\n",
    "    ylabel='',\n",
    "    ylim=[0.90, 1.0],\n",
    "    lgd_labels=['April 10, 2021', 'April 24, 2021'],\n",
    "    lgd_font=\"Times New Roman\",\n",
    "    kind='box',\n",
    "    # group='date',\n",
    "    loc='upper left',\n",
    "    box_palette=box_pal,\n",
    "    scatter_palette=scatter_pal,\n",
    ")\n",
    "\n",
    "control_axes[0,0].set_ylabel(\"Average control fluency\", fontsize=16)\n",
    "control_axes[0,0].tick_params(axis='x', labelsize=16)\n",
    "control_axes[0,0].tick_params(axis='y', labelsize=14)\n",
    "\n",
    "categorical_plot(\n",
    "    axes=control_axes[0,1],\n",
    "    df=control_metrics_df,\n",
    "    metric='rel_jerk',\n",
    "    category='control_type',\n",
    "    title='',\n",
    "    xlabel='',\n",
    "    ylabel='',\n",
    "    ylim=[0, 0.3],\n",
    "    lgd_labels=['April 10, 2021', 'April 24, 2021'],\n",
    "    lgd_font=\"Times New Roman\",\n",
    "    kind='box',\n",
    "    # group='date',\n",
    "    loc='upper left',\n",
    "    box_palette=box_pal,\n",
    "    scatter_palette=scatter_pal,\n",
    ")\n",
    "\n",
    "control_axes[0,1].set_ylabel(\"Relative jerk\", fontsize=16)\n",
    "control_axes[0,1].tick_params(axis='x', labelsize=16)\n",
    "control_axes[0,1].tick_params(axis='y', labelsize=14)\n",
    "\n",
    "categorical_plot(\n",
    "    axes=control_axes[1,0],\n",
    "    df=control_metrics_df,\n",
    "    metric='contribution',\n",
    "    category='control_type',\n",
    "    title='',\n",
    "    xlabel='',\n",
    "    ylabel='',\n",
    "    ylim=[0.0, 1.2],\n",
    "    lgd_labels=['April 10, 2021', 'April 24, 2021'],\n",
    "    lgd_font=\"Times New Roman\",\n",
    "    kind='box',\n",
    "    # group='date',\n",
    "    loc='upper left',\n",
    "    box_palette=box_pal,\n",
    "    scatter_palette=scatter_pal,\n",
    ")\n",
    "\n",
    "control_axes[1,0].set_ylabel(\"Contribution\", fontsize=16)\n",
    "control_axes[1,0].tick_params(axis='x', labelsize=16)\n",
    "control_axes[1,0].tick_params(axis='y', labelsize=14)\n",
    "\n",
    "categorical_plot(\n",
    "    axes=control_axes[1,1],\n",
    "    df=control_metrics_df,\n",
    "    metric='avg_agreement',\n",
    "    category='control_type',\n",
    "    title='',\n",
    "    xlabel='',\n",
    "    ylabel='',\n",
    "    ylim=[0.5, 1.0],\n",
    "    lgd_labels=['April 10, 2021', 'April 24, 2021'],\n",
    "    lgd_font=\"Times New Roman\",\n",
    "    kind='box',\n",
    "    # group='date',\n",
    "    loc='upper left',\n",
    "    box_palette=box_pal,\n",
    "    scatter_palette=scatter_pal,\n",
    ")\n",
    "\n",
    "control_axes[1,1].set_ylabel(\"Average agreement\", fontsize=16)\n",
    "control_axes[1,1].tick_params(axis='x', labelsize=16)\n",
    "control_axes[1,1].tick_params(axis='y', labelsize=14)\n",
    "\n",
    "plt.savefig(\"./pdf/comp_control.pdf\", dpi=300)\n",
    "\n",
    "plt.show()"
   ]
  },
  {
   "cell_type": "code",
   "execution_count": null,
   "metadata": {},
   "outputs": [],
   "source": [
    "plt.close()"
   ]
  },
  {
   "cell_type": "markdown",
   "metadata": {},
   "source": [
    "##### Individual figutes"
   ]
  },
  {
   "cell_type": "code",
   "execution_count": null,
   "metadata": {
    "run_control": {
     "marked": true
    }
   },
   "outputs": [],
   "source": [
    "mpl.rcParams['font.family'] = ['serif']\n",
    "mpl.rcParams['font.serif'] = ['Times New Roman']\n",
    "mpl.rcParams['mathtext.fontset'] = 'stix'\n",
    "\n",
    "control_fig7, control_axes7 = plt.subplots(figsize=(6, 5))\n",
    "\n",
    "categorical_plot(\n",
    "    axes=control_axes7,\n",
    "    df=control_metrics_df,\n",
    "    metric='avg_fluency',\n",
    "    category='control_type',\n",
    "    title='',\n",
    "    xlabel='',\n",
    "    ylabel='',\n",
    "    ylim=[0.90, 1.06],\n",
    "    lgd_labels=['April 10, 2021', 'April 24, 2021'],\n",
    "    lgd_font=\"Times New Roman\",\n",
    "    kind='box',\n",
    "    # group='date',\n",
    "    loc='upper left',\n",
    "    box_palette=box_pal,\n",
    "    scatter_palette=scatter_pal,\n",
    ")\n",
    "\n",
    "control_axes7.set_ylabel(\"Average control fluency\", fontsize=16)\n",
    "control_axes7.tick_params(axis='x', labelsize=16)\n",
    "control_axes7.tick_params(axis='y', labelsize=14)\n",
    "control_axes7.set_xticks([0,1,2])\n",
    "control_axes7.set_xticklabels(['MDS','RDS','SC'], fontsize=16)\n",
    "\n",
    "# significance\n",
    "bars = [0, 1, 2]\n",
    "heights = [0.99, 1.0, 1.03]\n",
    "barplot_annotate_brackets(0, 1, 3.539208e-04, bars, heights, line_y=1.00)\n",
    "barplot_annotate_brackets(0, 2, 4.194127e-03, bars, heights, line_y=1.03)\n",
    "barplot_annotate_brackets(1, 2, 7.744226e-10, bars, heights, line_y=1.015)\n",
    "\n",
    "plt.savefig(\"./pdf/pub/control_boxplot_avg_fluency.pdf\", dpi=300)\n",
    "\n",
    "plt.show()"
   ]
  },
  {
   "cell_type": "code",
   "execution_count": null,
   "metadata": {},
   "outputs": [],
   "source": [
    "plt.close()"
   ]
  },
  {
   "cell_type": "code",
   "execution_count": null,
   "metadata": {},
   "outputs": [],
   "source": [
    "mpl.rcParams['font.family'] = ['serif']\n",
    "mpl.rcParams['font.serif'] = ['Times New Roman']\n",
    "mpl.rcParams['mathtext.fontset'] = 'stix'\n",
    "\n",
    "control_fig8, control_axes8 = plt.subplots(figsize=(6, 5))\n",
    "\n",
    "categorical_plot(\n",
    "    axes=control_axes8,\n",
    "    df=control_metrics_df,\n",
    "    metric='rel_jerk',\n",
    "    category='control_type',\n",
    "    title='',\n",
    "    xlabel='',\n",
    "    ylabel='',\n",
    "    ylim=[0, 0.30],\n",
    "    lgd_labels=['April 10, 2021', 'April 24, 2021'],\n",
    "    lgd_font=\"Times New Roman\",\n",
    "    kind='box',\n",
    "    # group='date',\n",
    "    loc='upper left',\n",
    "    box_palette=box_pal,\n",
    "    scatter_palette=scatter_pal,\n",
    ")\n",
    "\n",
    "control_axes8.set_ylabel(\"Relative jerk\", fontsize=16)\n",
    "control_axes8.tick_params(axis='x', labelsize=16)\n",
    "control_axes8.tick_params(axis='y', labelsize=14)\n",
    "control_axes8.set_xticks([0,1,2])\n",
    "control_axes8.set_xticklabels(['MDS','RDS','SC'], fontsize=16)\n",
    "\n",
    "# significance\n",
    "bars = [0, 1, 2]\n",
    "heights = [0.99, 1.0, 1.03]\n",
    "barplot_annotate_brackets(0, 1, 1.022116e-02, bars, heights, line_y=0.265)\n",
    "barplot_annotate_brackets(0, 2, 2.421626e-01, bars, heights, line_y=0.30)\n",
    "barplot_annotate_brackets(1, 2, 2.126847e-07, bars, heights, line_y=0.19)\n",
    "\n",
    "plt.savefig(\"./pdf/pub/control_boxplot_rel_jerk.pdf\", dpi=300)\n",
    "\n",
    "plt.show()"
   ]
  },
  {
   "cell_type": "code",
   "execution_count": null,
   "metadata": {},
   "outputs": [],
   "source": [
    "plt.close()"
   ]
  },
  {
   "cell_type": "code",
   "execution_count": null,
   "metadata": {},
   "outputs": [],
   "source": [
    "mpl.rcParams['font.family'] = ['serif']\n",
    "mpl.rcParams['font.serif'] = ['Times New Roman']\n",
    "mpl.rcParams['mathtext.fontset'] = 'stix'\n",
    "\n",
    "control_fig9, control_axes9 = plt.subplots(figsize=(6, 5))\n",
    "\n",
    "categorical_plot(\n",
    "    axes=control_axes9,\n",
    "    df=control_metrics_df,\n",
    "    metric='contribution',\n",
    "    category='control_type',\n",
    "    title='',\n",
    "    xlabel='',\n",
    "    ylabel='',\n",
    "    ylim=[0.0, 1.4],\n",
    "    lgd_labels=['April 10, 2021', 'April 24, 2021'],\n",
    "    lgd_font=\"Times New Roman\",\n",
    "    kind='box',\n",
    "    # group='date',\n",
    "    loc='upper left',\n",
    "    box_palette=box_pal,\n",
    "    scatter_palette=scatter_pal,\n",
    ")\n",
    "\n",
    "control_axes9.set_ylabel(\"Contribution\", fontsize=16)\n",
    "control_axes9.tick_params(axis='x', labelsize=16)\n",
    "control_axes9.tick_params(axis='y', labelsize=14)\n",
    "control_axes9.set_xticks([0,1,2])\n",
    "control_axes9.set_xticklabels(['MDS','RDS','SC'], fontsize=16)\n",
    "\n",
    "# significance\n",
    "bars = [0, 1, 2]\n",
    "heights = [0.99, 1.0, 1.03]\n",
    "barplot_annotate_brackets(0, 1, 1.701803e-10, bars, heights, line_y=1.15)\n",
    "barplot_annotate_brackets(0, 2, 1.271729e-01, bars, heights, line_y=1.2)\n",
    "barplot_annotate_brackets(1, 2, 3.495410e-09, bars, heights, line_y=1.25)\n",
    "\n",
    "plt.savefig(\"./pdf/pub/control_boxplot_contribution.pdf\", dpi=300)\n",
    "\n",
    "plt.show()"
   ]
  },
  {
   "cell_type": "code",
   "execution_count": null,
   "metadata": {},
   "outputs": [],
   "source": [
    "plt.close()"
   ]
  },
  {
   "cell_type": "code",
   "execution_count": null,
   "metadata": {},
   "outputs": [],
   "source": [
    "mpl.rcParams['font.family'] = ['serif']\n",
    "mpl.rcParams['font.serif'] = ['Times New Roman']\n",
    "mpl.rcParams['mathtext.fontset'] = 'stix'\n",
    "\n",
    "control_fig10, control_axes10 = plt.subplots(figsize=(6, 5))\n",
    "\n",
    "categorical_plot(\n",
    "    axes=control_axes10,\n",
    "    df=control_metrics_df,\n",
    "    metric='avg_agreement',\n",
    "    category='control_type',\n",
    "    title='',\n",
    "    xlabel='',\n",
    "    ylabel='',\n",
    "    ylim=[0.5, 1.1],\n",
    "    lgd_labels=['April 10, 2021', 'April 24, 2021'],\n",
    "    lgd_font=\"Times New Roman\",\n",
    "    kind='box',\n",
    "    # group='date',\n",
    "    loc='upper left',\n",
    "    box_palette=box_pal,\n",
    "    scatter_palette=scatter_pal,\n",
    ")\n",
    "\n",
    "control_axes10.set_ylabel(\"Average agreement\", fontsize=16)\n",
    "control_axes10.tick_params(axis='x', labelsize=16)\n",
    "control_axes10.tick_params(axis='y', labelsize=14)\n",
    "control_axes10.set_xticks([0,1,2])\n",
    "control_axes10.set_xticklabels(['MDS','RDS','SC'], fontsize=16)\n",
    "\n",
    "# significance\n",
    "bars = [0, 1, 2]\n",
    "heights = [0.99, 1.0, 1.03]\n",
    "barplot_annotate_brackets(0, 1, 5.248126e-02, bars, heights, line_y=0.82)\n",
    "barplot_annotate_brackets(0, 2, 4.394447e-12, bars, heights, line_y=1.0)\n",
    "barplot_annotate_brackets(1, 2, 3.542947e-15, bars, heights, line_y=0.94)\n",
    "\n",
    "plt.savefig(\"./pdf/pub/control_boxplot_avg_agreement.pdf\", dpi=300)\n",
    "\n",
    "plt.show()"
   ]
  },
  {
   "cell_type": "code",
   "execution_count": null,
   "metadata": {},
   "outputs": [],
   "source": [
    "plt.close()"
   ]
  },
  {
   "cell_type": "code",
   "execution_count": null,
   "metadata": {},
   "outputs": [],
   "source": []
  }
 ],
 "metadata": {
  "interpreter": {
   "hash": "4c6b102e5d13e1fecd509d7afca2a015b7aa951d14e261cb21795c62f51c11cb"
  },
  "kernelspec": {
   "display_name": "Python 3 (ipykernel)",
   "language": "python",
   "name": "python3"
  },
  "language_info": {
   "codemirror_mode": {
    "name": "ipython",
    "version": 3
   },
   "file_extension": ".py",
   "mimetype": "text/x-python",
   "name": "python",
   "nbconvert_exporter": "python",
   "pygments_lexer": "ipython3",
   "version": "3.8.12"
  },
  "toc": {
   "base_numbering": 1,
   "nav_menu": {},
   "number_sections": true,
   "sideBar": true,
   "skip_h1_title": true,
   "title_cell": "Table of Contents",
   "title_sidebar": "Contents",
   "toc_cell": true,
   "toc_position": {
    "height": "calc(100% - 180px)",
    "left": "10px",
    "top": "150px",
    "width": "443.17px"
   },
   "toc_section_display": true,
   "toc_window_display": true
  }
 },
 "nbformat": 4,
 "nbformat_minor": 4
}
