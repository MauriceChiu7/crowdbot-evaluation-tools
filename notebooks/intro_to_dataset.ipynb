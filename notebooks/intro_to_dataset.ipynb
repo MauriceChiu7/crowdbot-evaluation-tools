{
 "cells": [
  {
   "cell_type": "markdown",
   "id": "14cb5362",
   "metadata": {
    "toc": true
   },
   "source": [
    "<h1>Table of Contents<span class=\"tocSkip\"></span></h1>\n",
    "<div class=\"toc\"><ul class=\"toc-item\"><li><span><a href=\"#Intro-to-CrowdBot-Dataset\" data-toc-modified-id=\"Intro-to-CrowdBot-Dataset-1\"><span class=\"toc-item-num\">1&nbsp;&nbsp;</span>Intro to CrowdBot Dataset</a></span><ul class=\"toc-item\"><li><span><a href=\"#keys-for-each-npy\" data-toc-modified-id=\"keys-for-each-npy-1.1\"><span class=\"toc-item-num\">1.1&nbsp;&nbsp;</span>keys for each npy</a></span></li><li><span><a href=\"#simple-example-to-load-data\" data-toc-modified-id=\"simple-example-to-load-data-1.2\"><span class=\"toc-item-num\">1.2&nbsp;&nbsp;</span>simple example to load data</a></span></li></ul></li></ul></div>"
   ]
  },
  {
   "cell_type": "markdown",
   "id": "56a127c4",
   "metadata": {},
   "source": [
    "# Intro to CrowdBot Dataset"
   ]
  },
  {
   "cell_type": "code",
   "execution_count": 1,
   "id": "22921185",
   "metadata": {},
   "outputs": [],
   "source": [
    "import os\n",
    "import sys\n",
    "\n",
    "import pandas as pd\n",
    "import numpy as np\n",
    "\n",
    "sys.path.append(os.path.join(os.path.dirname(sys.path[0]),'qolo'))\n",
    "from crowdbot_data import CrowdBotData, CrowdBotDatabase"
   ]
  },
  {
   "cell_type": "code",
   "execution_count": 2,
   "id": "4ecb486b",
   "metadata": {},
   "outputs": [
    {
     "name": "stdout",
     "output_type": "stream",
     "text": [
      "rosbag database: /hdd/data_qolo/crowd_qolo_recordings/\n",
      "output database: /hdd/data_qolo/crowdbot_data_analysis/\n"
     ]
    }
   ],
   "source": [
    "qolo_dataset = CrowdBotData()\n",
    "print(\"rosbag database:\", qolo_dataset.bagbase_dir)\n",
    "print(\"output database:\", qolo_dataset.outbase_dir)"
   ]
  },
  {
   "cell_type": "markdown",
   "id": "b83c2650",
   "metadata": {},
   "source": [
    "## keys for each npy"
   ]
  },
  {
   "cell_type": "code",
   "execution_count": 3,
   "id": "9d559968",
   "metadata": {},
   "outputs": [
    {
     "name": "stdout",
     "output_type": "stream",
     "text": [
      "\n",
      "/hdd/data_qolo/crowdbot_data_analysis/shared_test_processed/metrics/2021-04-10-12-36-29_crowd_eval.npy\n",
      "0 all_det\n",
      "1 within_det5\n",
      "2 within_det10\n",
      "3 crowd_density5\n",
      "4 crowd_density10\n",
      "5 min_dist\n",
      "6 timestamp\n",
      "7 start_command_ts\n",
      "8 end_command_ts\n",
      "9 duration2goal\n",
      "10 path_lenth2goal\n",
      "11 avg_all_det\n",
      "12 avg_within_det5\n",
      "13 avg_within_det10\n",
      "14 avg_crowd_density5\n",
      "15 avg_crowd_density10\n",
      "16 avg_min_dist\n",
      "\n",
      "/hdd/data_qolo/crowdbot_data_analysis/shared_test_processed/metrics/2021-04-10-12-36-29_qolo_eval.npy\n",
      "0 avg_x_jerk\n",
      "1 avg_zrot_jerk\n",
      "2 avg_fluency\n",
      "3 std_fluency\n",
      "4 start_command_ts\n",
      "5 end_command_ts\n",
      "6 duration2goal\n",
      "7 path_lenth2goal\n",
      "\n",
      "/hdd/data_qolo/crowdbot_data_analysis/shared_test_processed/source_data/pose2d/2021-04-10-12-36-29_pose2d.npy\n",
      "0 timestamp\n",
      "1 x\n",
      "2 y\n",
      "3 theta\n",
      "\n",
      "/hdd/data_qolo/crowdbot_data_analysis/shared_test_processed/source_data/tf_qolo/2021-04-10-12-36-29_qolo_state.npy\n",
      "0 timestamp\n",
      "1 orientation\n",
      "2 position\n",
      "3 x_vel_uf\n",
      "4 zrot_vel_uf\n",
      "5 x_vel\n",
      "6 zrot_vel\n",
      "7 x_acc_uf\n",
      "8 zrot_acc_uf\n",
      "9 x_acc\n",
      "10 zrot_acc\n",
      "11 x_jerk\n",
      "12 zrot_jerk\n",
      "13 avg_x_jerk\n",
      "14 avg_zrot_jerk\n",
      "\n",
      "/hdd/data_qolo/crowdbot_data_analysis/shared_test_processed/source_data/tf_qolo/2021-04-10-12-36-29_tfqolo_raw.npy\n",
      "0 timestamp\n",
      "1 position\n",
      "2 orientation\n",
      "\n",
      "/hdd/data_qolo/crowdbot_data_analysis/shared_test_processed/source_data/tf_qolo/2021-04-10-12-36-29_tfqolo_sampled.npy\n",
      "0 timestamp\n",
      "1 orientation\n",
      "2 position\n",
      "3 x_vel\n",
      "4 zrot_vel\n",
      "\n",
      "/hdd/data_qolo/crowdbot_data_analysis/shared_test_processed/source_data/twist/2021-04-10-12-36-29_qolo_command.npy\n",
      "0 timestamp\n",
      "1 x_vel\n",
      "2 zrot_vel\n",
      "3 x_acc\n",
      "4 zrot_acc\n",
      "5 x_jerk\n",
      "6 zrot_jerk\n",
      "7 avg_x_jerk\n",
      "8 avg_zrot_jerk\n",
      "\n",
      "/hdd/data_qolo/crowdbot_data_analysis/shared_test_processed/source_data/twist/2021-04-10-12-36-29_twist_raw.npy\n",
      "0 timestamp\n",
      "1 x\n",
      "2 zrot\n"
     ]
    }
   ],
   "source": [
    "example_class = 'shared_test'\n",
    "example_seq = '2021-04-10-12-36-29'\n",
    "data_processed = example_class + '_processed'\n",
    "metrics_dir = os.path.join(qolo_dataset.outbase_dir, data_processed, 'metrics')\n",
    "source_data_dir = os.path.join(qolo_dataset.outbase_dir, data_processed, 'source_data')\n",
    "\n",
    "for root, dirs, files in os.walk(metrics_dir, topdown=False):\n",
    "    for name in files:\n",
    "        if (example_seq in name) and name[-4:]=='.npy':\n",
    "            print(\"\\n{}\".format(os.path.join(root, name)))\n",
    "            dict_tmp = np.load(os.path.join(root, name), allow_pickle=True).item()\n",
    "            for idx, key in enumerate(dict_tmp.keys()):\n",
    "                print(idx, key)\n",
    "            \n",
    "for root, dirs, files in os.walk(source_data_dir, topdown=False):\n",
    "    for name in files:\n",
    "        if (example_seq in name) and name[-4:]=='.npy':\n",
    "            print(\"\\n{}\".format(os.path.join(root, name)))\n",
    "            dict_tmp = np.load(os.path.join(root, name), allow_pickle=True).item()\n",
    "            for idx, key in enumerate(dict_tmp.keys()):\n",
    "                print(idx, key)"
   ]
  },
  {
   "cell_type": "markdown",
   "id": "8ef67862",
   "metadata": {},
   "source": [
    "## simple example to load data"
   ]
  },
  {
   "cell_type": "code",
   "execution_count": 4,
   "id": "ae0ea37c",
   "metadata": {},
   "outputs": [
    {
     "name": "stdout",
     "output_type": "stream",
     "text": [
      "0 1618050989.4108927 0.0 -0.0\n",
      "1 1618050989.5297892 0.0 -0.0\n",
      "2 1618050989.6673248 0.0 -0.0\n",
      "3 1618050989.8001592 0.0 -0.0\n",
      "4 1618050989.9180224 0.0 -0.0\n",
      "5 1618050990.0402672 0.0 -0.0\n",
      "6 1618050990.1574602 0.0 -0.0\n",
      "7 1618050990.2714906 0.0 -0.0\n",
      "8 1618050990.392743 0.0 -0.0\n",
      "9 1618050990.5130858 0.0 -0.0\n",
      "10 1618050990.6439495 0.0 -0.0\n",
      "11 1618050990.7631638 0.0 -0.0\n",
      "12 1618050990.8801453 0.0 -0.0\n",
      "13 1618050990.9994323 0.030576 0.0\n",
      "14 1618050991.1054683 0.05733 0.0\n",
      "15 1618050991.208891 0.082341 0.0\n",
      "16 1618050991.340278 0.112927 0.0\n",
      "17 1618050991.4569502 0.144823 0.0\n",
      "18 1618050991.5752847 0.17319 0.0\n",
      "19 1618050991.693814 0.203115 0.0\n",
      "20 1618050991.824538 0.235855 0.0\n",
      "21 1618050991.9492903 0.26712 0.0\n",
      "22 1618050992.0746832 0.298594 0.0\n",
      "23 1618050992.1835773 0.325216 0.0\n",
      "24 1618050992.3049333 0.35439 0.0\n"
     ]
    }
   ],
   "source": [
    "twist_raw_dict = np.load(\n",
    "    \"/hdd/data_qolo/crowdbot_data_analysis/shared_test_processed/source_data/twist/2021-04-10-12-36-29_twist_raw.npy\",\n",
    "    allow_pickle=True,\n",
    ").item()\n",
    "\n",
    "ts, x, zrot = twist_raw_dict['timestamp'], twist_raw_dict['x'], twist_raw_dict['zrot']\n",
    "for idx in range(25):\n",
    "    print(idx, ts[idx], x[idx], zrot[idx])"
   ]
  },
  {
   "cell_type": "code",
   "execution_count": null,
   "id": "2af45616",
   "metadata": {},
   "outputs": [],
   "source": []
  }
 ],
 "metadata": {
  "kernelspec": {
   "display_name": "Python 3.8.12 64-bit ('py38cuda110': conda)",
   "language": "python",
   "name": "python3812jvsc74a57bd04c6b102e5d13e1fecd509d7afca2a015b7aa951d14e261cb21795c62f51c11cb"
  },
  "language_info": {
   "codemirror_mode": {
    "name": "ipython",
    "version": 3
   },
   "file_extension": ".py",
   "mimetype": "text/x-python",
   "name": "python",
   "nbconvert_exporter": "python",
   "pygments_lexer": "ipython3",
   "version": "3.8.12"
  },
  "toc": {
   "base_numbering": 1,
   "nav_menu": {},
   "number_sections": true,
   "sideBar": true,
   "skip_h1_title": false,
   "title_cell": "Table of Contents",
   "title_sidebar": "Contents",
   "toc_cell": true,
   "toc_position": {},
   "toc_section_display": true,
   "toc_window_display": true
  }
 },
 "nbformat": 4,
 "nbformat_minor": 5
}
