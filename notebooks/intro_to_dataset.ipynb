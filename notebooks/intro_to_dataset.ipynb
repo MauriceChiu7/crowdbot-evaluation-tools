{
 "cells": [
  {
   "cell_type": "markdown",
   "id": "14cb5362",
   "metadata": {
    "toc": true
   },
   "source": [
    "<h1>Table of Contents<span class=\"tocSkip\"></span></h1>\n",
    "<div class=\"toc\"><ul class=\"toc-item\"><li><span><a href=\"#Intro-to-CrowdBot-Dataset\" data-toc-modified-id=\"Intro-to-CrowdBot-Dataset-1\"><span class=\"toc-item-num\">1&nbsp;&nbsp;</span>Intro to CrowdBot Dataset</a></span><ul class=\"toc-item\"><li><span><a href=\"#keys-for-each-npy\" data-toc-modified-id=\"keys-for-each-npy-1.1\"><span class=\"toc-item-num\">1.1&nbsp;&nbsp;</span>keys for each npy</a></span></li><li><span><a href=\"#simple-example-to-load-data\" data-toc-modified-id=\"simple-example-to-load-data-1.2\"><span class=\"toc-item-num\">1.2&nbsp;&nbsp;</span>simple example to load data</a></span></li></ul></li></ul></div>"
   ]
  },
  {
   "cell_type": "markdown",
   "id": "56a127c4",
   "metadata": {},
   "source": [
    "# Intro to CrowdBot Dataset"
   ]
  },
  {
   "cell_type": "code",
   "execution_count": 1,
   "id": "22921185",
   "metadata": {},
   "outputs": [],
   "source": [
    "import os\n",
    "import sys\n",
    "\n",
    "import pandas as pd\n",
    "import numpy as np\n",
    "\n",
    "sys.path.append(os.path.join(os.path.dirname(sys.path[0]),'qolo'))\n",
    "from crowdbot_data import CrowdBotData, CrowdBotDatabase"
   ]
  },
  {
   "cell_type": "code",
   "execution_count": 2,
   "id": "4ecb486b",
   "metadata": {},
   "outputs": [
    {
     "name": "stdout",
     "output_type": "stream",
     "text": [
      "rosbag database: /hdd/data_qolo/crowd_qolo_recordings/\n",
      "output database: /hdd/data_qolo/crowdbot_data_analysis/\n"
     ]
    }
   ],
   "source": [
    "qolo_dataset = CrowdBotData()\n",
    "print(\"rosbag database:\", qolo_dataset.bagbase_dir)\n",
    "print(\"output database:\", qolo_dataset.outbase_dir)"
   ]
  },
  {
   "cell_type": "markdown",
   "id": "b83c2650",
   "metadata": {},
   "source": [
    "## keys for each npy"
   ]
  },
  {
   "cell_type": "code",
   "execution_count": 3,
   "id": "9d559968",
   "metadata": {
    "scrolled": false
   },
   "outputs": [
    {
     "name": "stdout",
     "output_type": "stream",
     "text": [
      "\n",
      "/hdd/data_qolo/crowdbot_data_analysis/0424_mds_processed/metrics/2021-04-24-12-04-04/2021-04-24-12-04-04_crowd_eval.npy\n",
      "0 all_det\n",
      "1 within_det2_5\n",
      "2 within_det3\n",
      "3 within_det5\n",
      "4 within_det10\n",
      "5 crowd_density2_5\n",
      "6 crowd_density3\n",
      "7 crowd_density5\n",
      "8 crowd_density10\n",
      "9 min_dist\n",
      "10 normalized_proximity\n",
      "11 avg_all_det\n",
      "12 avg_within_det2_5\n",
      "13 avg_within_det3\n",
      "14 avg_within_det5\n",
      "15 avg_within_det10\n",
      "16 avg_crowd_density2_5\n",
      "17 avg_crowd_density3\n",
      "18 avg_crowd_density5\n",
      "19 avg_crowd_density10\n",
      "20 avg_min_dist\n",
      "21 virtual_collision\n",
      "22 max_crowd_density2_5\n",
      "23 std_crowd_density2_5\n",
      "24 max_crowd_density5\n",
      "25 std_crowd_density5\n",
      "26 timestamp\n",
      "\n",
      "/hdd/data_qolo/crowdbot_data_analysis/0424_mds_processed/metrics/2021-04-24-12-04-04/2021-04-24-12-04-04_path_eval.npy\n",
      "0 start_command_ts\n",
      "1 end_command_ts\n",
      "2 start_idx\n",
      "3 end_idx\n",
      "4 goal_loc\n",
      "5 goal_reached\n",
      "6 min_dist2goal\n",
      "7 duration2goal\n",
      "8 path_length2goal\n",
      "9 rel_duration2goal\n",
      "10 rel_path_length2goal\n",
      "11 duration_total\n",
      "12 path_length_total\n",
      "\n",
      "/hdd/data_qolo/crowdbot_data_analysis/0424_mds_processed/metrics/2021-04-24-12-04-04/2021-04-24-12-04-04_qolo_eval.npy\n",
      "0 rel_jerk\n",
      "1 avg_linear_jerk\n",
      "2 avg_angular_jerk\n",
      "3 avg_fluency\n",
      "4 std_fluency\n",
      "5 contribution\n",
      "6 avg_agreement\n",
      "7 std_agreement\n",
      "8 avg_linear_diff\n",
      "9 avg_angular_diff\n",
      "\n",
      "/hdd/data_qolo/crowdbot_data_analysis/0424_mds_processed/source_data/commands/2021-04-24-12-04-04_commands_raw.npy\n",
      "0 timestamp\n",
      "1 nominal_linear\n",
      "2 nominal_angular\n",
      "3 corrected_linear\n",
      "4 corrected_angular\n",
      "\n",
      "/hdd/data_qolo/crowdbot_data_analysis/0424_mds_processed/source_data/commands/2021-04-24-12-04-04_commands_sampled.npy\n",
      "0 timestamp\n",
      "1 nominal_linear\n",
      "2 nominal_angular\n",
      "3 corrected_linear\n",
      "4 corrected_angular\n",
      "\n",
      "/hdd/data_qolo/crowdbot_data_analysis/0424_mds_processed/source_data/pose2d/2021-04-24-12-04-04_pose2d.npy\n",
      "0 timestamp\n",
      "1 x\n",
      "2 y\n",
      "3 theta\n",
      "\n",
      "/hdd/data_qolo/crowdbot_data_analysis/0424_mds_processed/source_data/tf_qolo/2021-04-24-12-04-04_qolo_state.npy\n",
      "0 timestamp\n",
      "1 orientation\n",
      "2 position\n",
      "3 x_vel\n",
      "4 zrot_vel\n",
      "5 x_acc\n",
      "6 zrot_acc\n",
      "7 x_jerk\n",
      "8 zrot_jerk\n",
      "9 avg_x_jerk\n",
      "10 avg_zrot_jerk\n",
      "\n",
      "/hdd/data_qolo/crowdbot_data_analysis/0424_mds_processed/source_data/tf_qolo/2021-04-24-12-04-04_tfqolo_raw.npy\n",
      "0 timestamp\n",
      "1 position\n",
      "2 orientation\n",
      "\n",
      "/hdd/data_qolo/crowdbot_data_analysis/0424_mds_processed/source_data/tf_qolo/2021-04-24-12-04-04_tfqolo_sampled.npy\n",
      "0 timestamp\n",
      "1 orientation\n",
      "2 position\n",
      "3 x_vel\n",
      "4 zrot_vel\n",
      "\n",
      "/hdd/data_qolo/crowdbot_data_analysis/0424_mds_processed/source_data/timestamp/2021-04-24-12-04-04_stamped.npy\n",
      "0 timestamp\n",
      "1 id\n",
      "\n",
      "/hdd/data_qolo/crowdbot_data_analysis/0424_mds_processed/source_data/twist/2021-04-24-12-04-04_qolo_command.npy\n",
      "0 timestamp\n",
      "1 x_vel\n",
      "2 zrot_vel\n",
      "3 x_acc\n",
      "4 zrot_acc\n",
      "5 x_jerk\n",
      "6 zrot_jerk\n",
      "7 avg_x_jerk\n",
      "8 avg_zrot_jerk\n",
      "\n",
      "/hdd/data_qolo/crowdbot_data_analysis/0424_mds_processed/source_data/twist/2021-04-24-12-04-04_twist_raw.npy\n",
      "0 timestamp\n",
      "1 x\n",
      "2 zrot\n"
     ]
    }
   ],
   "source": [
    "example_class = '0424_mds'\n",
    "example_seq = '2021-04-24-12-04-04'\n",
    "data_processed = example_class + '_processed'\n",
    "metrics_dir = os.path.join(qolo_dataset.outbase_dir, data_processed, 'metrics')\n",
    "source_data_dir = os.path.join(qolo_dataset.outbase_dir, data_processed, 'source_data')\n",
    "\n",
    "for root, dirs, files in os.walk(metrics_dir, topdown=False):\n",
    "    for name in files:\n",
    "        if (example_seq in name) and name[-4:]=='.npy':\n",
    "            print(\"\\n{}\".format(os.path.join(root, name)))\n",
    "            dict_tmp = np.load(os.path.join(root, name), allow_pickle=True).item()\n",
    "            for idx, key in enumerate(dict_tmp.keys()):\n",
    "                print(idx, key)\n",
    "            \n",
    "for root, dirs, files in os.walk(source_data_dir, topdown=False):\n",
    "    for name in files:\n",
    "        if (example_seq in name) and name[-4:]=='.npy':\n",
    "            print(\"\\n{}\".format(os.path.join(root, name)))\n",
    "            dict_tmp = np.load(os.path.join(root, name), allow_pickle=True).item()\n",
    "            for idx, key in enumerate(dict_tmp.keys()):\n",
    "                print(idx, key)"
   ]
  },
  {
   "cell_type": "markdown",
   "id": "8ef67862",
   "metadata": {},
   "source": [
    "## simple example to load data"
   ]
  },
  {
   "cell_type": "code",
   "execution_count": 4,
   "id": "ae0ea37c",
   "metadata": {},
   "outputs": [
    {
     "name": "stdout",
     "output_type": "stream",
     "text": [
      "0 1619258644.4018416 0.0 -0.0\n",
      "1 1619258644.446841 0.0 -0.0\n",
      "2 1619258644.4965744 0.0 -0.0\n",
      "3 1619258644.5368981 0.0 -0.0\n",
      "4 1619258644.5805776 0.0 -0.0\n",
      "5 1619258644.6300325 0.0 -0.0\n",
      "6 1619258644.6720397 0.0 -0.0\n",
      "7 1619258644.7144835 0.0 -0.0\n",
      "8 1619258644.752889 0.0 -0.0\n",
      "9 1619258644.7932627 0.0 -0.0\n",
      "10 1619258644.8314364 0.0 -0.0\n",
      "11 1619258644.8703246 0.0 -0.0\n",
      "12 1619258644.9102616 0.0 -0.0\n",
      "13 1619258644.9486454 0.0 -0.0\n",
      "14 1619258644.989209 0.0 -0.0\n",
      "15 1619258645.0457747 0.0 -0.0\n",
      "16 1619258645.0831645 0.0 -0.0\n",
      "17 1619258645.119352 0.0 -0.0\n",
      "18 1619258645.162014 0.0 -0.0\n",
      "19 1619258645.2119482 0.0 -0.0\n",
      "20 1619258645.2634602 0.0 -0.0\n",
      "21 1619258645.313463 0.0 -0.0\n",
      "22 1619258645.350674 0.0 -0.0\n",
      "23 1619258645.392475 0.0 -0.0\n",
      "24 1619258645.4340801 0.0 -0.0\n"
     ]
    }
   ],
   "source": [
    "twist_raw_dict = np.load(\n",
    "    \"/hdd/data_qolo/crowdbot_data_analysis/0424_mds_processed/source_data/twist/2021-04-24-12-04-04_twist_raw.npy\",\n",
    "    allow_pickle=True,\n",
    ").item()\n",
    "\n",
    "ts, x, zrot = twist_raw_dict['timestamp'], twist_raw_dict['x'], twist_raw_dict['zrot']\n",
    "for idx in range(25):\n",
    "    print(idx, ts[idx], x[idx], zrot[idx])"
   ]
  },
  {
   "cell_type": "code",
   "execution_count": null,
   "id": "2af45616",
   "metadata": {},
   "outputs": [],
   "source": []
  }
 ],
 "metadata": {
  "kernelspec": {
   "display_name": "Python 3 (ipykernel)",
   "language": "python",
   "name": "python3"
  },
  "language_info": {
   "codemirror_mode": {
    "name": "ipython",
    "version": 3
   },
   "file_extension": ".py",
   "mimetype": "text/x-python",
   "name": "python",
   "nbconvert_exporter": "python",
   "pygments_lexer": "ipython3",
   "version": "3.8.12"
  },
  "toc": {
   "base_numbering": 1,
   "nav_menu": {},
   "number_sections": true,
   "sideBar": true,
   "skip_h1_title": false,
   "title_cell": "Table of Contents",
   "title_sidebar": "Contents",
   "toc_cell": true,
   "toc_position": {},
   "toc_section_display": true,
   "toc_window_display": false
  }
 },
 "nbformat": 4,
 "nbformat_minor": 5
}
