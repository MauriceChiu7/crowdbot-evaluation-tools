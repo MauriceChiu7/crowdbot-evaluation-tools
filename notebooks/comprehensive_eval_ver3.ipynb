{
 "cells": [
  {
   "cell_type": "markdown",
   "metadata": {
    "toc": true
   },
   "source": [
    "<h1>Table of Contents<span class=\"tocSkip\"></span></h1>\n",
    "<div class=\"toc\"><ul class=\"toc-item\"><li><span><a href=\"#Data-summary\" data-toc-modified-id=\"Data-summary-1\"><span class=\"toc-item-num\">1&nbsp;&nbsp;</span>Data summary</a></span></li><li><span><a href=\"#Metrics\" data-toc-modified-id=\"Metrics-2\"><span class=\"toc-item-num\">2&nbsp;&nbsp;</span>Metrics</a></span></li><li><span><a href=\"#Jerk-in-manual-control\" data-toc-modified-id=\"Jerk-in-manual-control-3\"><span class=\"toc-item-num\">3&nbsp;&nbsp;</span>Jerk in manual control</a></span></li><li><span><a href=\"#Example:-2021-04-24\" data-toc-modified-id=\"Example:-2021-04-24-4\"><span class=\"toc-item-num\">4&nbsp;&nbsp;</span>Example: 2021-04-24</a></span><ul class=\"toc-item\"><li><span><a href=\"#Result-loading\" data-toc-modified-id=\"Result-loading-4.1\"><span class=\"toc-item-num\">4.1&nbsp;&nbsp;</span>Result loading</a></span></li><li><span><a href=\"#Crowd-related-metrics\" data-toc-modified-id=\"Crowd-related-metrics-4.2\"><span class=\"toc-item-num\">4.2&nbsp;&nbsp;</span>Crowd-related metrics</a></span></li><li><span><a href=\"#Path-Efficiency-related-metrics\" data-toc-modified-id=\"Path-Efficiency-related-metrics-4.3\"><span class=\"toc-item-num\">4.3&nbsp;&nbsp;</span>Path Efficiency-related metrics</a></span></li><li><span><a href=\"#Shared-control-related-metrics\" data-toc-modified-id=\"Shared-control-related-metrics-4.4\"><span class=\"toc-item-num\">4.4&nbsp;&nbsp;</span>Shared control-related metrics</a></span></li></ul></li><li><span><a href=\"#Example:-2021-04-10\" data-toc-modified-id=\"Example:-2021-04-10-5\"><span class=\"toc-item-num\">5&nbsp;&nbsp;</span>Example: 2021-04-10</a></span><ul class=\"toc-item\"><li><span><a href=\"#Result-loading\" data-toc-modified-id=\"Result-loading-5.1\"><span class=\"toc-item-num\">5.1&nbsp;&nbsp;</span>Result loading</a></span></li><li><span><a href=\"#Crowd-related-metrics\" data-toc-modified-id=\"Crowd-related-metrics-5.2\"><span class=\"toc-item-num\">5.2&nbsp;&nbsp;</span>Crowd-related metrics</a></span></li><li><span><a href=\"#Path-Efficiency-related-metrics\" data-toc-modified-id=\"Path-Efficiency-related-metrics-5.3\"><span class=\"toc-item-num\">5.3&nbsp;&nbsp;</span>Path Efficiency-related metrics</a></span></li><li><span><a href=\"#Shared-control-related-metrics\" data-toc-modified-id=\"Shared-control-related-metrics-5.4\"><span class=\"toc-item-num\">5.4&nbsp;&nbsp;</span>Shared control-related metrics</a></span></li></ul></li><li><span><a href=\"#Example:-2021-12-03\" data-toc-modified-id=\"Example:-2021-12-03-6\"><span class=\"toc-item-num\">6&nbsp;&nbsp;</span>Example: 2021-12-03</a></span><ul class=\"toc-item\"><li><span><a href=\"#Results-loading\" data-toc-modified-id=\"Results-loading-6.1\"><span class=\"toc-item-num\">6.1&nbsp;&nbsp;</span>Results loading</a></span></li><li><span><a href=\"#Crowd-related-metrics\" data-toc-modified-id=\"Crowd-related-metrics-6.2\"><span class=\"toc-item-num\">6.2&nbsp;&nbsp;</span>Crowd-related metrics</a></span></li><li><span><a href=\"#Path-Efficiency-related-metrics\" data-toc-modified-id=\"Path-Efficiency-related-metrics-6.3\"><span class=\"toc-item-num\">6.3&nbsp;&nbsp;</span>Path Efficiency-related metrics</a></span></li><li><span><a href=\"#Shared-control-related-metrics\" data-toc-modified-id=\"Shared-control-related-metrics-6.4\"><span class=\"toc-item-num\">6.4&nbsp;&nbsp;</span>Shared control-related metrics</a></span></li></ul></li><li><span><a href=\"#Comparison-of-all-control-type-between-0410-and-0424\" data-toc-modified-id=\"Comparison-of-all-control-type-between-0410-and-0424-7\"><span class=\"toc-item-num\">7&nbsp;&nbsp;</span>Comparison of all control type between 0410 and 0424</a></span><ul class=\"toc-item\"><li><span><a href=\"#Result-loading\" data-toc-modified-id=\"Result-loading-7.1\"><span class=\"toc-item-num\">7.1&nbsp;&nbsp;</span>Result loading</a></span></li><li><span><a href=\"#Mean-Std-statistics\" data-toc-modified-id=\"Mean-Std-statistics-7.2\"><span class=\"toc-item-num\">7.2&nbsp;&nbsp;</span>Mean-Std statistics</a></span></li><li><span><a href=\"#Crowd-related-metrics\" data-toc-modified-id=\"Crowd-related-metrics-7.3\"><span class=\"toc-item-num\">7.3&nbsp;&nbsp;</span>Crowd-related metrics</a></span></li><li><span><a href=\"#Path-Efficiency-related-metrics\" data-toc-modified-id=\"Path-Efficiency-related-metrics-7.4\"><span class=\"toc-item-num\">7.4&nbsp;&nbsp;</span>Path Efficiency-related metrics</a></span></li><li><span><a href=\"#Shared-control-related-metrics\" data-toc-modified-id=\"Shared-control-related-metrics-7.5\"><span class=\"toc-item-num\">7.5&nbsp;&nbsp;</span>Shared control-related metrics</a></span></li><li><span><a href=\"#Analysis-without-grouping-by-date\" data-toc-modified-id=\"Analysis-without-grouping-by-date-7.6\"><span class=\"toc-item-num\">7.6&nbsp;&nbsp;</span>Analysis without grouping by date</a></span></li><li><span><a href=\"#ANOVA-test\" data-toc-modified-id=\"ANOVA-test-7.7\"><span class=\"toc-item-num\">7.7&nbsp;&nbsp;</span>ANOVA test</a></span></li></ul></li><li><span><a href=\"#Comparison-between-shared_control-on-0325,-0410,-0424,-and-1203\" data-toc-modified-id=\"Comparison-between-shared_control-on-0325,-0410,-0424,-and-1203-8\"><span class=\"toc-item-num\">8&nbsp;&nbsp;</span>Comparison between shared_control on 0325, 0410, 0424, and 1203</a></span><ul class=\"toc-item\"><li><span><a href=\"#Result-loading\" data-toc-modified-id=\"Result-loading-8.1\"><span class=\"toc-item-num\">8.1&nbsp;&nbsp;</span>Result loading</a></span></li><li><span><a href=\"#Analysis-given-different-dates\" data-toc-modified-id=\"Analysis-given-different-dates-8.2\"><span class=\"toc-item-num\">8.2&nbsp;&nbsp;</span>Analysis given different dates</a></span><ul class=\"toc-item\"><li><span><a href=\"#Mean-Std-statistics\" data-toc-modified-id=\"Mean-Std-statistics-8.2.1\"><span class=\"toc-item-num\">8.2.1&nbsp;&nbsp;</span>Mean-Std statistics</a></span></li><li><span><a href=\"#ANOVA-test\" data-toc-modified-id=\"ANOVA-test-8.2.2\"><span class=\"toc-item-num\">8.2.2&nbsp;&nbsp;</span>ANOVA test</a></span></li><li><span><a href=\"#Crowd-related-metrics\" data-toc-modified-id=\"Crowd-related-metrics-8.2.3\"><span class=\"toc-item-num\">8.2.3&nbsp;&nbsp;</span>Crowd-related metrics</a></span></li><li><span><a href=\"#Path-Efficiency-related-metrics\" data-toc-modified-id=\"Path-Efficiency-related-metrics-8.2.4\"><span class=\"toc-item-num\">8.2.4&nbsp;&nbsp;</span>Path Efficiency-related metrics</a></span></li><li><span><a href=\"#Shared-control-metrics\" data-toc-modified-id=\"Shared-control-metrics-8.2.5\"><span class=\"toc-item-num\">8.2.5&nbsp;&nbsp;</span>Shared control metrics</a></span></li></ul></li><li><span><a href=\"#Analysis-given-cluster\" data-toc-modified-id=\"Analysis-given-cluster-8.3\"><span class=\"toc-item-num\">8.3&nbsp;&nbsp;</span>Analysis given cluster</a></span><ul class=\"toc-item\"><li><span><a href=\"#Cluster-according-to-crowd-density-metrics\" data-toc-modified-id=\"Cluster-according-to-crowd-density-metrics-8.3.1\"><span class=\"toc-item-num\">8.3.1&nbsp;&nbsp;</span>Cluster according to crowd density metrics</a></span></li><li><span><a href=\"#Mean-Std\" data-toc-modified-id=\"Mean-Std-8.3.2\"><span class=\"toc-item-num\">8.3.2&nbsp;&nbsp;</span>Mean-Std</a></span></li><li><span><a href=\"#ANOVA-test\" data-toc-modified-id=\"ANOVA-test-8.3.3\"><span class=\"toc-item-num\">8.3.3&nbsp;&nbsp;</span>ANOVA test</a></span></li><li><span><a href=\"#Crowd-related-metrics\" data-toc-modified-id=\"Crowd-related-metrics-8.3.4\"><span class=\"toc-item-num\">8.3.4&nbsp;&nbsp;</span>Crowd-related metrics</a></span></li><li><span><a href=\"#Path-Efficiency-related-metrics\" data-toc-modified-id=\"Path-Efficiency-related-metrics-8.3.5\"><span class=\"toc-item-num\">8.3.5&nbsp;&nbsp;</span>Path Efficiency-related metrics</a></span></li><li><span><a href=\"#Shared-control-metrics\" data-toc-modified-id=\"Shared-control-metrics-8.3.6\"><span class=\"toc-item-num\">8.3.6&nbsp;&nbsp;</span>Shared control metrics</a></span></li></ul></li></ul></li><li><span><a href=\"#one-way-ANOVA-test-with-different-control-methods\" data-toc-modified-id=\"one-way-ANOVA-test-with-different-control-methods-9\"><span class=\"toc-item-num\">9&nbsp;&nbsp;</span>one-way ANOVA test with different control methods</a></span><ul class=\"toc-item\"><li><span><a href=\"#Mean-Std-statistics\" data-toc-modified-id=\"Mean-Std-statistics-9.1\"><span class=\"toc-item-num\">9.1&nbsp;&nbsp;</span>Mean-Std statistics</a></span></li><li><span><a href=\"#ANOVA-test\" data-toc-modified-id=\"ANOVA-test-9.2\"><span class=\"toc-item-num\">9.2&nbsp;&nbsp;</span>ANOVA test</a></span></li></ul></li></ul></div>"
   ]
  },
  {
   "cell_type": "markdown",
   "metadata": {},
   "source": [
    "# Crowd navigation evaluation\n",
    "\n",
    "> Analysis of different control methods on different datas"
   ]
  },
  {
   "cell_type": "code",
   "execution_count": 1,
   "metadata": {},
   "outputs": [],
   "source": [
    "import math\n",
    "import datetime\n",
    "import collections\n",
    "import urllib.request\n",
    "from pathlib import Path\n",
    "\n",
    "import scipy.stats as stats\n",
    "\n",
    "import numpy as np\n",
    "import pandas as pd\n",
    "import matplotlib.pyplot as plt\n",
    "plt.ioff()\n",
    "import seaborn as sns\n",
    "sns.set_context(\"paper\", font_scale=1.2, rc={\"lines.linewidth\": 1.3})\n",
    "\n",
    "import sys, os, fnmatch\n",
    "# Importing Metrics Functions:\n",
    "# sys.path.append(os.path.join(os.path.dirname(sys.path[0]),'src'))\n",
    "sys.path.append(os.path.join(os.path.dirname(sys.path[0]),'qolo'))\n",
    "\n",
    "from crowdbot_data import CrowdBotData, CrowdBotDatabase\n",
    "from notebook_util import walk, violinplot, categorical_plot, import_eval_res\n",
    "\n",
    "# %matplotlib inline"
   ]
  },
  {
   "cell_type": "code",
   "execution_count": 2,
   "metadata": {},
   "outputs": [
    {
     "name": "stdout",
     "output_type": "stream",
     "text": [
      "rosbag database: /hdd/data_qolo/crowd_qolo_recordings/\n"
     ]
    },
    {
     "ename": "FileNotFoundError",
     "evalue": "[Errno 2] No such file or directory: '/hdd/data_qolo/crowd_qolo_recordings/'",
     "output_type": "error",
     "traceback": [
      "\u001b[0;31m---------------------------------------------------------------------------\u001b[0m",
      "\u001b[0;31mFileNotFoundError\u001b[0m                         Traceback (most recent call last)",
      "Input \u001b[0;32mIn [2]\u001b[0m, in \u001b[0;36m<module>\u001b[0;34m\u001b[0m\n\u001b[1;32m      9\u001b[0m \u001b[38;5;28mprint\u001b[39m(\u001b[38;5;124m\"\u001b[39m\u001b[38;5;124mrosbag database:\u001b[39m\u001b[38;5;124m\"\u001b[39m, bagbase)\n\u001b[1;32m     11\u001b[0m all_bagdir \u001b[38;5;241m=\u001b[39m []\n\u001b[0;32m---> 12\u001b[0m \u001b[38;5;28;01mfor\u001b[39;00m dir_ \u001b[38;5;129;01min\u001b[39;00m \u001b[43mos\u001b[49m\u001b[38;5;241;43m.\u001b[39;49m\u001b[43mlistdir\u001b[49m\u001b[43m(\u001b[49m\u001b[43mbagbase\u001b[49m\u001b[43m)\u001b[49m:\n\u001b[1;32m     13\u001b[0m     \u001b[38;5;28;01mif\u001b[39;00m \u001b[38;5;28many\u001b[39m(s \u001b[38;5;129;01min\u001b[39;00m dir_ \u001b[38;5;28;01mfor\u001b[39;00m s \u001b[38;5;129;01min\u001b[39;00m chosen_dates) \u001b[38;5;129;01mand\u001b[39;00m \u001b[38;5;28many\u001b[39m(s \u001b[38;5;129;01min\u001b[39;00m dir_ \u001b[38;5;28;01mfor\u001b[39;00m s \u001b[38;5;129;01min\u001b[39;00m chosen_type):\n\u001b[1;32m     14\u001b[0m         all_bagdir\u001b[38;5;241m.\u001b[39mappend(dir_)\n",
      "\u001b[0;31mFileNotFoundError\u001b[0m: [Errno 2] No such file or directory: '/hdd/data_qolo/crowd_qolo_recordings/'"
     ]
    }
   ],
   "source": [
    "qolo_dataset = CrowdBotData()\n",
    "\n",
    "bagbase = qolo_dataset.bagbase_dir\n",
    "outbase = qolo_dataset.outbase_dir\n",
    "\n",
    "chosen_dates = ['0325', '0327', '0410', '0424', '1203']\n",
    "chosen_type = ['mds', 'rds', 'shared_control'] # 'test', 'manual'\n",
    "\n",
    "print(\"rosbag database:\", bagbase)\n",
    "\n",
    "all_bagdir = []\n",
    "for dir_ in os.listdir(bagbase):\n",
    "    if any(s in dir_ for s in chosen_dates) and any(s in dir_ for s in chosen_type):\n",
    "        all_bagdir.append(dir_)\n",
    "print(all_bagdir)\n",
    "\n",
    "all_outdir = []\n",
    "for dir_ in os.listdir(outbase):\n",
    "    if '.zip' in dir_:\n",
    "        continue\n",
    "    if any(s in dir_ for s in chosen_dates) and any(s in dir_ for s in chosen_type):\n",
    "        all_outdir.append(dir_)\n",
    "print(all_outdir)"
   ]
  },
  {
   "cell_type": "code",
   "execution_count": null,
   "metadata": {},
   "outputs": [],
   "source": [
    "path_metrics = (\n",
    "    'path_length2goal',\n",
    "    'duration_total',\n",
    "    'path_length_total',\n",
    ")\n",
    "\n",
    "frames = []\n",
    "\n",
    "for eval_dir in all_outdir:\n",
    "\n",
    "    print(\"Reading results from {}\".format(eval_dir))\n",
    "\n",
    "    # extract date\n",
    "    eval_dir = eval_dir[:-10]\n",
    "    date = '2021'+eval_dir[:4]\n",
    "    \n",
    "    date_ = datetime.datetime.strptime(date, '%Y%m%d').strftime('%m/%d/%Y')\n",
    "    control_type = eval_dir[5:]\n",
    "\n",
    "    # new a CrowdBotDatabase() instance\n",
    "    eval_database = CrowdBotDatabase(classdir=eval_dir)\n",
    "\n",
    "    eval_dict = {'seq': eval_database.seqs}\n",
    "    eval_dict.update(\n",
    "        {'control_type': control_type for i in range(eval_database.nr_seqs())}\n",
    "    )\n",
    "    eval_dict.update(\n",
    "        {'date': date_ for i in range(eval_database.nr_seqs())}\n",
    "    )\n",
    "\n",
    "    eval_dict.update({k: [] for k in path_metrics})\n",
    "\n",
    "    for idx, seq in enumerate(eval_database.seqs):\n",
    "        eval_res_dir = os.path.join(eval_database.metrics_dir)\n",
    "\n",
    "        path_eval_npy = os.path.join(eval_res_dir, seq, seq + \"_path_eval.npy\")\n",
    "        path_eval_dict = np.load(\n",
    "            path_eval_npy,\n",
    "            allow_pickle=True,\n",
    "        ).item()\n",
    "        for iidx, val in enumerate(path_metrics):\n",
    "            eval_dict[path_metrics[iidx]].append(path_eval_dict[val])\n",
    "\n",
    "    data_df = pd.DataFrame(eval_dict)\n",
    "    data_df.columns = (\n",
    "        ['seq', 'control_type', 'date']\n",
    "        + list(path_metrics)\n",
    "    )\n",
    "\n",
    "    # Filter path_length2goal less than 5 meter\n",
    "    data_df_ = data_df[data_df.path_length2goal >= 5.0]\n",
    "    print(\"Filtered/All: {}/{}\".format(len(data_df_), len(data_df)))\n",
    "    success_ = data_df['path_length2goal'].apply(lambda x: x >= 5.0)\n",
    "    data_df['success'] = success_\n",
    "\n",
    "    frames.append(data_df)\n",
    "\n",
    "all_data_df = pd.concat(frames, ignore_index=True)"
   ]
  },
  {
   "cell_type": "code",
   "execution_count": null,
   "metadata": {},
   "outputs": [],
   "source": [
    "all_data_df.head()"
   ]
  },
  {
   "cell_type": "markdown",
   "metadata": {},
   "source": [
    "## Data summary"
   ]
  },
  {
   "cell_type": "code",
   "execution_count": null,
   "metadata": {
    "scrolled": false
   },
   "outputs": [],
   "source": [
    "# all_data_df = all_data_df[['date', 'control_type', 'seq', 'success']]\n",
    "# groupby_date_type = all_data_df.groupby('date')['control_type'].value_counts()\n",
    "# print(groupby_date_type)\n",
    "\n",
    "data_ = []\n",
    "all_dates = all_data_df['date'].unique()\n",
    "for date_ in all_dates:\n",
    "    dfs_ = all_data_df[all_data_df.date == date_]\n",
    "    for type_ in dfs_['control_type'].unique():\n",
    "        df_ = dfs_[dfs_.control_type == type_]\n",
    "        all_num = len(df_)\n",
    "        df_success_ = df_[df_.success == True]\n",
    "        df_failure_ = df_[df_.success == False]\n",
    "        success_num = len(df_success_)\n",
    "        duration_total_sum = df_.duration_total.sum()\n",
    "        path_length_total_sum = df_.path_length_total.sum()\n",
    "        # print(date_, type_, all_num, success_num)\n",
    "        data_folder_dict = {\n",
    "            \"date\": date_,\n",
    "            \"control_type\": type_,\n",
    "            \"all_seq_num\": all_num,\n",
    "            \"success\": success_num,\n",
    "            \"failure\": all_num - success_num,\n",
    "            \"duration_sum\": duration_total_sum,\n",
    "            \"path_length_sum\": path_length_total_sum,\n",
    "            \"valid_trials\": [list(df_success_['seq'].values)],\n",
    "            \"invalid_trials\": [list(df_failure_['seq'].values)],\n",
    "        }\n",
    "        \n",
    "        data_folder_df = pd.DataFrame(data_folder_dict)\n",
    "\n",
    "        data_.append(data_folder_df)\n",
    "\n",
    "all_data_folder_df = pd.concat(data_, ignore_index=True)"
   ]
  },
  {
   "cell_type": "code",
   "execution_count": null,
   "metadata": {},
   "outputs": [],
   "source": [
    "#all_data_folder_df\n",
    "\n",
    "all_data_folder_df.loc['Total']= all_data_folder_df.sum(numeric_only=True, axis=0)\n",
    "all_data_folder_df['all_seq_num'] = all_data_folder_df['all_seq_num'].astype(int)\n",
    "all_data_folder_df['success'] = all_data_folder_df['success'].astype(int)\n",
    "all_data_folder_df['failure'] = all_data_folder_df['failure'].astype(int)\n",
    "all_data_folder_df.fillna('-',inplace=True)\n",
    "all_data_folder_df"
   ]
  },
  {
   "cell_type": "code",
   "execution_count": null,
   "metadata": {},
   "outputs": [],
   "source": [
    "# print(all_data_folder_df.drop(['valid_trials'], axis=1).to_latex(index=False))"
   ]
  },
  {
   "cell_type": "code",
   "execution_count": null,
   "metadata": {},
   "outputs": [],
   "source": [
    "#!sh data_export_eval_all.sh -e=py38cuda110 -t=1203_test"
   ]
  },
  {
   "cell_type": "markdown",
   "metadata": {},
   "source": [
    "## Metrics"
   ]
  },
  {
   "cell_type": "markdown",
   "metadata": {},
   "source": [
    "1. Crowd-related\n",
    "\n",
    "    1. (Main) Crowd Density (within an area of 10m around the robot):\n",
    "\n",
    "    2. (Main) Minimal distance to pedestrians: mean+SD: \n",
    "\n",
    "    3. Normalized proximity to surrounding pedestrians : SD(d1..dn) / avg(d1...dn)\n",
    "    \n",
    "2. Path efficiency-related\n",
    "\n",
    "    1. Relative time to goal (normalized by the goal distance)\n",
    "    2. Relative path length (normalized by the goal distance in straight line): \n",
    "\n",
    "3. Control-related\n",
    "\n",
    "    1. Agreement\n",
    "    2. Fluency\n",
    "    3. Relative Jerk (smoothness of the path as added sum of linear and angular jerk)"
   ]
  },
  {
   "cell_type": "markdown",
   "metadata": {},
   "source": [
    "## Jerk in manual control"
   ]
  },
  {
   "cell_type": "markdown",
   "metadata": {},
   "source": [
    "- 2021-12-03-19-12-00 [x]\n",
    "- 2021-12-03-19-27-16\n",
    "- 2021-12-03-19-29-35"
   ]
  },
  {
   "cell_type": "code",
   "execution_count": null,
   "metadata": {},
   "outputs": [],
   "source": [
    "# Extract source data for baseline data\n",
    "# !python3 qolo/tfqolo2npy.py --overwrite -f 1203_manual\n",
    "# !python3 qolo/twist2npy.py --overwrite -f 1203_manual\n",
    "# !python3 qolo/pose2d2npy.py --overwrite -f 1203_manual\n",
    "# !python qolo/eval_qolo_path.py --overwrite -f 1203_manual"
   ]
  },
  {
   "cell_type": "code",
   "execution_count": null,
   "metadata": {},
   "outputs": [],
   "source": [
    "chosen_dates = ['1203']\n",
    "chosen_type = ['manual']\n",
    "\n",
    "eval_dirs = []\n",
    "\n",
    "for root, dirs, files in walk(outbase, topdown=False, maxdepth=1):\n",
    "    for dir_ in dirs:\n",
    "        if any(s in dir_ for s in chosen_dates) and any(s in dir_ for s in chosen_type):\n",
    "            dir_ = dir_.replace(\"_processed\", \"\")\n",
    "            eval_dirs.append(dir_)\n",
    "            print(\"{}/ is available!\".format(dir_))"
   ]
  },
  {
   "cell_type": "markdown",
   "metadata": {},
   "source": [
    "$\\hat{J} = \\sum\\limits_{t=0}^{t_f} t \\sqrt{(J_v^2 + J_{\\theta}^2)}$"
   ]
  },
  {
   "cell_type": "code",
   "execution_count": null,
   "metadata": {},
   "outputs": [],
   "source": [
    "from metric_qolo_perf import compute_rel_jerk\n",
    "\n",
    "baseline_jerk_sum = 0\n",
    "\n",
    "for eval_dir in eval_dirs:\n",
    "\n",
    "    print(\"Reading results from {}\".format(eval_dir))\n",
    "\n",
    "    # new a CrowdBotDatabase() instance\n",
    "    eval_database = CrowdBotDatabase(classdir=eval_dir)\n",
    "\n",
    "    for idx, seq in enumerate(eval_database.seqs):\n",
    "        if seq == '2021-12-03-19-12-00':\n",
    "            print(\"Useless data\", seq)\n",
    "            continue\n",
    "        print(\"Compute from\", seq)\n",
    "        eval_res_dir = os.path.join(eval_database.metrics_dir)\n",
    "        \n",
    "        path_eval_npy = os.path.join(eval_res_dir, seq, seq + \"_path_eval.npy\")\n",
    "        path_eval_dict = np.load(\n",
    "            path_eval_npy,\n",
    "            allow_pickle=True,\n",
    "        ).item()\n",
    "\n",
    "        twist_dir = os.path.join(eval_database.source_data_dir, \"twist\")\n",
    "        command_sampled_filepath = os.path.join(twist_dir, seq + \"_qolo_command.npy\")\n",
    "        qolo_command_dict = np.load(command_sampled_filepath, allow_pickle=True).item()\n",
    "\n",
    "        start_cmd_ts = path_eval_dict[\"start_command_ts\"]\n",
    "        end_cmd_ts = path_eval_dict[\"end_command_ts\"]\n",
    "\n",
    "        cmd_ts = qolo_command_dict[\"timestamp\"]\n",
    "        x_jerk = qolo_command_dict[\"x_jerk\"]\n",
    "        zrot_jerk = qolo_command_dict[\"zrot_jerk\"]\n",
    "\n",
    "        # relative jerk\n",
    "        baseline_jerk = compute_rel_jerk(\n",
    "            x_jerk, zrot_jerk, cmd_ts, start_cmd_ts, end_cmd_ts, baseline=1.0,\n",
    "        )\n",
    "        print(\"Baseline jerk calculated from {}: {}\".format(seq, baseline_jerk))\n",
    "        baseline_jerk_sum += baseline_jerk\n",
    "print(\"# Baseline jerk with average: {}\".format(baseline_jerk_sum/2))"
   ]
  },
  {
   "cell_type": "markdown",
   "metadata": {},
   "source": [
    "## Example: 2021-04-24"
   ]
  },
  {
   "cell_type": "code",
   "execution_count": null,
   "metadata": {},
   "outputs": [],
   "source": [
    "crowd_metrics = (\n",
    "    'avg_crowd_density2_5',\n",
    "    'std_crowd_density2_5',\n",
    "    'max_crowd_density2_5',\n",
    "    'avg_crowd_density5',\n",
    "    'std_crowd_density5',\n",
    "    'max_crowd_density5',\n",
    "    'avg_min_dist',\n",
    "    'virtual_collision',\n",
    ")\n",
    "\n",
    "\n",
    "path_metrics = (\n",
    "    'rel_duration2goal',\n",
    "    'rel_path_length2goal',\n",
    "    'path_length2goal',\n",
    "    'duration2goal',\n",
    "    'min_dist2goal',\n",
    ")\n",
    "\n",
    "\n",
    "control_metrics = (\n",
    "    'rel_jerk',\n",
    "    'avg_fluency',\n",
    "    'contribution',\n",
    "    'avg_agreement',\n",
    ")"
   ]
  },
  {
   "cell_type": "code",
   "execution_count": null,
   "metadata": {},
   "outputs": [],
   "source": [
    "chosen_dates = ['0424']\n",
    "chosen_type = ['mds', 'rds', 'shared_control']\n",
    "\n",
    "eval_dirs = []\n",
    "\n",
    "for root, dirs, files in walk(outbase, topdown=False, maxdepth=1):\n",
    "    for dir_ in dirs:\n",
    "        if any(s in dir_ for s in chosen_dates) and any(s in dir_ for s in chosen_type):\n",
    "            dir_ = dir_.replace(\"_processed\", \"\")\n",
    "            eval_dirs.append(dir_)\n",
    "            print(\"{}/ is available!\".format(dir_))"
   ]
  },
  {
   "cell_type": "code",
   "execution_count": null,
   "metadata": {},
   "outputs": [],
   "source": [
    "# for eval_dir in eval_dirs:\n",
    "eval_dir = eval_dirs[0]\n",
    "print(\"Reading results from {}\".format(eval_dir))\n",
    "\n",
    "# new a CrowdBotDatabase() instance\n",
    "eval_database = CrowdBotDatabase(classdir=eval_dir)"
   ]
  },
  {
   "cell_type": "code",
   "execution_count": null,
   "metadata": {
    "scrolled": true
   },
   "outputs": [],
   "source": [
    "print(\"Available sequences in {}:\\n{}\".format(eval_dir, eval_database.seqs))"
   ]
  },
  {
   "cell_type": "markdown",
   "metadata": {},
   "source": [
    "### Result loading"
   ]
  },
  {
   "cell_type": "code",
   "execution_count": null,
   "metadata": {},
   "outputs": [],
   "source": [
    "eval_res_df = import_eval_res(eval_dirs)"
   ]
  },
  {
   "cell_type": "code",
   "execution_count": null,
   "metadata": {},
   "outputs": [],
   "source": [
    "eval_res_df.head()"
   ]
  },
  {
   "cell_type": "markdown",
   "metadata": {},
   "source": [
    "### Crowd-related metrics"
   ]
  },
  {
   "cell_type": "code",
   "execution_count": null,
   "metadata": {},
   "outputs": [],
   "source": [
    "crowd_metrics_df = eval_res_df[['seq', 'control_type'] + list(crowd_metrics)]"
   ]
  },
  {
   "cell_type": "markdown",
   "metadata": {},
   "source": [
    "- choose specific control type from final dataframe"
   ]
  },
  {
   "cell_type": "code",
   "execution_count": null,
   "metadata": {},
   "outputs": [],
   "source": [
    "crowd_metrics_df[crowd_metrics_df.control_type == 'shared_control']"
   ]
  },
  {
   "cell_type": "markdown",
   "metadata": {},
   "source": [
    "- calculate std and mean according to `control_type`"
   ]
  },
  {
   "cell_type": "code",
   "execution_count": null,
   "metadata": {},
   "outputs": [],
   "source": [
    "for ctrl in chosen_type:\n",
    "    print(\"###\", ctrl)\n",
    "    print(\"# mean\")\n",
    "    print(crowd_metrics_df[crowd_metrics_df.control_type == ctrl].mean(numeric_only=True))\n",
    "    # print(\"# std\")\n",
    "    # print(crowd_metrics_df[crowd_metrics_df.control_type == ctrl].std(numeric_only=True))\n",
    "    print()"
   ]
  },
  {
   "cell_type": "code",
   "execution_count": null,
   "metadata": {},
   "outputs": [],
   "source": [
    "print(\"# max value in each metrics\")\n",
    "print(crowd_metrics_df.max(numeric_only=True))\n",
    "print(\"# min value in each metrics\")\n",
    "print(crowd_metrics_df.min(numeric_only=True))"
   ]
  },
  {
   "cell_type": "markdown",
   "metadata": {},
   "source": [
    "- using sns.violinplot/boxplot"
   ]
  },
  {
   "cell_type": "code",
   "execution_count": null,
   "metadata": {
    "scrolled": false
   },
   "outputs": [],
   "source": [
    "fig, axes = plt.subplots(2, 2, figsize=(14, 10))\n",
    "\n",
    "categorical_plot(\n",
    "    axes=axes[0,0],\n",
    "    df=crowd_metrics_df,\n",
    "    metric='avg_crowd_density2_5',\n",
    "    catogory='control_type',\n",
    "    title='Mean crowd density within 2.5 m',\n",
    "    xlabel='',\n",
    "    ylabel='Density [1/$m^2$]',\n",
    "    ylim=[0.00, 0.20],\n",
    "    kind='box',\n",
    "    # group='goal_reached',\n",
    "    # lgd_labels=['Not reached', 'Reached'],\n",
    ")\n",
    "categorical_plot(\n",
    "    axes=axes[0,1],\n",
    "    df=crowd_metrics_df,\n",
    "    metric='max_crowd_density2_5',\n",
    "    catogory='control_type',\n",
    "    title='Max crowd density within 2.5 m',\n",
    "    xlabel='',\n",
    "    ylabel='Density [1/$m^2$]',\n",
    "    ylim=[0.15, 0.90],\n",
    "    kind='box',\n",
    "    # group='goal_reached',\n",
    "    # lgd_labels=['Not reached', 'Reached'],\n",
    ")\n",
    "\n",
    "# categorical_plot(\n",
    "#     axes=axes[1,0],\n",
    "#     df=crowd_metrics_df,\n",
    "#     metric='std_crowd_density2_5',\n",
    "#     catogory='control_type',\n",
    "#     title='Standard deviation of crowd density within 2.5 m',\n",
    "#     xlabel='',\n",
    "#     ylabel='Density [1/$m^2$]',\n",
    "#     ylim=[0.0, 0.15],\n",
    "#     kind='box',\n",
    "#     # group='goal_reached',\n",
    "#     # lgd_labels=['Not reached', 'Reached'],\n",
    "# )\n",
    "\n",
    "categorical_plot(\n",
    "    axes=axes[1,0],\n",
    "    df=crowd_metrics_df,\n",
    "    metric='virtual_collision',\n",
    "    catogory='control_type',\n",
    "    title='Virtual collision with Qolo',\n",
    "    xlabel='',\n",
    "    ylabel='',\n",
    "    ylim=[-0.1, 10.1],\n",
    "    kind='box',\n",
    "    # group='goal_reached',\n",
    "    # lgd_labels=['Not reached', 'Reached'],\n",
    ")\n",
    "\n",
    "categorical_plot(\n",
    "    axes=axes[1,1],\n",
    "    df=crowd_metrics_df,\n",
    "    metric='avg_min_dist',\n",
    "    catogory='control_type',\n",
    "    title='Min. distance of Pedestrain from qolo',\n",
    "    xlabel='',\n",
    "    ylabel='Distance [m]',\n",
    "    ylim=[0.6, 1.6],\n",
    "    kind='box',\n",
    "    # group='goal_reached',\n",
    "    # lgd_labels=['Not reached', 'Reached'],\n",
    ")\n",
    "\n",
    "plt.savefig(\"./pdf/0424_crowd.pdf\", dpi=300)\n",
    "\n",
    "plt.show()"
   ]
  },
  {
   "cell_type": "code",
   "execution_count": null,
   "metadata": {},
   "outputs": [],
   "source": [
    "plt.close()"
   ]
  },
  {
   "cell_type": "markdown",
   "metadata": {},
   "source": [
    "### Path Efficiency-related metrics"
   ]
  },
  {
   "cell_type": "markdown",
   "metadata": {},
   "source": [
    "- eval code"
   ]
  },
  {
   "cell_type": "code",
   "execution_count": null,
   "metadata": {},
   "outputs": [],
   "source": [
    "path_metrics_df = eval_res_df[['seq', 'control_type'] + list(path_metrics)]"
   ]
  },
  {
   "cell_type": "markdown",
   "metadata": {},
   "source": [
    "- choose specific control type from final dataframe"
   ]
  },
  {
   "cell_type": "code",
   "execution_count": null,
   "metadata": {},
   "outputs": [],
   "source": [
    "path_metrics_df[path_metrics_df.control_type == 'shared_control']"
   ]
  },
  {
   "cell_type": "code",
   "execution_count": null,
   "metadata": {},
   "outputs": [],
   "source": [
    "for ctrl in chosen_type:\n",
    "    print(\"###\", ctrl)\n",
    "    print(\"# mean\")\n",
    "    print(path_metrics_df[path_metrics_df.control_type == ctrl].mean(numeric_only=True))\n",
    "    print(\"# std\")\n",
    "    print(path_metrics_df[path_metrics_df.control_type == ctrl].std(numeric_only=True))\n",
    "    print()"
   ]
  },
  {
   "cell_type": "code",
   "execution_count": null,
   "metadata": {},
   "outputs": [],
   "source": [
    "print(\"# max value in each metrics\")\n",
    "print(path_metrics_df.max(numeric_only=True))\n",
    "print(\"# min value in each metrics\")\n",
    "print(path_metrics_df.min(numeric_only=True))"
   ]
  },
  {
   "cell_type": "code",
   "execution_count": null,
   "metadata": {},
   "outputs": [],
   "source": [
    "path_fig, path_axes = plt.subplots(1, 2, figsize=(14, 5))\n",
    "\n",
    "categorical_plot(\n",
    "    axes=path_axes[0],\n",
    "    df=path_metrics_df,\n",
    "    metric='rel_duration2goal',\n",
    "    catogory='control_type',\n",
    "    title='Relative time to the goal',\n",
    "    xlabel='',\n",
    "    ylabel='',\n",
    "    ylim=[0.0, 1.0],\n",
    "    # lgd_labels=['Not reached', 'Reached'],\n",
    "    # group='goal_reached',\n",
    "    kind='box',\n",
    ")\n",
    "\n",
    "categorical_plot(\n",
    "    axes=path_axes[1],\n",
    "    df=path_metrics_df,\n",
    "    metric='rel_path_length2goal',\n",
    "    catogory='control_type',\n",
    "    title='Relative path length to the goal',\n",
    "    xlabel='',\n",
    "    ylabel='',\n",
    "    ylim=[0.0, 3.0],\n",
    "    # lgd_labels=['Not reached', 'Reached'],\n",
    "    # group='goal_reached',\n",
    "    kind='box',\n",
    ")\n",
    "\n",
    "plt.savefig(\"./pdf/0424_path_efficiency.pdf\", dpi=300)\n",
    "\n",
    "plt.show()"
   ]
  },
  {
   "cell_type": "code",
   "execution_count": null,
   "metadata": {},
   "outputs": [],
   "source": [
    "plt.close()"
   ]
  },
  {
   "cell_type": "markdown",
   "metadata": {},
   "source": [
    "### Shared control-related metrics"
   ]
  },
  {
   "cell_type": "code",
   "execution_count": null,
   "metadata": {},
   "outputs": [],
   "source": [
    "control_metrics_df = eval_res_df[['seq', 'control_type'] + list(control_metrics)]"
   ]
  },
  {
   "cell_type": "markdown",
   "metadata": {},
   "source": [
    "- choose specific control type from final dataframe"
   ]
  },
  {
   "cell_type": "code",
   "execution_count": null,
   "metadata": {},
   "outputs": [],
   "source": [
    "control_metrics_df[control_metrics_df.control_type == 'shared_control']"
   ]
  },
  {
   "cell_type": "code",
   "execution_count": null,
   "metadata": {},
   "outputs": [],
   "source": [
    "for ctrl in chosen_type:\n",
    "    print(\"###\", ctrl)\n",
    "    print(\"# mean\")\n",
    "    print(control_metrics_df[control_metrics_df.control_type == ctrl].mean(numeric_only=True))\n",
    "    print(\"# std\")\n",
    "    print(control_metrics_df[control_metrics_df.control_type == ctrl].std(numeric_only=True))\n",
    "    print()"
   ]
  },
  {
   "cell_type": "code",
   "execution_count": null,
   "metadata": {},
   "outputs": [],
   "source": [
    "print(\"# max value in each metrics\")\n",
    "print(control_metrics_df.max(numeric_only=True))\n",
    "print(\"# min value in each metrics\")\n",
    "print(control_metrics_df.min(numeric_only=True))"
   ]
  },
  {
   "cell_type": "code",
   "execution_count": null,
   "metadata": {},
   "outputs": [],
   "source": [
    "control_fig, control_axes = plt.subplots(2, 2, figsize=(15, 12))\n",
    "\n",
    "categorical_plot(\n",
    "    axes=control_axes[0,0],\n",
    "    df=control_metrics_df,\n",
    "    metric='avg_fluency',\n",
    "    catogory='control_type',\n",
    "    title='Average control fluency',\n",
    "    xlabel='',\n",
    "    ylabel='',\n",
    "    ylim=[0.90, 1.0],\n",
    "    # lgd_labels=['Not reached', 'Reached'],\n",
    "    # group='goal_reached',\n",
    "    kind='box',\n",
    ")\n",
    "\n",
    "categorical_plot(\n",
    "    axes=control_axes[0,1],\n",
    "    df=control_metrics_df,\n",
    "    metric='rel_jerk',\n",
    "    catogory='control_type',\n",
    "    title='Relative jerk',\n",
    "    xlabel='',\n",
    "    ylabel='',\n",
    "    ylim=[0, 0.4],\n",
    "    # lgd_labels=['Not reached', 'Reached'],\n",
    "    # group='goal_reached',\n",
    "    kind='box',\n",
    ")\n",
    "\n",
    "categorical_plot(\n",
    "    axes=control_axes[1,0],\n",
    "    df=control_metrics_df,\n",
    "    metric='contribution',\n",
    "    catogory='control_type',\n",
    "    title='Contribution',\n",
    "    xlabel='',\n",
    "    ylabel='',\n",
    "    ylim=[0.0, 1.2],\n",
    "    # lgd_labels=['Not reached', 'Reached'],\n",
    "    # group='goal_reached',\n",
    "    kind='box',\n",
    ")\n",
    "\n",
    "categorical_plot(\n",
    "    axes=control_axes[1,1],\n",
    "    df=control_metrics_df,\n",
    "    metric='avg_agreement',\n",
    "    catogory='control_type',\n",
    "    title='Average agreement',\n",
    "    xlabel='',\n",
    "    ylabel='',\n",
    "    ylim=[0.0, 1.0],\n",
    "    # lgd_labels=['Not reached', 'Reached'],\n",
    "    # group='goal_reached',\n",
    "    kind='box',\n",
    ")\n",
    "\n",
    "plt.savefig(\"./pdf/0424_control.pdf\", dpi=300)\n",
    "\n",
    "plt.show()"
   ]
  },
  {
   "cell_type": "code",
   "execution_count": null,
   "metadata": {},
   "outputs": [],
   "source": [
    "plt.close()"
   ]
  },
  {
   "cell_type": "markdown",
   "metadata": {},
   "source": [
    "## Example: 2021-04-10"
   ]
  },
  {
   "cell_type": "code",
   "execution_count": null,
   "metadata": {},
   "outputs": [],
   "source": [
    "chosen_dates = ['0410']\n",
    "chosen_type = ['mds', 'rds', 'shared_control']\n",
    "\n",
    "eval_dirs = []\n",
    "\n",
    "for root, dirs, files in walk(outbase, topdown=False, maxdepth=1):\n",
    "    for dir_ in dirs:\n",
    "        if any(s in dir_ for s in chosen_dates) and any(s in dir_ for s in chosen_type):\n",
    "            dir_ = dir_.replace(\"_processed\", \"\")\n",
    "            eval_dirs.append(dir_)\n",
    "            print(\"{}/ is available!\".format(dir_))"
   ]
  },
  {
   "cell_type": "markdown",
   "metadata": {},
   "source": [
    "### Result loading"
   ]
  },
  {
   "cell_type": "code",
   "execution_count": null,
   "metadata": {},
   "outputs": [],
   "source": [
    "eval_res_df = import_eval_res(eval_dirs)"
   ]
  },
  {
   "cell_type": "markdown",
   "metadata": {},
   "source": [
    "### Crowd-related metrics"
   ]
  },
  {
   "cell_type": "code",
   "execution_count": null,
   "metadata": {},
   "outputs": [],
   "source": [
    "crowd_metrics_df = eval_res_df[['seq', 'control_type'] + list(crowd_metrics)]"
   ]
  },
  {
   "cell_type": "code",
   "execution_count": null,
   "metadata": {},
   "outputs": [],
   "source": [
    "for ctrl in chosen_type:\n",
    "    print(\"###\", ctrl)\n",
    "    print(\"# mean\")\n",
    "    print(crowd_metrics_df[crowd_metrics_df.control_type == ctrl].mean(numeric_only=True))\n",
    "    # print(\"# std\")\n",
    "    # print(crowd_metrics_df[crowd_metrics_df.control_type == ctrl].std(numeric_only=True))\n",
    "    print()"
   ]
  },
  {
   "cell_type": "code",
   "execution_count": null,
   "metadata": {},
   "outputs": [],
   "source": [
    "print(\"# max value in each metrics\")\n",
    "print(crowd_metrics_df.max(numeric_only=True))\n",
    "print(\"# min value in each metrics\")\n",
    "print(crowd_metrics_df.min(numeric_only=True))"
   ]
  },
  {
   "cell_type": "code",
   "execution_count": null,
   "metadata": {},
   "outputs": [],
   "source": [
    "fig, axes = plt.subplots(2, 2, figsize=(14, 10))\n",
    "\n",
    "categorical_plot(\n",
    "    axes=axes[0,0],\n",
    "    df=crowd_metrics_df,\n",
    "    metric='avg_crowd_density2_5',\n",
    "    catogory='control_type',\n",
    "    title='Mean crowd density within 2.5 m',\n",
    "    xlabel='',\n",
    "    ylabel='Density [1/$m^2$]',\n",
    "    ylim=[0.00, 0.25],\n",
    "    kind='box',\n",
    "    # group='goal_reached',\n",
    "    # lgd_labels=['Not reached', 'Reached'],\n",
    ")\n",
    "categorical_plot(\n",
    "    axes=axes[0,1],\n",
    "    df=crowd_metrics_df,\n",
    "    metric='max_crowd_density2_5',\n",
    "    catogory='control_type',\n",
    "    title='Max crowd density within 2.5 m',\n",
    "    xlabel='',\n",
    "    ylabel='Density [1/$m^2$]',\n",
    "    ylim=[0.30, 0.60],\n",
    "    kind='box',\n",
    "    # group='goal_reached',\n",
    "    # lgd_labels=['Not reached', 'Reached'],\n",
    ")\n",
    "\n",
    "# categorical_plot(\n",
    "#     axes=axes[1,0],\n",
    "#     df=crowd_metrics_df,\n",
    "#     metric='std_crowd_density2_5',\n",
    "#     catogory='control_type',\n",
    "#     title='Standard deviation of crowd density within 2.5 m',\n",
    "#     xlabel='',\n",
    "#     ylabel='Density [1/$m^2$]',\n",
    "#     ylim=[0.0, 0.15],\n",
    "#     kind='box',\n",
    "#     # group='goal_reached',\n",
    "#     # lgd_labels=['Not reached', 'Reached'],\n",
    "# )\n",
    "\n",
    "categorical_plot(\n",
    "    axes=axes[1,0],\n",
    "    df=crowd_metrics_df,\n",
    "    metric='virtual_collision',\n",
    "    catogory='control_type',\n",
    "    title='Virtual collision with Qolo',\n",
    "    xlabel='',\n",
    "    ylabel='',\n",
    "    ylim=[-0.1, 40],\n",
    "    kind='box',\n",
    "    # group='goal_reached',\n",
    "    # lgd_labels=['Not reached', 'Reached'],\n",
    ")\n",
    "\n",
    "categorical_plot(\n",
    "    axes=axes[1,1],\n",
    "    df=crowd_metrics_df,\n",
    "    metric='avg_min_dist',\n",
    "    catogory='control_type',\n",
    "    title='Min. distance of Pedestrain from qolo',\n",
    "    xlabel='',\n",
    "    ylabel='Distance [m]',\n",
    "    ylim=[0.5, 2.0],\n",
    "    kind='box',\n",
    "    # group='goal_reached',\n",
    "    # lgd_labels=['Not reached', 'Reached'],\n",
    ")\n",
    "\n",
    "plt.savefig(\"./pdf/0410_crowd.pdf\", dpi=300)\n",
    "\n",
    "plt.show()"
   ]
  },
  {
   "cell_type": "code",
   "execution_count": null,
   "metadata": {},
   "outputs": [],
   "source": [
    "plt.close()"
   ]
  },
  {
   "cell_type": "markdown",
   "metadata": {},
   "source": [
    "### Path Efficiency-related metrics"
   ]
  },
  {
   "cell_type": "code",
   "execution_count": null,
   "metadata": {},
   "outputs": [],
   "source": [
    "path_metrics_df = eval_res_df[['seq', 'control_type'] + list(path_metrics)]"
   ]
  },
  {
   "cell_type": "code",
   "execution_count": null,
   "metadata": {},
   "outputs": [],
   "source": [
    "for ctrl in chosen_type:\n",
    "    print(\"###\", ctrl)\n",
    "    print(\"# mean\")\n",
    "    print(path_metrics_df[path_metrics_df.control_type == ctrl].mean(numeric_only=True))\n",
    "    print(\"# std\")\n",
    "    print(path_metrics_df[path_metrics_df.control_type == ctrl].std(numeric_only=True))\n",
    "    print()"
   ]
  },
  {
   "cell_type": "code",
   "execution_count": null,
   "metadata": {},
   "outputs": [],
   "source": [
    "print(\"# max value in each metrics\")\n",
    "print(path_metrics_df.max(numeric_only=True))\n",
    "print(\"# min value in each metrics\")\n",
    "print(path_metrics_df.min(numeric_only=True))"
   ]
  },
  {
   "cell_type": "code",
   "execution_count": null,
   "metadata": {},
   "outputs": [],
   "source": [
    "path_fig, path_axes = plt.subplots(1, 2, figsize=(14, 5))\n",
    "\n",
    "categorical_plot(\n",
    "    axes=path_axes[0],\n",
    "    df=path_metrics_df,\n",
    "    metric='rel_duration2goal',\n",
    "    catogory='control_type',\n",
    "    title='Relative time to the goal',\n",
    "    xlabel='',\n",
    "    ylabel='',\n",
    "    ylim=[0.0, 0.8],\n",
    "    # lgd_labels=['Not reached', 'Reached'],\n",
    "    # group='goal_reached',\n",
    "    kind='box',\n",
    ")\n",
    "\n",
    "categorical_plot(\n",
    "    axes=path_axes[1],\n",
    "    df=path_metrics_df,\n",
    "    metric='rel_path_length2goal',\n",
    "    catogory='control_type',\n",
    "    title='Relative path length to the goal',\n",
    "    xlabel='',\n",
    "    ylabel='',\n",
    "    ylim=[0.0, 3.0],\n",
    "    # lgd_labels=['Not reached', 'Reached'],\n",
    "    # group='goal_reached',\n",
    "    kind='box',\n",
    ")\n",
    "\n",
    "plt.savefig(\"./pdf/0410_path_efficiency.pdf\", dpi=300)\n",
    "\n",
    "plt.show()"
   ]
  },
  {
   "cell_type": "code",
   "execution_count": null,
   "metadata": {},
   "outputs": [],
   "source": [
    "plt.close()"
   ]
  },
  {
   "cell_type": "markdown",
   "metadata": {},
   "source": [
    "### Shared control-related metrics"
   ]
  },
  {
   "cell_type": "code",
   "execution_count": null,
   "metadata": {},
   "outputs": [],
   "source": [
    "control_metrics_df = eval_res_df[['seq', 'control_type'] + list(control_metrics)]"
   ]
  },
  {
   "cell_type": "code",
   "execution_count": null,
   "metadata": {},
   "outputs": [],
   "source": [
    "print(\"# max value in each metrics\")\n",
    "print(control_metrics_df.max(numeric_only=True))\n",
    "print(\"# min value in each metrics\")\n",
    "print(control_metrics_df.min(numeric_only=True))"
   ]
  },
  {
   "cell_type": "code",
   "execution_count": null,
   "metadata": {},
   "outputs": [],
   "source": [
    "control_fig, control_axes = plt.subplots(2, 2, figsize=(15, 12))\n",
    "\n",
    "categorical_plot(\n",
    "    axes=control_axes[0,0],\n",
    "    df=control_metrics_df,\n",
    "    metric='avg_fluency',\n",
    "    catogory='control_type',\n",
    "    title='Average control fluency',\n",
    "    xlabel='',\n",
    "    ylabel='',\n",
    "    ylim=[0.85, 1.0],\n",
    "    # lgd_labels=['Not reached', 'Reached'],\n",
    "    # group='goal_reached',\n",
    "    kind='box',\n",
    ")\n",
    "\n",
    "categorical_plot(\n",
    "    axes=control_axes[0,1],\n",
    "    df=control_metrics_df,\n",
    "    metric='rel_jerk',\n",
    "    catogory='control_type',\n",
    "    title='Relative jerk',\n",
    "    xlabel='',\n",
    "    ylabel='',\n",
    "    ylim=[0, 0.4],\n",
    "    # lgd_labels=['Not reached', 'Reached'],\n",
    "    # group='goal_reached',\n",
    "    kind='box',\n",
    ")\n",
    "\n",
    "categorical_plot(\n",
    "    axes=control_axes[1,0],\n",
    "    df=control_metrics_df,\n",
    "    metric='contribution',\n",
    "    catogory='control_type',\n",
    "    title='Contribution',\n",
    "    xlabel='',\n",
    "    ylabel='',\n",
    "    ylim=[0.0, 1.0],\n",
    "    # lgd_labels=['Not reached', 'Reached'],\n",
    "    # group='goal_reached',\n",
    "    kind='box',\n",
    ")\n",
    "\n",
    "categorical_plot(\n",
    "    axes=control_axes[1,1],\n",
    "    df=control_metrics_df,\n",
    "    metric='avg_agreement',\n",
    "    catogory='control_type',\n",
    "    title='Average agreement',\n",
    "    xlabel='',\n",
    "    ylabel='',\n",
    "    ylim=[0.0, 1.0],\n",
    "    # lgd_labels=['Not reached', 'Reached'],\n",
    "    # group='goal_reached',\n",
    "    kind='box',\n",
    ")\n",
    "\n",
    "plt.savefig(\"./pdf/0410_control.pdf\", dpi=300)\n",
    "\n",
    "plt.show()"
   ]
  },
  {
   "cell_type": "code",
   "execution_count": null,
   "metadata": {},
   "outputs": [],
   "source": [
    "plt.close()"
   ]
  },
  {
   "cell_type": "markdown",
   "metadata": {},
   "source": [
    "## Example: 2021-12-03"
   ]
  },
  {
   "cell_type": "code",
   "execution_count": null,
   "metadata": {},
   "outputs": [],
   "source": [
    "chosen_dates = ['1203']\n",
    "chosen_type = ['shared_control']\n",
    "\n",
    "eval_dirs = []\n",
    "\n",
    "for root, dirs, files in walk(outbase, topdown=False, maxdepth=1):\n",
    "    for dir_ in dirs:\n",
    "        if any(s in dir_ for s in chosen_dates) and any(s in dir_ for s in chosen_type):\n",
    "            dir_ = dir_.replace(\"_processed\", \"\")\n",
    "            eval_dirs.append(dir_)\n",
    "            print(\"{}/ is available!\".format(dir_))"
   ]
  },
  {
   "cell_type": "markdown",
   "metadata": {},
   "source": [
    "### Results loading"
   ]
  },
  {
   "cell_type": "code",
   "execution_count": null,
   "metadata": {},
   "outputs": [],
   "source": [
    "eval_res_df = import_eval_res(eval_dirs)"
   ]
  },
  {
   "cell_type": "markdown",
   "metadata": {},
   "source": [
    "### Crowd-related metrics"
   ]
  },
  {
   "cell_type": "code",
   "execution_count": null,
   "metadata": {},
   "outputs": [],
   "source": [
    "crowd_metrics_df = eval_res_df[['seq', 'control_type'] + list(crowd_metrics)]"
   ]
  },
  {
   "cell_type": "code",
   "execution_count": null,
   "metadata": {},
   "outputs": [],
   "source": [
    "print(\"###\", ctrl)\n",
    "print(\"# mean\")\n",
    "print(crowd_metrics_df.mean(numeric_only=True))\n",
    "print(\"# std\")\n",
    "print(crowd_metrics_df[crowd_metrics_df.control_type == ctrl].std(numeric_only=True))"
   ]
  },
  {
   "cell_type": "code",
   "execution_count": null,
   "metadata": {},
   "outputs": [],
   "source": [
    "print(\"# max\")\n",
    "print(crowd_metrics_df.max(numeric_only=True))\n",
    "print()\n",
    "print(\"# min\")\n",
    "print(crowd_metrics_df.min(numeric_only=True))"
   ]
  },
  {
   "cell_type": "code",
   "execution_count": null,
   "metadata": {},
   "outputs": [],
   "source": [
    "fig, axes = plt.subplots(1, 4, figsize=(16, 5))\n",
    "\n",
    "plt.subplots_adjust(left=None, bottom=None, right=None, top=None, wspace=1.0, hspace=None)\n",
    "\n",
    "categorical_plot(\n",
    "    axes=axes[0],\n",
    "    df=crowd_metrics_df,\n",
    "    metric='avg_crowd_density2_5',\n",
    "    catogory='control_type',\n",
    "    title='Mean crowd density within 2.5 m',\n",
    "    xlabel='',\n",
    "    ylabel='Density [1/$m^2$]',\n",
    "    ylim=[0.00, 0.35],\n",
    "    kind='box',\n",
    "    # group='goal_reached',\n",
    "    # lgd_labels=['Not reached', 'Reached'],\n",
    "    titlefontsz=9,\n",
    ")\n",
    "categorical_plot(\n",
    "    axes=axes[1],\n",
    "    df=crowd_metrics_df,\n",
    "    metric='max_crowd_density2_5',\n",
    "    catogory='control_type',\n",
    "    title='Max crowd density within 2.5 m',\n",
    "    xlabel='',\n",
    "    ylabel='Density [1/$m^2$]',\n",
    "    ylim=[0.50, 1.00],\n",
    "    kind='box',\n",
    "    # group='goal_reached',\n",
    "    # lgd_labels=['Not reached', 'Reached'],\n",
    "    titlefontsz=9,\n",
    ")\n",
    "\n",
    "# categorical_plot(\n",
    "#     axes=axes[2],\n",
    "#     df=crowd_metrics_df,\n",
    "#     metric='std_crowd_density2_5',\n",
    "#     catogory='control_type',\n",
    "#     title='Standard deviation of crowd density within 2.5 m',\n",
    "#     xlabel='',\n",
    "#     ylabel='Density [1/$m^2$]',\n",
    "#     ylim=[0.0, 0.20],\n",
    "#     kind='box',\n",
    "#     # group='goal_reached',\n",
    "#     # lgd_labels=['Not reached', 'Reached'],\n",
    "#     titlefontsz=9,\n",
    "# )\n",
    "\n",
    "categorical_plot(\n",
    "    axes=axes[2],\n",
    "    df=crowd_metrics_df,\n",
    "    metric='virtual_collision',\n",
    "    catogory='control_type',\n",
    "    title='Virtual collision with Qolo',\n",
    "    xlabel='',\n",
    "    ylabel='',\n",
    "    ylim=[-0.1, 40],\n",
    "    kind='box',\n",
    "    # group='goal_reached',\n",
    "    # lgd_labels=['Not reached', 'Reached'],\n",
    ")\n",
    "\n",
    "categorical_plot(\n",
    "    axes=axes[3],\n",
    "    df=crowd_metrics_df,\n",
    "    metric='avg_min_dist',\n",
    "    catogory='control_type',\n",
    "    title='Min. distance of Pedestrain from qolo',\n",
    "    xlabel='',\n",
    "    ylabel='Distance [m]',\n",
    "    ylim=[0.5, 1.0],\n",
    "    kind='box',\n",
    "    # group='goal_reached',\n",
    "    # lgd_labels=['Not reached', 'Reached'],\n",
    "    titlefontsz=9,\n",
    ")\n",
    "\n",
    "plt.savefig(\"./pdf/1203_crowd.pdf\", dpi=300)\n",
    "\n",
    "plt.show()"
   ]
  },
  {
   "cell_type": "code",
   "execution_count": null,
   "metadata": {},
   "outputs": [],
   "source": [
    "plt.close()"
   ]
  },
  {
   "cell_type": "markdown",
   "metadata": {},
   "source": [
    "### Path Efficiency-related metrics"
   ]
  },
  {
   "cell_type": "code",
   "execution_count": null,
   "metadata": {},
   "outputs": [],
   "source": [
    "path_metrics_df = eval_res_df[['seq', 'control_type'] + list(path_metrics)]"
   ]
  },
  {
   "cell_type": "code",
   "execution_count": null,
   "metadata": {},
   "outputs": [],
   "source": [
    "for ctrl in chosen_type:\n",
    "    print(\"###\", ctrl)\n",
    "    print(\"# mean\")\n",
    "    print(crowd_metrics_df[crowd_metrics_df.control_type == ctrl].mean(numeric_only=True))\n",
    "    # print(\"# std\")\n",
    "    # print(crowd_metrics_df[crowd_metrics_df.control_type == ctrl].std(numeric_only=True))\n",
    "    print()"
   ]
  },
  {
   "cell_type": "code",
   "execution_count": null,
   "metadata": {},
   "outputs": [],
   "source": [
    "print(\"# max value in each metrics\")\n",
    "print(path_metrics_df.max(numeric_only=True))\n",
    "print(\"# min value in each metrics\")\n",
    "print(path_metrics_df.min(numeric_only=True))"
   ]
  },
  {
   "cell_type": "code",
   "execution_count": null,
   "metadata": {},
   "outputs": [],
   "source": [
    "path_fig, path_axes = plt.subplots(1, 2, figsize=(8, 5))\n",
    "\n",
    "plt.subplots_adjust(left=None, bottom=None, right=None, top=None, wspace=1.0, hspace=None)\n",
    "\n",
    "categorical_plot(\n",
    "    axes=path_axes[0],\n",
    "    df=path_metrics_df,\n",
    "    metric='rel_duration2goal',\n",
    "    catogory='control_type',\n",
    "    title='Relative time to the goal',\n",
    "    xlabel='',\n",
    "    ylabel='',\n",
    "    ylim=[0.0, 0.5],\n",
    "    kind='box',\n",
    ")\n",
    "\n",
    "categorical_plot(\n",
    "    axes=path_axes[1],\n",
    "    df=path_metrics_df,\n",
    "    metric='rel_path_length2goal',\n",
    "    catogory='control_type',\n",
    "    title='Relative path length to the goal',\n",
    "    xlabel='',\n",
    "    ylabel='',\n",
    "    ylim=[0.0, 2.0],\n",
    "    kind='box',\n",
    ")\n",
    "\n",
    "plt.savefig(\"./pdf/1203_path_efficiency.pdf\", dpi=300)\n",
    "\n",
    "plt.show()"
   ]
  },
  {
   "cell_type": "code",
   "execution_count": null,
   "metadata": {},
   "outputs": [],
   "source": [
    "plt.close()"
   ]
  },
  {
   "cell_type": "markdown",
   "metadata": {},
   "source": [
    "### Shared control-related metrics"
   ]
  },
  {
   "cell_type": "code",
   "execution_count": null,
   "metadata": {},
   "outputs": [],
   "source": [
    "control_metrics_df = eval_res_df[['seq', 'control_type'] + list(control_metrics)]"
   ]
  },
  {
   "cell_type": "code",
   "execution_count": null,
   "metadata": {},
   "outputs": [],
   "source": [
    "print(\"# max value in each metrics\")\n",
    "print(control_metrics_df.max(numeric_only=True))\n",
    "print(\"# min value in each metrics\")\n",
    "print(control_metrics_df.min(numeric_only=True))"
   ]
  },
  {
   "cell_type": "code",
   "execution_count": null,
   "metadata": {},
   "outputs": [],
   "source": [
    "control_fig, control_axes = plt.subplots(1, 4, figsize=(16, 5))\n",
    "\n",
    "plt.subplots_adjust(left=None, bottom=None, right=None, top=None, wspace=1.0, hspace=None)\n",
    "\n",
    "\n",
    "\n",
    "categorical_plot(\n",
    "    axes=control_axes[0],\n",
    "    df=control_metrics_df,\n",
    "    metric='avg_fluency',\n",
    "    catogory='control_type',\n",
    "    title='Average control fluency',\n",
    "    xlabel='',\n",
    "    ylabel='',\n",
    "    ylim=[0.85, 1.0],\n",
    "    kind='box',\n",
    ")\n",
    "\n",
    "categorical_plot(\n",
    "    axes=control_axes[1],\n",
    "    df=control_metrics_df,\n",
    "    metric='rel_jerk',\n",
    "    catogory='control_type',\n",
    "    title='Relative jerk',\n",
    "    xlabel='',\n",
    "    ylabel='',\n",
    "    ylim=[0, 0.4],\n",
    "    kind='box',\n",
    ")\n",
    "\n",
    "categorical_plot(\n",
    "    axes=control_axes[2],\n",
    "    df=control_metrics_df,\n",
    "    metric='contribution',\n",
    "    catogory='control_type',\n",
    "    title='Contribution',\n",
    "    xlabel='',\n",
    "    ylabel='',\n",
    "    ylim=[0.0, 1.0],\n",
    "    kind='box',\n",
    ")\n",
    "\n",
    "categorical_plot(\n",
    "    axes=control_axes[3],\n",
    "    df=control_metrics_df,\n",
    "    metric='avg_agreement',\n",
    "    catogory='control_type',\n",
    "    title='Average agreement',\n",
    "    xlabel='',\n",
    "    ylabel='',\n",
    "    ylim=[0.0, 1.0],\n",
    "    kind='box',\n",
    ")\n",
    "\n",
    "plt.savefig(\"./pdf/1203_control.pdf\", dpi=300)\n",
    "\n",
    "plt.show()"
   ]
  },
  {
   "cell_type": "code",
   "execution_count": null,
   "metadata": {},
   "outputs": [],
   "source": [
    "plt.close()"
   ]
  },
  {
   "cell_type": "markdown",
   "metadata": {},
   "source": [
    "## Comparison of all control type between 0410 and 0424"
   ]
  },
  {
   "cell_type": "markdown",
   "metadata": {},
   "source": [
    "### Result loading"
   ]
  },
  {
   "cell_type": "code",
   "execution_count": null,
   "metadata": {},
   "outputs": [],
   "source": [
    "chosen_dates = ['0410', '0424']\n",
    "chosen_type = ['mds', 'rds', 'shared_control']\n",
    "\n",
    "eval_dirs = []\n",
    "\n",
    "for root, dirs, files in walk(outbase, topdown=False, maxdepth=1):\n",
    "    for dir_ in dirs:\n",
    "        if any(s in dir_ for s in chosen_dates) and any(s in dir_ for s in chosen_type):\n",
    "            dir_ = dir_.replace(\"_processed\", \"\")\n",
    "            eval_dirs.append(dir_)\n",
    "            print(\"{}/ is available!\".format(dir_))"
   ]
  },
  {
   "cell_type": "code",
   "execution_count": null,
   "metadata": {},
   "outputs": [],
   "source": [
    "eval_res_df = import_eval_res(eval_dirs)"
   ]
  },
  {
   "cell_type": "code",
   "execution_count": null,
   "metadata": {
    "scrolled": true
   },
   "outputs": [],
   "source": [
    "eval_res_df.head()"
   ]
  },
  {
   "cell_type": "markdown",
   "metadata": {},
   "source": [
    "### Mean-Std statistics"
   ]
  },
  {
   "cell_type": "code",
   "execution_count": null,
   "metadata": {
    "scrolled": false
   },
   "outputs": [],
   "source": [
    "for ctrl in chosen_type:\n",
    "    print(ctrl, \":\", len(eval_res_df[eval_res_df.control_type == ctrl]))\n",
    "\n",
    "frames_stat = []\n",
    "for ctrl in chosen_type:\n",
    "    eval_res_df_ = eval_res_df[eval_res_df.control_type == ctrl]\n",
    "    stat_df = eval_res_df_.drop(['date'], axis=1).agg(['mean', 'std'])\n",
    "    if ctrl == 'shared_control':\n",
    "        stat_df.index = 'sc_'+stat_df.index.values\n",
    "    else:\n",
    "        stat_df.index = ctrl+'_'+stat_df.index.values\n",
    "    frames_stat.append(stat_df)\n",
    "    \n",
    "stat_df_all = pd.concat(frames_stat) # , ignore_index=True\n",
    "stat_df_all.index.name = 'Metrics'\n",
    "stat_df_all"
   ]
  },
  {
   "cell_type": "markdown",
   "metadata": {},
   "source": [
    "### Crowd-related metrics"
   ]
  },
  {
   "cell_type": "code",
   "execution_count": null,
   "metadata": {},
   "outputs": [],
   "source": [
    "crowd_metrics_df = eval_res_df[['seq', 'control_type'] + list(crowd_metrics) + ['date']]"
   ]
  },
  {
   "cell_type": "code",
   "execution_count": null,
   "metadata": {},
   "outputs": [],
   "source": [
    "for ctrl in chosen_type:\n",
    "    print(\"###\", ctrl)\n",
    "    print(\"# mean\")\n",
    "    print(crowd_metrics_df[crowd_metrics_df.control_type == ctrl].mean(numeric_only=True))\n",
    "    # print(\"# std\")\n",
    "    # print(crowd_metrics_df[crowd_metrics_df.control_type == ctrl].std(numeric_only=True))\n",
    "    print()"
   ]
  },
  {
   "cell_type": "code",
   "execution_count": null,
   "metadata": {},
   "outputs": [],
   "source": [
    "print(\"# max value in each metrics\")\n",
    "print(crowd_metrics_df.max(numeric_only=True))\n",
    "print(\"# min value in each metrics\")\n",
    "print(crowd_metrics_df.min(numeric_only=True))"
   ]
  },
  {
   "cell_type": "code",
   "execution_count": null,
   "metadata": {},
   "outputs": [],
   "source": [
    "fig, axes = plt.subplots(2, 2, figsize=(16, 10))\n",
    "\n",
    "categorical_plot(\n",
    "    axes=axes[0,0],\n",
    "    df=crowd_metrics_df,\n",
    "    metric='avg_crowd_density2_5',\n",
    "    catogory='control_type',\n",
    "    title='Mean crowd density within 2.5 m',\n",
    "    xlabel='',\n",
    "    ylabel='Density [1/$m^2$]',\n",
    "    ylim=[0.0, 0.20],\n",
    "    kind='box',\n",
    "    lgd_labels=['April 10, 2021', 'April 24, 2021'],\n",
    "    group='date',\n",
    ")\n",
    "categorical_plot(\n",
    "    axes=axes[0,1],\n",
    "    df=crowd_metrics_df,\n",
    "    metric='max_crowd_density2_5',\n",
    "    catogory='control_type',\n",
    "    title='Max crowd density within 2.5 m',\n",
    "    xlabel='',\n",
    "    ylabel='Density [1/$m^2$]',\n",
    "    ylim=[0.0, 0.90],\n",
    "    kind='box',\n",
    "    lgd_labels=['April 10, 2021', 'April 24, 2021'],\n",
    "    group='date',\n",
    ")\n",
    "\n",
    "# categorical_plot(\n",
    "#     axes=axes[1,0],\n",
    "#     df=crowd_metrics_df,\n",
    "#     metric='std_crowd_density2_5',\n",
    "#     catogory='control_type',\n",
    "#     title='Standard deviation of crowd density within 2.5 m',\n",
    "#     xlabel='',\n",
    "#     ylabel='Density [1/$m^2$]',\n",
    "#     ylim=[0.0, 0.15],\n",
    "#     kind='box',\n",
    "#     lgd_labels=['April 10, 2021', 'April 24, 2021'],\n",
    "#     group='date',\n",
    "# )\n",
    "\n",
    "categorical_plot(\n",
    "    axes=axes[1,0],\n",
    "    df=crowd_metrics_df,\n",
    "    metric='virtual_collision',\n",
    "    catogory='control_type',\n",
    "    title='Virtual collision with Qolo',\n",
    "    xlabel='',\n",
    "    ylabel='',\n",
    "    ylim=[-0.1, 40],\n",
    "    kind='box',\n",
    "    lgd_labels=['April 10, 2021', 'April 24, 2021'],\n",
    "    group='date',\n",
    "    loc='upper right',\n",
    ")\n",
    "\n",
    "categorical_plot(\n",
    "    axes=axes[1,1],\n",
    "    df=crowd_metrics_df,\n",
    "    metric='avg_min_dist',\n",
    "    catogory='control_type',\n",
    "    title='Min. distance of Pedestrain from qolo',\n",
    "    xlabel='',\n",
    "    ylabel='Distance [m]',\n",
    "    ylim=[0.5, 1.6],\n",
    "    kind='box',\n",
    "    lgd_labels=['April 10, 2021', 'April 24, 2021'],\n",
    "    group='date',\n",
    ")\n",
    "\n",
    "plt.savefig(\"./pdf/comp_crowd.pdf\", dpi=300)\n",
    "\n",
    "plt.show()"
   ]
  },
  {
   "cell_type": "code",
   "execution_count": null,
   "metadata": {},
   "outputs": [],
   "source": [
    "plt.close()"
   ]
  },
  {
   "cell_type": "markdown",
   "metadata": {},
   "source": [
    "### Path Efficiency-related metrics"
   ]
  },
  {
   "cell_type": "code",
   "execution_count": null,
   "metadata": {},
   "outputs": [],
   "source": [
    "path_metrics_df = eval_res_df[['seq', 'control_type'] + list(path_metrics) + ['date']]"
   ]
  },
  {
   "cell_type": "code",
   "execution_count": null,
   "metadata": {},
   "outputs": [],
   "source": [
    "print(\"# max value in each metrics\")\n",
    "print(path_metrics_df.max(numeric_only=True))\n",
    "print(\"# min value in each metrics\")\n",
    "print(path_metrics_df.min(numeric_only=True))"
   ]
  },
  {
   "cell_type": "code",
   "execution_count": null,
   "metadata": {
    "scrolled": false
   },
   "outputs": [],
   "source": [
    "path_fig, path_axes = plt.subplots(1, 2, figsize=(16, 5))\n",
    "\n",
    "categorical_plot(\n",
    "    axes=path_axes[0],\n",
    "    df=path_metrics_df,\n",
    "    metric='rel_duration2goal',\n",
    "    catogory='control_type',\n",
    "    title='Relative time to the goal',\n",
    "    xlabel='',\n",
    "    ylabel='',\n",
    "    ylim=[0.0, 1.0],\n",
    "    lgd_labels=['April 10, 2021', 'April 24, 2021'],\n",
    "    group='date',\n",
    "    loc='upper right',\n",
    "    kind='box',\n",
    ")\n",
    "\n",
    "categorical_plot(\n",
    "    axes=path_axes[1],\n",
    "    df=path_metrics_df,\n",
    "    metric='rel_path_length2goal',\n",
    "    catogory='control_type',\n",
    "    title='Relative path length to the goal',\n",
    "    xlabel='',\n",
    "    ylabel='',\n",
    "    ylim=[0.0, 3.0],\n",
    "    lgd_labels=['April 10, 2021', 'April 24, 2021'],\n",
    "    group='date',\n",
    "    kind='box',\n",
    ")\n",
    "\n",
    "plt.savefig(\"./pdf/comp_path_efficiency.pdf\", dpi=300)\n",
    "\n",
    "plt.show()"
   ]
  },
  {
   "cell_type": "code",
   "execution_count": null,
   "metadata": {},
   "outputs": [],
   "source": [
    "plt.close()"
   ]
  },
  {
   "cell_type": "markdown",
   "metadata": {},
   "source": [
    "### Shared control-related metrics"
   ]
  },
  {
   "cell_type": "code",
   "execution_count": null,
   "metadata": {},
   "outputs": [],
   "source": [
    "control_metrics_df = eval_res_df[['seq', 'control_type'] + list(control_metrics) + ['date']]"
   ]
  },
  {
   "cell_type": "code",
   "execution_count": null,
   "metadata": {},
   "outputs": [],
   "source": [
    "print(\"# max value in each metrics\")\n",
    "print(control_metrics_df.max(numeric_only=True))\n",
    "print(\"# min value in each metrics\")\n",
    "print(control_metrics_df.min(numeric_only=True))"
   ]
  },
  {
   "cell_type": "code",
   "execution_count": null,
   "metadata": {},
   "outputs": [],
   "source": [
    "control_fig, control_axes = plt.subplots(2, 2, figsize=(16, 12))\n",
    "\n",
    "categorical_plot(\n",
    "    axes=control_axes[0,0],\n",
    "    df=control_metrics_df,\n",
    "    metric='avg_fluency',\n",
    "    catogory='control_type',\n",
    "    title='Average control fluency',\n",
    "    xlabel='',\n",
    "    ylabel='',\n",
    "    ylim=[0.90, 1.0],\n",
    "    lgd_labels=['April 10, 2021', 'April 24, 2021'],\n",
    "    group='date',\n",
    "    kind='box',\n",
    ")\n",
    "\n",
    "categorical_plot(\n",
    "    axes=control_axes[0,1],\n",
    "    df=control_metrics_df,\n",
    "    metric='rel_jerk',\n",
    "    catogory='control_type',\n",
    "    title='Relative jerk',\n",
    "    xlabel='',\n",
    "    ylabel='',\n",
    "    ylim=[0, 0.4],\n",
    "    lgd_labels=['April 10, 2021', 'April 24, 2021'],\n",
    "    group='date',\n",
    "    loc='upper right',\n",
    "    kind='box',\n",
    ")\n",
    "\n",
    "categorical_plot(\n",
    "    axes=control_axes[1,0],\n",
    "    df=control_metrics_df,\n",
    "    metric='contribution',\n",
    "    catogory='control_type',\n",
    "    title='Contribution',\n",
    "    xlabel='',\n",
    "    ylabel='',\n",
    "    ylim=[0.0, 1.2],\n",
    "    lgd_labels=['April 10, 2021', 'April 24, 2021'],\n",
    "    group='date',\n",
    "    loc='upper right',\n",
    "    kind='box',\n",
    ")\n",
    "\n",
    "categorical_plot(\n",
    "    axes=control_axes[1,1],\n",
    "    df=control_metrics_df,\n",
    "    metric='avg_agreement',\n",
    "    catogory='control_type',\n",
    "    title='Average agreement',\n",
    "    xlabel='',\n",
    "    ylabel='',\n",
    "    ylim=[0.0, 1.0],\n",
    "    lgd_labels=['April 10, 2021', 'April 24, 2021'],\n",
    "    group='date',\n",
    "    kind='box',\n",
    ")\n",
    "\n",
    "plt.savefig(\"./pdf/comp_control.pdf\", dpi=300)\n",
    "\n",
    "plt.show()"
   ]
  },
  {
   "cell_type": "code",
   "execution_count": null,
   "metadata": {},
   "outputs": [],
   "source": [
    "plt.close()"
   ]
  },
  {
   "cell_type": "markdown",
   "metadata": {},
   "source": [
    "### Analysis without grouping by date"
   ]
  },
  {
   "cell_type": "code",
   "execution_count": null,
   "metadata": {},
   "outputs": [],
   "source": [
    "crowd_metrics_df0424 = crowd_metrics_df[crowd_metrics_df.date=='0424'].sort_values('control_type', ascending=False)\n",
    "print(\"Sequence on 0424\")\n",
    "print(crowd_metrics_df0424['control_type'].value_counts())"
   ]
  },
  {
   "cell_type": "code",
   "execution_count": null,
   "metadata": {},
   "outputs": [],
   "source": [
    "crowd_metrics_df0410 = crowd_metrics_df[crowd_metrics_df.date=='0410'].sort_values(by=['control_type'], ascending=False, ignore_index=True).reindex()\n",
    "print(\"Sequence on 0410\")\n",
    "print(crowd_metrics_df0410['control_type'].value_counts())"
   ]
  },
  {
   "cell_type": "code",
   "execution_count": null,
   "metadata": {},
   "outputs": [],
   "source": [
    "# crowd_metrics_df0410"
   ]
  },
  {
   "cell_type": "code",
   "execution_count": null,
   "metadata": {},
   "outputs": [],
   "source": [
    "fig, axes = plt.subplots(2, 2, figsize=(14, 12))\n",
    "\n",
    "categorical_plot(\n",
    "    axes=axes[0,0],\n",
    "    df=crowd_metrics_df,\n",
    "    metric='avg_crowd_density2_5',\n",
    "    catogory='control_type',\n",
    "    title='Mean crowd density within 2.5 m',\n",
    "    xlabel='',\n",
    "    ylabel='Density [1/$m^2$]',\n",
    "    ylim=[0.0, 0.20],\n",
    "    kind='box',\n",
    "    #lgd_labels=['April 10, 2021', 'April 24, 2021'],\n",
    "    #group='date',\n",
    ")\n",
    "categorical_plot(\n",
    "    axes=axes[0,1],\n",
    "    df=crowd_metrics_df,\n",
    "    metric='max_crowd_density2_5',\n",
    "    catogory='control_type',\n",
    "    title='Max crowd density within 2.5 m',\n",
    "    xlabel='',\n",
    "    ylabel='Density [1/$m^2$]',\n",
    "    ylim=[0.0, 0.90],\n",
    "    kind='box',\n",
    "    #lgd_labels=['April 10, 2021', 'April 24, 2021'],\n",
    "    #group='date',\n",
    ")\n",
    "\n",
    "# categorical_plot(\n",
    "#     axes=axes[1,0],\n",
    "#     df=crowd_metrics_df,\n",
    "#     metric='std_crowd_density2_5',\n",
    "#     catogory='control_type',\n",
    "#     title='Standard deviation of crowd density within 2.5 m',\n",
    "#     xlabel='',\n",
    "#     ylabel='Density [1/$m^2$]',\n",
    "#     ylim=[0.0, 0.15],\n",
    "#     kind='box',\n",
    "#     #lgd_labels=['April 10, 2021', 'April 24, 2021'],\n",
    "#     #group='date',\n",
    "# )\n",
    "\n",
    "categorical_plot(\n",
    "    axes=axes[1,0],\n",
    "    df=crowd_metrics_df,\n",
    "    metric='virtual_collision',\n",
    "    catogory='control_type',\n",
    "    title='Virtual collision with Qolo',\n",
    "    xlabel='',\n",
    "    ylabel='',\n",
    "    ylim=[-0.1, 18],\n",
    "    kind='box',\n",
    "    # lgd_labels=['April 10, 2021', 'April 24, 2021'],\n",
    "    # group='date',\n",
    "    # loc='upper right',\n",
    "    yint=True,\n",
    "    \n",
    ")\n",
    "\n",
    "categorical_plot(\n",
    "    axes=axes[1,1],\n",
    "    df=crowd_metrics_df,\n",
    "    metric='avg_min_dist',\n",
    "    catogory='control_type',\n",
    "    title='Min. distance of Pedestrain from qolo',\n",
    "    xlabel='',\n",
    "    ylabel='Distance [m]',\n",
    "    ylim=[0.5, 1.6],\n",
    "    kind='box',\n",
    "    #lgd_labels=['April 10, 2021', 'April 24, 2021'],\n",
    "    #group='date',\n",
    ")\n",
    "\n",
    "plt.savefig(\"./pdf/comp_crowd_nogroup.pdf\", dpi=300)\n",
    "\n",
    "plt.show()"
   ]
  },
  {
   "cell_type": "code",
   "execution_count": null,
   "metadata": {},
   "outputs": [],
   "source": [
    "plt.close()"
   ]
  },
  {
   "cell_type": "code",
   "execution_count": null,
   "metadata": {},
   "outputs": [],
   "source": [
    "path_fig, path_axes = plt.subplots(1, 2, figsize=(14, 5))\n",
    "\n",
    "categorical_plot(\n",
    "    axes=path_axes[0],\n",
    "    df=path_metrics_df,\n",
    "    metric='rel_duration2goal',\n",
    "    catogory='control_type',\n",
    "    title='Relative time to the goal',\n",
    "    xlabel='',\n",
    "    ylabel='',\n",
    "    ylim=[0.0, 1.0],\n",
    "    # lgd_labels=['April 10, 2021', 'April 24, 2021'],\n",
    "    # group='date',\n",
    "    loc='upper right',\n",
    "    kind='box',\n",
    ")\n",
    "\n",
    "categorical_plot(\n",
    "    axes=path_axes[1],\n",
    "    df=path_metrics_df,\n",
    "    metric='rel_path_length2goal',\n",
    "    catogory='control_type',\n",
    "    title='Relative path length to the goal',\n",
    "    xlabel='',\n",
    "    ylabel='',\n",
    "    ylim=[0.0, 3.0],\n",
    "    # lgd_labels=['April 10, 2021', 'April 24, 2021'],\n",
    "    # group='date',\n",
    "    kind='box',\n",
    ")\n",
    "\n",
    "plt.savefig(\"./pdf/comp_path_efficiency_nogroup.pdf\", dpi=300)\n",
    "\n",
    "plt.show()"
   ]
  },
  {
   "cell_type": "code",
   "execution_count": null,
   "metadata": {},
   "outputs": [],
   "source": [
    "plt.close()"
   ]
  },
  {
   "cell_type": "code",
   "execution_count": null,
   "metadata": {},
   "outputs": [],
   "source": [
    "control_fig, control_axes = plt.subplots(2, 2, figsize=(14, 12))\n",
    "\n",
    "categorical_plot(\n",
    "    axes=control_axes[0,0],\n",
    "    df=control_metrics_df,\n",
    "    metric='avg_fluency',\n",
    "    catogory='control_type',\n",
    "    title='Average control fluency',\n",
    "    xlabel='',\n",
    "    ylabel='',\n",
    "    ylim=[0.85, 1.0],\n",
    "    # lgd_labels=['April 10, 2021', 'April 24, 2021'],\n",
    "    # group='date',\n",
    "    kind='box',\n",
    ")\n",
    "\n",
    "categorical_plot(\n",
    "    axes=control_axes[0,1],\n",
    "    df=control_metrics_df,\n",
    "    metric='rel_jerk',\n",
    "    catogory='control_type',\n",
    "    title='Relative jerk',\n",
    "    xlabel='',\n",
    "    ylabel='',\n",
    "    ylim=[0, 0.4],\n",
    "    # lgd_labels=['April 10, 2021', 'April 24, 2021'],\n",
    "    # group='date',\n",
    "    loc='upper right',\n",
    "    kind='box',\n",
    ")\n",
    "\n",
    "categorical_plot(\n",
    "    axes=control_axes[1,0],\n",
    "    df=control_metrics_df,\n",
    "    metric='contribution',\n",
    "    catogory='control_type',\n",
    "    title='Contribution',\n",
    "    xlabel='',\n",
    "    ylabel='',\n",
    "    ylim=[0.0, 1.25],\n",
    "    # lgd_labels=['April 10, 2021', 'April 24, 2021'],\n",
    "    # group='date',\n",
    "    loc='upper right',\n",
    "    kind='box',\n",
    ")\n",
    "\n",
    "categorical_plot(\n",
    "    axes=control_axes[1,1],\n",
    "    df=control_metrics_df,\n",
    "    metric='avg_agreement',\n",
    "    catogory='control_type',\n",
    "    title='Average agreement',\n",
    "    xlabel='',\n",
    "    ylabel='',\n",
    "    ylim=[0.0, 1.0],\n",
    "    # lgd_labels=['April 10, 2021', 'April 24, 2021'],\n",
    "    # group='date',\n",
    "    kind='box',\n",
    ")\n",
    "\n",
    "plt.savefig(\"./pdf/comp_control_nogroup.pdf\", dpi=300)\n",
    "\n",
    "plt.show()"
   ]
  },
  {
   "cell_type": "code",
   "execution_count": null,
   "metadata": {},
   "outputs": [],
   "source": [
    "plt.close()"
   ]
  },
  {
   "cell_type": "markdown",
   "metadata": {},
   "source": [
    "### ANOVA test"
   ]
  },
  {
   "cell_type": "code",
   "execution_count": null,
   "metadata": {},
   "outputs": [],
   "source": [
    "anova_metrics = (\n",
    "    'rel_duration2goal',\n",
    "    'rel_path_length2goal',\n",
    "    'min_dist2goal',\n",
    "    'avg_fluency',\n",
    "    'contribution',\n",
    "    'avg_agreement',\n",
    "    'avg_crowd_density2_5',\n",
    "    'max_crowd_density2_5',\n",
    "    'avg_min_dist',\n",
    "    'rel_jerk',\n",
    "    'virtual_collision'\n",
    ")"
   ]
  },
  {
   "cell_type": "code",
   "execution_count": null,
   "metadata": {},
   "outputs": [],
   "source": [
    "mds_anova_ = eval_res_df[eval_res_df.control_type=='mds']\n",
    "mds_metrics = mds_anova_[list(anova_metrics)].values\n",
    "\n",
    "rds_anova_ = eval_res_df[eval_res_df.control_type=='rds']\n",
    "rds_metrics = rds_anova_[list(anova_metrics)].values\n",
    "\n",
    "shared_control_anova_ = eval_res_df[eval_res_df.control_type=='shared_control']\n",
    "shared_control_metrics = shared_control_anova_[list(anova_metrics)].values"
   ]
  },
  {
   "cell_type": "code",
   "execution_count": null,
   "metadata": {},
   "outputs": [],
   "source": [
    "fvalue12, pvalue12 = stats.f_oneway(mds_metrics, rds_metrics)\n",
    "fvalue23, pvalue23 = stats.f_oneway(mds_metrics, shared_control_metrics)\n",
    "fvalue13, pvalue13 = stats.f_oneway(rds_metrics, shared_control_metrics)\n",
    "# total\n",
    "fvalue, pvalue = stats.f_oneway(mds_metrics, rds_metrics, shared_control_metrics)\n",
    "\n",
    "statP_df = pd.DataFrame(\n",
    "    data=np.vstack((pvalue12, pvalue23, pvalue13, pvalue)), \n",
    "    index=['mds-rds', 'mds-shared', 'rds-shared', 'total'],\n",
    ")\n",
    "statP_df.columns = list(anova_metrics)\n",
    "statP_df.index.name = 'Metrics'\n",
    "\n",
    "statF_df = pd.DataFrame(\n",
    "    data=np.vstack((fvalue12, fvalue23, fvalue13, fvalue)), \n",
    "    index=['mds-rds', 'mds-shared', 'rds-shared', 'total'],\n",
    ")\n",
    "statF_df.columns = list(anova_metrics)\n",
    "statF_df.index.name = 'Metrics'"
   ]
  },
  {
   "cell_type": "code",
   "execution_count": null,
   "metadata": {},
   "outputs": [],
   "source": [
    "statP_df"
   ]
  },
  {
   "cell_type": "code",
   "execution_count": null,
   "metadata": {},
   "outputs": [],
   "source": [
    "statF_df"
   ]
  },
  {
   "cell_type": "code",
   "execution_count": null,
   "metadata": {},
   "outputs": [],
   "source": [
    "# print(statF_df.T.to_latex())\n",
    "# print(statP_df.T.to_latex())\n",
    "# print(stat_df_all.T.to_latex())"
   ]
  },
  {
   "cell_type": "markdown",
   "metadata": {},
   "source": [
    "## Comparison between shared_control on 0325, 0410, 0424, and 1203"
   ]
  },
  {
   "cell_type": "code",
   "execution_count": null,
   "metadata": {},
   "outputs": [],
   "source": [
    "chosen_dates = ['0325', '0327', '0410', '0424', '1203']\n",
    "chosen_type = ['shared_control']\n",
    "\n",
    "eval_dirs = []\n",
    "\n",
    "for root, dirs, files in walk(outbase, topdown=False, maxdepth=1):\n",
    "    for dir_ in dirs:\n",
    "        if any(s in dir_ for s in chosen_dates) and any(s in dir_ for s in chosen_type):\n",
    "            dir_ = dir_.replace(\"_processed\", \"\")\n",
    "            eval_dirs.append(dir_)\n",
    "            print(\"{}/ is available!\".format(dir_))"
   ]
  },
  {
   "cell_type": "markdown",
   "metadata": {},
   "source": [
    "### Result loading"
   ]
  },
  {
   "cell_type": "code",
   "execution_count": null,
   "metadata": {},
   "outputs": [],
   "source": [
    "eval_res_df = import_eval_res(eval_dirs)"
   ]
  },
  {
   "cell_type": "markdown",
   "metadata": {},
   "source": [
    "### Analysis given different dates"
   ]
  },
  {
   "cell_type": "code",
   "execution_count": null,
   "metadata": {},
   "outputs": [],
   "source": [
    "eval_res_df_ = eval_res_df.sort_values('date', ascending=False)\n",
    "print(\"Shared_control sequence on different dates\")\n",
    "print(eval_res_df['date'].value_counts())"
   ]
  },
  {
   "cell_type": "code",
   "execution_count": null,
   "metadata": {},
   "outputs": [],
   "source": [
    "# eval_res_df.head()"
   ]
  },
  {
   "cell_type": "markdown",
   "metadata": {},
   "source": [
    "#### Mean-Std statistics"
   ]
  },
  {
   "cell_type": "code",
   "execution_count": null,
   "metadata": {},
   "outputs": [],
   "source": [
    "frames_stat=[]\n",
    "for date in chosen_dates:\n",
    "    eval_res_df_ = eval_res_df[eval_res_df.date == date]\n",
    "    stat_df = eval_res_df_.drop(['date'], axis=1).agg(['mean', 'std'])\n",
    "    stat_df.index = date+'_'+stat_df.index.values\n",
    "    frames_stat.append(stat_df)\n",
    "    \n",
    "stat_df_all_shared = pd.concat(frames_stat) # , ignore_index=True\n",
    "stat_df_all_shared.index.name = 'Metrics'\n",
    "stat_df_all_shared"
   ]
  },
  {
   "cell_type": "markdown",
   "metadata": {},
   "source": [
    "#### ANOVA test"
   ]
  },
  {
   "cell_type": "code",
   "execution_count": null,
   "metadata": {},
   "outputs": [],
   "source": [
    "anova_metrics = (\n",
    "    'rel_duration2goal',\n",
    "    'rel_path_length2goal',\n",
    "    'min_dist2goal',\n",
    "    'avg_fluency',\n",
    "    'contribution',\n",
    "    'avg_agreement',\n",
    "    'avg_crowd_density2_5',\n",
    "    'max_crowd_density2_5',\n",
    "    'avg_min_dist',\n",
    "    'rel_jerk',\n",
    "    'virtual_collision'\n",
    ")"
   ]
  },
  {
   "cell_type": "code",
   "execution_count": null,
   "metadata": {},
   "outputs": [],
   "source": [
    "data1_anova_ = eval_res_df[eval_res_df.date=='0325']\n",
    "date1 = data1_anova_[list(anova_metrics)].values\n",
    "\n",
    "data2_anova_ = eval_res_df[eval_res_df.date=='0410']\n",
    "date2 = data2_anova_[list(anova_metrics)].values\n",
    "\n",
    "data3_anova_ = eval_res_df[eval_res_df.date=='0424']\n",
    "date3 = data3_anova_[list(anova_metrics)].values\n",
    "\n",
    "data4_anova_ = eval_res_df[eval_res_df.date=='1203']\n",
    "date4 = data4_anova_[list(anova_metrics)].values"
   ]
  },
  {
   "cell_type": "code",
   "execution_count": null,
   "metadata": {},
   "outputs": [],
   "source": [
    "fvalue12, pvalue12 = stats.f_oneway(date1, date2)\n",
    "fvalue23, pvalue23 = stats.f_oneway(date2, date3)\n",
    "fvalue34, pvalue34 = stats.f_oneway(date3, date4)\n",
    "fvalue13, pvalue13 = stats.f_oneway(date1, date3)\n",
    "fvalue24, pvalue24 = stats.f_oneway(date2, date4)\n",
    "fvalue14, pvalue14 = stats.f_oneway(date1, date4)\n",
    "# total\n",
    "fvalue, pvalue = stats.f_oneway(date1, date2, date3, date4)\n",
    "\n",
    "statF_df = pd.DataFrame(\n",
    "    data=np.vstack((fvalue12, fvalue13, fvalue14, fvalue23, fvalue24, fvalue34, fvalue)), \n",
    "    index=['12', '13', '14', '23', '24', '34', 'total'],\n",
    ")\n",
    "statF_df.columns = list(anova_metrics)\n",
    "statF_df.index.name = 'Metrics'\n",
    "\n",
    "statP_df = pd.DataFrame(\n",
    "    data=np.vstack((pvalue12, pvalue13, pvalue14, pvalue23, pvalue24, pvalue34, pvalue)), \n",
    "    index=['12', '13', '14', '23', '24', '34', 'total'],\n",
    ")\n",
    "statP_df.columns = list(anova_metrics)\n",
    "statP_df.index.name = 'Metrics'"
   ]
  },
  {
   "cell_type": "code",
   "execution_count": null,
   "metadata": {},
   "outputs": [],
   "source": [
    "statF_df"
   ]
  },
  {
   "cell_type": "code",
   "execution_count": null,
   "metadata": {
    "scrolled": true
   },
   "outputs": [],
   "source": [
    "statP_df"
   ]
  },
  {
   "cell_type": "code",
   "execution_count": null,
   "metadata": {},
   "outputs": [],
   "source": [
    "# print(statF_df.T.to_latex())\n",
    "# print(statP_df.T.to_latex())\n",
    "# print(stat_df_all_shared.T.to_latex())"
   ]
  },
  {
   "cell_type": "markdown",
   "metadata": {},
   "source": [
    "#### Crowd-related metrics"
   ]
  },
  {
   "cell_type": "code",
   "execution_count": null,
   "metadata": {},
   "outputs": [],
   "source": [
    "crowd_metrics_df = eval_res_df[['seq', 'control_type'] + list(crowd_metrics) + ['date']]"
   ]
  },
  {
   "cell_type": "code",
   "execution_count": null,
   "metadata": {},
   "outputs": [],
   "source": [
    "print(\"# max value in each metrics\")\n",
    "print(crowd_metrics_df.max(numeric_only=True))\n",
    "print(\"# min value in each metrics\")\n",
    "print(crowd_metrics_df.min(numeric_only=True))"
   ]
  },
  {
   "cell_type": "markdown",
   "metadata": {},
   "source": [
    "- group by date"
   ]
  },
  {
   "cell_type": "code",
   "execution_count": null,
   "metadata": {
    "scrolled": false
   },
   "outputs": [],
   "source": [
    "fig, axes = plt.subplots(2, 2, figsize=(16, 12))\n",
    "\n",
    "categorical_plot(\n",
    "    axes=axes[0, 0],\n",
    "    df=crowd_metrics_df,\n",
    "    metric='avg_crowd_density2_5',\n",
    "    catogory='control_type',\n",
    "    # title='Mean crowd density within 2.5 m',\n",
    "    title='Mean crowd density',\n",
    "    xlabel='',\n",
    "    ylabel='Density [1/$m^2$]',\n",
    "    ylim=[0.00, 0.4],\n",
    "    kind='box',\n",
    "    # lgd_labels=['Mar 25, 2021', 'Mar 27, 2021', 'Apr 10, 2021', 'Apr 24, 2021', 'Dec 03, 2021'],\n",
    "    lgd_labels=['Date 1', 'Date 2', 'Date 3', 'Date 4', 'Date 5'],\n",
    "    group='date',\n",
    "    titlefontsz=10,\n",
    ")\n",
    "categorical_plot(\n",
    "    axes=axes[0, 1],\n",
    "    df=crowd_metrics_df,\n",
    "    metric='max_crowd_density2_5',\n",
    "    catogory='control_type',\n",
    "    # title='Max crowd density within 2.5 m',\n",
    "    title='Max crowd density',\n",
    "    xlabel='',\n",
    "    ylabel='Density [1/$m^2$]',\n",
    "    ylim=[0.25, 1.0],\n",
    "    kind='box',\n",
    "    # lgd_labels=['Mar 25, 2021', 'Mar 27, 2021', 'Apr 10, 2021', 'Apr 24, 2021', 'Dec 03, 2021'],\n",
    "    lgd_labels=['Date 1', 'Date 2', 'Date 3', 'Date 4', 'Date 5'],\n",
    "    group='date',\n",
    "    titlefontsz=10,\n",
    ")\n",
    "\n",
    "categorical_plot(\n",
    "    axes=axes[1, 0],\n",
    "    df=crowd_metrics_df,\n",
    "    metric='virtual_collision',\n",
    "    catogory='control_type',\n",
    "    title='Virtual collision with Qolo',\n",
    "    xlabel='',\n",
    "    ylabel='',\n",
    "    ylim=[-0.1, 40],\n",
    "    kind='box',\n",
    "    # lgd_labels=['Mar 25, 2021', 'Mar 27, 2021', 'Apr 10, 2021', 'Apr 24, 2021', 'Dec 03, 2021'],\n",
    "    lgd_labels=['Date 1', 'Date 2', 'Date 3', 'Date 4', 'Date 5'],\n",
    "    group='date',\n",
    "    titlefontsz=10,\n",
    "    loc='upper left',\n",
    ")\n",
    "\n",
    "categorical_plot(\n",
    "    axes=axes[1, 1],\n",
    "    df=crowd_metrics_df,\n",
    "    metric='avg_min_dist',\n",
    "    catogory='control_type',\n",
    "    # title='Min. distance of Pedestrain from qolo',\n",
    "    title='Min. distance',\n",
    "    xlabel='',\n",
    "    ylabel='Distance [m]',\n",
    "    ylim=[0.5, 2.0],\n",
    "    kind='box',\n",
    "    # lgd_labels=['Mar 25, 2021', 'Mar 27, 2021', 'Apr 10, 2021', 'Apr 24, 2021', 'Dec 03, 2021'],\n",
    "    lgd_labels=['Date 1', 'Date 2', 'Date 3', 'Date 4', 'Date 5'],\n",
    "    group='date',\n",
    "    titlefontsz=10,\n",
    "    loc='upper right',\n",
    ")\n",
    "\n",
    "plt.savefig(\"./pdf/all_shared_control_crowd_grouped.pdf\", dpi=300)\n",
    "\n",
    "plt.show()"
   ]
  },
  {
   "cell_type": "code",
   "execution_count": null,
   "metadata": {},
   "outputs": [],
   "source": [
    "plt.close()"
   ]
  },
  {
   "cell_type": "markdown",
   "metadata": {},
   "source": [
    "- without grouping by date"
   ]
  },
  {
   "cell_type": "code",
   "execution_count": null,
   "metadata": {},
   "outputs": [],
   "source": [
    "fig, axes = plt.subplots(1, 4, figsize=(16, 5))\n",
    "\n",
    "plt.subplots_adjust(left=None, bottom=None, right=None, top=None, wspace=0.8, hspace=None)\n",
    "\n",
    "categorical_plot(\n",
    "    axes=axes[0],\n",
    "    df=crowd_metrics_df,\n",
    "    metric='avg_crowd_density2_5',\n",
    "    catogory='control_type',\n",
    "    # title='Mean crowd density within 2.5 m',\n",
    "    title='Mean crowd density',\n",
    "    xlabel='',\n",
    "    ylabel='Density [1/$m^2$]',\n",
    "    ylim=[0.00, 0.4],\n",
    "    kind='box',\n",
    "    # group='goal_reached',\n",
    "    # lgd_labels=['Not reached', 'Reached'],\n",
    "    titlefontsz=10,\n",
    ")\n",
    "categorical_plot(\n",
    "    axes=axes[1],\n",
    "    df=crowd_metrics_df,\n",
    "    metric='max_crowd_density2_5',\n",
    "    catogory='control_type',\n",
    "    # title='Max crowd density within 2.5 m',\n",
    "    title='Max crowd density',\n",
    "    xlabel='',\n",
    "    ylabel='Density [1/$m^2$]',\n",
    "    ylim=[0.25, 1.0],\n",
    "    kind='box',\n",
    "    # group='goal_reached',\n",
    "    # lgd_labels=['Not reached', 'Reached'],\n",
    "    titlefontsz=10,\n",
    ")\n",
    "\n",
    "# categorical_plot(\n",
    "#     axes=axes[2],\n",
    "#     df=crowd_metrics_df,\n",
    "#     metric='std_crowd_density2_5',\n",
    "#     catogory='control_type',\n",
    "#     # title='Standard deviation of crowd density within 2.5 m',\n",
    "#     title='Standard deviation of crowd density',\n",
    "#     xlabel='',\n",
    "#     ylabel='Density [1/$m^2$]',\n",
    "#     ylim=[0.0, 0.20],\n",
    "#     kind='box',\n",
    "#     # group='goal_reached',\n",
    "#     # lgd_labels=['Not reached', 'Reached'],\n",
    "#     titlefontsz=10,\n",
    "# )\n",
    "categorical_plot(\n",
    "    axes=axes[2],\n",
    "    df=crowd_metrics_df,\n",
    "    metric='virtual_collision',\n",
    "    catogory='control_type',\n",
    "    title='Virtual collision with Qolo',\n",
    "    xlabel='',\n",
    "    ylabel='',\n",
    "    ylim=[-0.1, 40],\n",
    "    kind='box',\n",
    "    # group='goal_reached',\n",
    "    # lgd_labels=['Not reached', 'Reached'],\n",
    "    titlefontsz=10,\n",
    ")\n",
    "\n",
    "categorical_plot(\n",
    "    axes=axes[3],\n",
    "    df=crowd_metrics_df,\n",
    "    metric='avg_min_dist',\n",
    "    catogory='control_type',\n",
    "    # title='Min. distance of Pedestrain from qolo',\n",
    "    title='Min. distance',\n",
    "    xlabel='',\n",
    "    ylabel='Distance [m]',\n",
    "    ylim=[0.5, 2.0],\n",
    "    kind='box',\n",
    "    # group='goal_reached',\n",
    "    # lgd_labels=['Not reached', 'Reached'],\n",
    "    titlefontsz=10,\n",
    ")\n",
    "\n",
    "plt.savefig(\"./pdf/all_shared_control_crowd_nogrouped.pdf\", dpi=300)\n",
    "\n",
    "plt.show()"
   ]
  },
  {
   "cell_type": "code",
   "execution_count": null,
   "metadata": {},
   "outputs": [],
   "source": [
    "plt.close()"
   ]
  },
  {
   "cell_type": "markdown",
   "metadata": {},
   "source": [
    "#### Path Efficiency-related metrics"
   ]
  },
  {
   "cell_type": "code",
   "execution_count": null,
   "metadata": {},
   "outputs": [],
   "source": [
    "path_metrics_df = eval_res_df[['seq', 'control_type'] + list(path_metrics) + ['date']]"
   ]
  },
  {
   "cell_type": "markdown",
   "metadata": {},
   "source": [
    "- group by date"
   ]
  },
  {
   "cell_type": "code",
   "execution_count": null,
   "metadata": {
    "scrolled": true
   },
   "outputs": [],
   "source": [
    "path_fig, path_axes = plt.subplots(1, 2, figsize=(16, 5))\n",
    "\n",
    "categorical_plot(\n",
    "    axes=path_axes[0],\n",
    "    df=path_metrics_df,\n",
    "    metric='rel_duration2goal',\n",
    "    catogory='control_type',\n",
    "    title='Relative time to the goal',\n",
    "    xlabel='',\n",
    "    ylabel='',\n",
    "    ylim=[0.0, 1.0],\n",
    "    # lgd_labels=['Mar 25, 2021', 'Mar 27, 2021', 'Apr 10, 2021', 'Apr 24, 2021', 'Dec 03, 2021'],\n",
    "    lgd_labels=['Date 1', 'Date 2', 'Date 3', 'Date 4', 'Date 5'],\n",
    "    group='date',\n",
    "    loc='upper right',\n",
    "    kind='box',\n",
    ")\n",
    "\n",
    "categorical_plot(\n",
    "    axes=path_axes[1],\n",
    "    df=path_metrics_df,\n",
    "    metric='rel_path_length2goal',\n",
    "    catogory='control_type',\n",
    "    title='Relative path length to the goal',\n",
    "    xlabel='',\n",
    "    ylabel='',\n",
    "    ylim=[0.0, 3.0],\n",
    "    # lgd_labels=['Mar 25, 2021', 'Mar 27, 2021', 'Apr 10, 2021', 'Apr 24, 2021', 'Dec 03, 2021'],\n",
    "    lgd_labels=['Date 1', 'Date 2', 'Date 3', 'Date 4', 'Date 5'],\n",
    "    group='date',\n",
    "    loc='upper right',\n",
    "    kind='box',\n",
    ")\n",
    "\n",
    "plt.savefig(\"./pdf/all_shared_control_path_grouped.pdf\", dpi=300)\n",
    "\n",
    "plt.show()"
   ]
  },
  {
   "cell_type": "code",
   "execution_count": null,
   "metadata": {},
   "outputs": [],
   "source": [
    "plt.close()"
   ]
  },
  {
   "cell_type": "markdown",
   "metadata": {},
   "source": [
    "- without grouping by date"
   ]
  },
  {
   "cell_type": "code",
   "execution_count": null,
   "metadata": {},
   "outputs": [],
   "source": [
    "path_fig, path_axes = plt.subplots(1, 2, figsize=(8, 5))\n",
    "\n",
    "# plt.subplots_adjust(left=None, bottom=None, right=None, top=None, wspace=0.8, hspace=None)\n",
    "\n",
    "categorical_plot(\n",
    "    axes=path_axes[0],\n",
    "    df=path_metrics_df,\n",
    "    metric='rel_duration2goal',\n",
    "    catogory='control_type',\n",
    "    title='Relative time to the goal',\n",
    "    xlabel='',\n",
    "    ylabel='',\n",
    "    ylim=[0.0, 1.0],\n",
    "    # lgd_labels=['April 10, 2021', 'April 24, 2021'],\n",
    "    # group='date',\n",
    "    loc='upper right',\n",
    "    kind='box',\n",
    ")\n",
    "\n",
    "categorical_plot(\n",
    "    axes=path_axes[1],\n",
    "    df=path_metrics_df,\n",
    "    metric='rel_path_length2goal',\n",
    "    catogory='control_type',\n",
    "    title='Relative path length to the goal',\n",
    "    xlabel='',\n",
    "    ylabel='',\n",
    "    ylim=[0.0, 3.0],\n",
    "    # lgd_labels=['April 10, 2021', 'April 24, 2021'],\n",
    "    # group='date',\n",
    "    kind='box',\n",
    ")\n",
    "\n",
    "plt.savefig(\"./pdf/all_shared_control_path_nogrouped.pdf\", dpi=300)\n",
    "\n",
    "plt.show()"
   ]
  },
  {
   "cell_type": "code",
   "execution_count": null,
   "metadata": {},
   "outputs": [],
   "source": [
    "plt.close()"
   ]
  },
  {
   "cell_type": "markdown",
   "metadata": {},
   "source": [
    "#### Shared control metrics"
   ]
  },
  {
   "cell_type": "code",
   "execution_count": null,
   "metadata": {},
   "outputs": [],
   "source": [
    "control_metrics_df = eval_res_df[['seq', 'control_type'] + list(control_metrics) + ['date']]"
   ]
  },
  {
   "cell_type": "code",
   "execution_count": null,
   "metadata": {},
   "outputs": [],
   "source": [
    "print(\"# max value in each metrics\")\n",
    "print(control_metrics_df.max(numeric_only=True))\n",
    "print(\"# min value in each metrics\")\n",
    "print(control_metrics_df.min(numeric_only=True))"
   ]
  },
  {
   "cell_type": "markdown",
   "metadata": {},
   "source": [
    "- group by date"
   ]
  },
  {
   "cell_type": "code",
   "execution_count": null,
   "metadata": {},
   "outputs": [],
   "source": [
    "control_fig, control_axes = plt.subplots(2, 2, figsize=(16, 12))\n",
    "\n",
    "categorical_plot(\n",
    "    axes=control_axes[0,0],\n",
    "    df=control_metrics_df,\n",
    "    metric='avg_fluency',\n",
    "    catogory='control_type',\n",
    "    title='Average control fluency',\n",
    "    xlabel='',\n",
    "    ylabel='',\n",
    "    ylim=[0.90, 1.0],\n",
    "    # lgd_labels=['Mar 25, 2021', 'Mar 27, 2021', 'Apr 10, 2021', 'Apr 24, 2021', 'Dec 03, 2021'],\n",
    "    lgd_labels=['Date 1', 'Date 2', 'Date 3', 'Date 4', 'Date 5'],\n",
    "    group='date',\n",
    "    loc='upper right',\n",
    "    kind='box',\n",
    ")\n",
    "\n",
    "categorical_plot(\n",
    "    axes=control_axes[0,1],\n",
    "    df=control_metrics_df,\n",
    "    metric='rel_jerk',\n",
    "    catogory='control_type',\n",
    "    title='Relative jerk',\n",
    "    xlabel='',\n",
    "    ylabel='',\n",
    "    ylim=[0, 0.4],\n",
    "    # lgd_labels=['Mar 25, 2021', 'Mar 27, 2021', 'Apr 10, 2021', 'Apr 24, 2021', 'Dec 03, 2021'],\n",
    "    lgd_labels=['Date 1', 'Date 2', 'Date 3', 'Date 4', 'Date 5'],\n",
    "    group='date',\n",
    "    loc='upper right',\n",
    "    kind='box',\n",
    ")\n",
    "\n",
    "categorical_plot(\n",
    "    axes=control_axes[1,0],\n",
    "    df=control_metrics_df,\n",
    "    metric='contribution',\n",
    "    catogory='control_type',\n",
    "    title='Contribution',\n",
    "    xlabel='',\n",
    "    ylabel='',\n",
    "    ylim=[0.0, 1.25],\n",
    "    # lgd_labels=['Mar 25, 2021', 'Mar 27, 2021', 'Apr 10, 2021', 'Apr 24, 2021', 'Dec 03, 2021'],\n",
    "    lgd_labels=['Date 1', 'Date 2', 'Date 3', 'Date 4', 'Date 5'],\n",
    "    group='date',\n",
    "    loc='upper right',\n",
    "    kind='box',\n",
    ")\n",
    "\n",
    "categorical_plot(\n",
    "    axes=control_axes[1,1],\n",
    "    df=control_metrics_df,\n",
    "    metric='avg_agreement',\n",
    "    catogory='control_type',\n",
    "    title='Average agreement',\n",
    "    xlabel='',\n",
    "    ylabel='',\n",
    "    ylim=[0.60, 1.0],\n",
    "    # lgd_labels=['Mar 25, 2021', 'Mar 27, 2021', 'Apr 10, 2021', 'Apr 24, 2021', 'Dec 03, 2021'],\n",
    "    lgd_labels=['Date 1', 'Date 2', 'Date 3', 'Date 4', 'Date 5'],\n",
    "    group='date',\n",
    "    loc='upper right',\n",
    "    kind='box',\n",
    ")\n",
    "\n",
    "plt.savefig(\"./pdf/all_shared_control_perf_grouped.pdf\", dpi=300)\n",
    "\n",
    "plt.show()"
   ]
  },
  {
   "cell_type": "code",
   "execution_count": null,
   "metadata": {},
   "outputs": [],
   "source": [
    "plt.close()"
   ]
  },
  {
   "cell_type": "markdown",
   "metadata": {},
   "source": [
    "- without grouping by date"
   ]
  },
  {
   "cell_type": "code",
   "execution_count": null,
   "metadata": {},
   "outputs": [],
   "source": [
    "fig, axes = plt.subplots(1, 4, figsize=(16, 5))\n",
    "\n",
    "plt.subplots_adjust(left=None, bottom=None, right=None, top=None, wspace=0.8, hspace=None)\n",
    "\n",
    "categorical_plot(\n",
    "    axes=axes[0],\n",
    "    df=control_metrics_df,\n",
    "    metric='avg_fluency',\n",
    "    catogory='control_type',\n",
    "    title='Average control fluency',\n",
    "    xlabel='',\n",
    "    ylabel='Density [1/$m^2$]',\n",
    "    ylim=[0.90, 1.0],\n",
    "    kind='box',\n",
    "    # group='goal_reached',\n",
    "    # lgd_labels=['Not reached', 'Reached'],\n",
    "    titlefontsz=10,\n",
    ")\n",
    "categorical_plot(\n",
    "    axes=axes[1],\n",
    "    df=control_metrics_df,\n",
    "    metric='rel_jerk',\n",
    "    catogory='control_type',\n",
    "    title='Relative jerk',\n",
    "    xlabel='',\n",
    "    ylabel='Density [1/$m^2$]',\n",
    "    ylim=[0.0, 0.5],\n",
    "    kind='box',\n",
    "    # group='goal_reached',\n",
    "    # lgd_labels=['Not reached', 'Reached'],\n",
    "    titlefontsz=10,\n",
    ")\n",
    "\n",
    "categorical_plot(\n",
    "    axes=axes[2],\n",
    "    df=control_metrics_df,\n",
    "    metric='contribution',\n",
    "    catogory='control_type',\n",
    "    title='Contribution',\n",
    "    xlabel='',\n",
    "    ylabel='Density [1/$m^2$]',\n",
    "    ylim=[0.0, 1.25],\n",
    "    kind='box',\n",
    "    # group='goal_reached',\n",
    "    # lgd_labels=['Not reached', 'Reached'],\n",
    "    titlefontsz=10,\n",
    ")\n",
    "\n",
    "categorical_plot(\n",
    "    axes=axes[3],\n",
    "    df=control_metrics_df,\n",
    "    metric='avg_agreement',\n",
    "    catogory='control_type',\n",
    "    title='Average agreement',\n",
    "    xlabel='',\n",
    "    ylabel='Distance [m]',\n",
    "    ylim=[0.0, 1.0],\n",
    "    kind='box',\n",
    "    # group='goal_reached',\n",
    "    # lgd_labels=['Not reached', 'Reached'],\n",
    "    titlefontsz=10,\n",
    ")\n",
    "\n",
    "plt.savefig(\"./pdf/all_shared_control_perf_nogrouped.pdf\", dpi=300)\n",
    "\n",
    "plt.show()"
   ]
  },
  {
   "cell_type": "code",
   "execution_count": null,
   "metadata": {},
   "outputs": [],
   "source": [
    "plt.close()"
   ]
  },
  {
   "cell_type": "markdown",
   "metadata": {},
   "source": [
    "### Analysis given cluster"
   ]
  },
  {
   "cell_type": "markdown",
   "metadata": {},
   "source": [
    "> cluster the shared control tests by density of the crowd: Max_crowd_density: \n",
    "> \n",
    "> Perhaps (<0.35,  0.35 to 0.7,  >0.7)"
   ]
  },
  {
   "cell_type": "markdown",
   "metadata": {},
   "source": [
    "#### Cluster according to crowd density metrics"
   ]
  },
  {
   "cell_type": "code",
   "execution_count": null,
   "metadata": {
    "scrolled": false
   },
   "outputs": [],
   "source": [
    "# https://stackoverflow.com/a/64583481\n",
    "# https://datascience.stackexchange.com/a/53932\n",
    "from sklearn.cluster import KMeans\n",
    "\n",
    "# input feature: max_crowd_density2_5, avg_crowd_density2_5, std_crowd_density2_5\n",
    "shared_control_data_ = crowd_metrics_df[['max_crowd_density2_5', 'avg_crowd_density2_5','avg_crowd_density5']]\n",
    "                                        #, 'std_crowd_density2_5','max_crowd_density5']].values\n",
    "\n",
    "# normalize \n",
    "# sklearn.preprocessing.StandardScaler\n",
    " \n",
    "# Three cluster\n",
    "model = KMeans(n_clusters=3)\n",
    "model.fit(shared_control_data_)\n",
    "\n",
    "fig_cluster, axes_cluster = plt.subplots(figsize=(10, 8))\n",
    "\n",
    "# https://matplotlib.org/stable/tutorials/colors/colormaps.html#qualitative\n",
    "axes_cluster.scatter(\n",
    "    x='max_crowd_density2_5', \n",
    "    y='avg_crowd_density2_5', \n",
    "    s=100,\n",
    "    c=model.labels_, \n",
    "    data=crowd_metrics_df, \n",
    "    alpha=0.9,\n",
    "    cmap='spring',\n",
    "    edgecolors='black', # None black\n",
    "    linewidths=2,\n",
    "    )\n",
    "axes_cluster.set_xlabel(\"max_crowd_density2_5\")\n",
    "axes_cluster.set_ylabel(\"avg_crowd_density2_5\")\n",
    "\n",
    "plt.savefig(\"./pdf/cluster_shared_control.pdf\", dpi=300)\n",
    "\n",
    "plt.show()"
   ]
  },
  {
   "cell_type": "code",
   "execution_count": null,
   "metadata": {},
   "outputs": [],
   "source": [
    "plt.close()"
   ]
  },
  {
   "cell_type": "code",
   "execution_count": null,
   "metadata": {},
   "outputs": [],
   "source": [
    "model.labels_"
   ]
  },
  {
   "cell_type": "code",
   "execution_count": null,
   "metadata": {},
   "outputs": [],
   "source": [
    "# add date col\n",
    "cluster_label = model.labels_\n",
    "eval_res_df['cluster'] = cluster_label"
   ]
  },
  {
   "cell_type": "code",
   "execution_count": null,
   "metadata": {
    "scrolled": false
   },
   "outputs": [],
   "source": [
    "eval_res_df.tail()"
   ]
  },
  {
   "cell_type": "code",
   "execution_count": null,
   "metadata": {},
   "outputs": [],
   "source": [
    "eval_res_df_ = eval_res_df.sort_values('cluster', ascending=False)\n",
    "print(\"Shared_control sequence on different cluster\")\n",
    "print(eval_res_df['cluster'].value_counts())"
   ]
  },
  {
   "cell_type": "markdown",
   "metadata": {},
   "source": [
    "#### Mean-Std"
   ]
  },
  {
   "cell_type": "code",
   "execution_count": null,
   "metadata": {},
   "outputs": [],
   "source": [
    "frames_stat=[]\n",
    "for idx in [0, 1, 2]:\n",
    "    eval_res_df_ = eval_res_df[eval_res_df.cluster == idx]\n",
    "    stat_df = eval_res_df_.drop(['date', 'cluster'], axis=1).agg(['mean', 'std'])\n",
    "    stat_df.index = 'cluster{}_'.format(idx)+stat_df.index.values\n",
    "    frames_stat.append(stat_df)\n",
    "    \n",
    "stat_df_all_shared_cluster_stat = pd.concat(frames_stat) # , ignore_index=True\n",
    "stat_df_all_shared_cluster_stat.index.name = 'Metrics'\n",
    "stat_df_all_shared_cluster_stat"
   ]
  },
  {
   "cell_type": "markdown",
   "metadata": {},
   "source": [
    "#### ANOVA test"
   ]
  },
  {
   "cell_type": "code",
   "execution_count": null,
   "metadata": {},
   "outputs": [],
   "source": [
    "cluster0_anova_ = eval_res_df[eval_res_df.cluster==0]\n",
    "c0_metrics = cluster0_anova_[list(anova_metrics)].values\n",
    "\n",
    "cluster1_anova_ = eval_res_df[eval_res_df.cluster==1]\n",
    "c1_metrics = cluster1_anova_[list(anova_metrics)].values\n",
    "\n",
    "cluster2_anova_ = eval_res_df[eval_res_df.cluster==0]\n",
    "c2_metrics = cluster2_anova_[list(anova_metrics)].values"
   ]
  },
  {
   "cell_type": "code",
   "execution_count": null,
   "metadata": {},
   "outputs": [],
   "source": [
    "fvalue01, pvalue01 = stats.f_oneway(c0_metrics, c1_metrics)\n",
    "fvalue02, pvalue02 = stats.f_oneway(c0_metrics, c2_metrics)\n",
    "fvalue12, pvalue12 = stats.f_oneway(c1_metrics, c2_metrics)\n",
    "# total\n",
    "fvalue, pvalue = stats.f_oneway(c0_metrics, c1_metrics, c2_metrics)\n",
    "\n",
    "statP_df = pd.DataFrame(\n",
    "    data=np.vstack((pvalue01, pvalue02, pvalue12, pvalue)), \n",
    "    index=['c0-c1', 'c0-c2', 'c1-c2', 'total'],\n",
    ")\n",
    "statP_df.columns = list(anova_metrics)\n",
    "statP_df.index.name = 'Metrics'\n",
    "\n",
    "statF_df = pd.DataFrame(\n",
    "    data=np.vstack((fvalue01, fvalue02, fvalue12, fvalue)), \n",
    "    index=['c0-c1', 'c0-c2', 'c1-c2', 'total'],\n",
    ")\n",
    "statF_df.columns = list(anova_metrics)\n",
    "statF_df.index.name = 'Metrics'"
   ]
  },
  {
   "cell_type": "code",
   "execution_count": null,
   "metadata": {},
   "outputs": [],
   "source": [
    "statP_df"
   ]
  },
  {
   "cell_type": "code",
   "execution_count": null,
   "metadata": {},
   "outputs": [],
   "source": [
    "statF_df"
   ]
  },
  {
   "cell_type": "code",
   "execution_count": null,
   "metadata": {
    "scrolled": true
   },
   "outputs": [],
   "source": [
    "# print(statF_df.T.to_latex())\n",
    "# print(statP_df.T.to_latex())\n",
    "# print(stat_df_all_shared_cluster_stat.T.to_latex())"
   ]
  },
  {
   "cell_type": "markdown",
   "metadata": {},
   "source": [
    "#### Crowd-related metrics"
   ]
  },
  {
   "cell_type": "code",
   "execution_count": null,
   "metadata": {},
   "outputs": [],
   "source": [
    "crowd_metrics_df = eval_res_df[['seq', 'control_type'] + list(crowd_metrics) + ['cluster']]"
   ]
  },
  {
   "cell_type": "code",
   "execution_count": null,
   "metadata": {},
   "outputs": [],
   "source": [
    "crowd_metrics_df.head()"
   ]
  },
  {
   "cell_type": "markdown",
   "metadata": {},
   "source": [
    "- group by cluster"
   ]
  },
  {
   "cell_type": "code",
   "execution_count": null,
   "metadata": {
    "scrolled": false
   },
   "outputs": [],
   "source": [
    "fig, axes = plt.subplots(2, 2, figsize=(16, 12))\n",
    "\n",
    "categorical_plot(\n",
    "    axes=axes[0, 0],\n",
    "    df=crowd_metrics_df,\n",
    "    metric='avg_crowd_density2_5',\n",
    "    catogory='control_type',\n",
    "    # title='Mean crowd density within 2.5 m',\n",
    "    title='Mean crowd density',\n",
    "    xlabel='',\n",
    "    ylabel='Density [1/$m^2$]',\n",
    "    ylim=[0.00, 0.4],\n",
    "    kind='box',\n",
    "    lgd_labels=['Cluster 1', 'Cluster 2', 'Cluster 3'],\n",
    "    group='cluster',\n",
    "    titlefontsz=10,\n",
    ")\n",
    "categorical_plot(\n",
    "    axes=axes[0, 1],\n",
    "    df=crowd_metrics_df,\n",
    "    metric='max_crowd_density2_5',\n",
    "    catogory='control_type',\n",
    "    # title='Max crowd density within 2.5 m',\n",
    "    title='Max crowd density',\n",
    "    xlabel='',\n",
    "    ylabel='Density [1/$m^2$]',\n",
    "    ylim=[0.25, 1.0],\n",
    "    kind='box',\n",
    "    lgd_labels=['Cluster 1', 'Cluster 2', 'Cluster 3'],\n",
    "    group='cluster',\n",
    "    titlefontsz=10,\n",
    ")\n",
    "\n",
    "# categorical_plot(\n",
    "#     axes=axes[2],\n",
    "#     df=crowd_metrics_df,\n",
    "#     metric='std_crowd_density2_5',\n",
    "#     catogory='control_type',\n",
    "#     # title='Standard deviation of crowd density within 2.5 m',\n",
    "#     title='Standard deviation of crowd density',\n",
    "#     xlabel='',\n",
    "#     ylabel='Density [1/$m^2$]',\n",
    "#     ylim=[0.0, 0.20],\n",
    "#     kind='box',\n",
    "#     lgd_labels=['Mar 25, 2021', 'Apr 10, 2021', 'Apr 24, 2021', 'Dec 03, 2021'],\n",
    "#     group='date',\n",
    "#     titlefontsz=10,\n",
    "# )\n",
    "categorical_plot(\n",
    "    axes=axes[1, 0],\n",
    "    df=crowd_metrics_df,\n",
    "    metric='virtual_collision',\n",
    "    catogory='control_type',\n",
    "    title='Virtual collision with Qolo',\n",
    "    xlabel='',\n",
    "    ylabel='',\n",
    "    ylim=[-0.1, 40],\n",
    "    kind='box',\n",
    "    lgd_labels=['Cluster 1', 'Cluster 2', 'Cluster 3'],\n",
    "    group='cluster',\n",
    "    titlefontsz=10,\n",
    "    loc='upper left',\n",
    ")\n",
    "\n",
    "categorical_plot(\n",
    "    axes=axes[1, 1],\n",
    "    df=crowd_metrics_df,\n",
    "    metric='avg_min_dist',\n",
    "    catogory='control_type',\n",
    "    # title='Min. distance of Pedestrain from qolo',\n",
    "    title='Min. distance',\n",
    "    xlabel='',\n",
    "    ylabel='Distance [m]',\n",
    "    ylim=[0.5, 2.0],\n",
    "    kind='box',\n",
    "    lgd_labels=['Cluster 1', 'Cluster 2', 'Cluster 3'],\n",
    "    group='cluster',\n",
    "    titlefontsz=10,\n",
    "    loc='upper right',\n",
    ")\n",
    "\n",
    "plt.savefig(\"./pdf/all_shared_control_crowd_grouped_cluster.pdf\", dpi=300)\n",
    "\n",
    "plt.show()"
   ]
  },
  {
   "cell_type": "code",
   "execution_count": null,
   "metadata": {},
   "outputs": [],
   "source": [
    "plt.close()"
   ]
  },
  {
   "cell_type": "markdown",
   "metadata": {},
   "source": [
    "#### Path Efficiency-related metrics"
   ]
  },
  {
   "cell_type": "code",
   "execution_count": null,
   "metadata": {},
   "outputs": [],
   "source": [
    "path_metrics_df = eval_res_df[['seq', 'control_type'] + list(path_metrics) + ['cluster']]"
   ]
  },
  {
   "cell_type": "code",
   "execution_count": null,
   "metadata": {},
   "outputs": [],
   "source": [
    "path_fig, path_axes = plt.subplots(1, 2, figsize=(16, 5))\n",
    "\n",
    "categorical_plot(\n",
    "    axes=path_axes[0],\n",
    "    df=path_metrics_df,\n",
    "    metric='rel_duration2goal',\n",
    "    catogory='control_type',\n",
    "    title='Relative time to the goal',\n",
    "    xlabel='',\n",
    "    ylabel='',\n",
    "    ylim=[0.0, 1.0],\n",
    "    lgd_labels=['Cluster 1', 'Cluster 2', 'Cluster 3'],\n",
    "    group='cluster',\n",
    "    loc='upper right',\n",
    "    kind='box',\n",
    ")\n",
    "\n",
    "categorical_plot(\n",
    "    axes=path_axes[1],\n",
    "    df=path_metrics_df,\n",
    "    metric='rel_path_length2goal',\n",
    "    catogory='control_type',\n",
    "    title='Relative path length to the goal',\n",
    "    xlabel='',\n",
    "    ylabel='',\n",
    "    ylim=[0.0, 3.0],\n",
    "    lgd_labels=['Cluster 1', 'Cluster 2', 'Cluster 3'],\n",
    "    group='cluster',\n",
    "    loc='upper right',\n",
    "    kind='box',\n",
    ")\n",
    "\n",
    "plt.savefig(\"./pdf/all_shared_control_path_grouped_cluster.pdf\", dpi=300)\n",
    "\n",
    "plt.show()"
   ]
  },
  {
   "cell_type": "code",
   "execution_count": null,
   "metadata": {},
   "outputs": [],
   "source": [
    "plt.close()"
   ]
  },
  {
   "cell_type": "markdown",
   "metadata": {},
   "source": [
    "#### Shared control metrics"
   ]
  },
  {
   "cell_type": "code",
   "execution_count": null,
   "metadata": {},
   "outputs": [],
   "source": [
    "control_metrics_df = eval_res_df[['seq', 'control_type'] + list(control_metrics) + ['cluster']]"
   ]
  },
  {
   "cell_type": "code",
   "execution_count": null,
   "metadata": {},
   "outputs": [],
   "source": [
    "control_fig, control_axes = plt.subplots(2, 2, figsize=(16, 12))\n",
    "\n",
    "categorical_plot(\n",
    "    axes=control_axes[0,0],\n",
    "    df=control_metrics_df,\n",
    "    metric='avg_fluency',\n",
    "    catogory='control_type',\n",
    "    title='Average control fluency',\n",
    "    xlabel='',\n",
    "    ylabel='',\n",
    "    ylim=[0.90, 1.0],\n",
    "    lgd_labels=['Cluster 1', 'Cluster 2', 'Cluster 3'],\n",
    "    group='cluster',\n",
    "    loc='upper right',\n",
    "    kind='box',\n",
    ")\n",
    "\n",
    "categorical_plot(\n",
    "    axes=control_axes[0,1],\n",
    "    df=control_metrics_df,\n",
    "    metric='rel_jerk',\n",
    "    catogory='control_type',\n",
    "    title='Relative jerk',\n",
    "    xlabel='',\n",
    "    ylabel='',\n",
    "    ylim=[0, 0.4],\n",
    "    lgd_labels=['Cluster 1', 'Cluster 2', 'Cluster 3'],\n",
    "    group='cluster',\n",
    "    loc='upper right',\n",
    "    kind='box',\n",
    ")\n",
    "\n",
    "categorical_plot(\n",
    "    axes=control_axes[1,0],\n",
    "    df=control_metrics_df,\n",
    "    metric='contribution',\n",
    "    catogory='control_type',\n",
    "    title='Contribution',\n",
    "    xlabel='',\n",
    "    ylabel='',\n",
    "    ylim=[0.0, 1.25],\n",
    "    lgd_labels=['Cluster 1', 'Cluster 2', 'Cluster 3'],\n",
    "    group='cluster',\n",
    "    loc='upper right',\n",
    "    kind='box',\n",
    ")\n",
    "\n",
    "categorical_plot(\n",
    "    axes=control_axes[1,1],\n",
    "    df=control_metrics_df,\n",
    "    metric='avg_agreement',\n",
    "    catogory='control_type',\n",
    "    title='Average agreement',\n",
    "    xlabel='',\n",
    "    ylabel='',\n",
    "    ylim=[0.60, 1.0],\n",
    "    lgd_labels=['Cluster 1', 'Cluster 2', 'Cluster 3'],\n",
    "    group='cluster',\n",
    "    loc='upper right',\n",
    "    kind='box',\n",
    ")\n",
    "\n",
    "plt.savefig(\"./pdf/all_shared_control_perf_grouped_cluster.pdf\", dpi=300)\n",
    "\n",
    "plt.show()"
   ]
  },
  {
   "cell_type": "code",
   "execution_count": null,
   "metadata": {},
   "outputs": [],
   "source": [
    "plt.close()"
   ]
  },
  {
   "cell_type": "markdown",
   "metadata": {},
   "source": [
    "## one-way ANOVA test with different control methods"
   ]
  },
  {
   "cell_type": "code",
   "execution_count": null,
   "metadata": {},
   "outputs": [],
   "source": [
    "chosen_dates = ['0325', '0327', '0410', '0424', '1203']\n",
    "chosen_type = ['mds', 'rds', 'shared_control']\n",
    "\n",
    "eval_dirs = []\n",
    "\n",
    "for root, dirs, files in walk(outbase, topdown=False, maxdepth=1):\n",
    "    for dir_ in dirs:\n",
    "        if any(s in dir_ for s in chosen_dates) and any(s in dir_ for s in chosen_type):\n",
    "            dir_ = dir_.replace(\"_processed\", \"\")\n",
    "            eval_dirs.append(dir_)\n",
    "            print(\"{}/ is available!\".format(dir_))"
   ]
  },
  {
   "cell_type": "code",
   "execution_count": null,
   "metadata": {},
   "outputs": [],
   "source": [
    "eval_res_df = import_eval_res(eval_dirs)"
   ]
  },
  {
   "cell_type": "markdown",
   "metadata": {},
   "source": [
    "### Mean-Std statistics"
   ]
  },
  {
   "cell_type": "code",
   "execution_count": null,
   "metadata": {},
   "outputs": [],
   "source": [
    "for ctrl in chosen_type:\n",
    "    print(ctrl, \":\", len(eval_res_df[eval_res_df.control_type == ctrl]))\n",
    "\n",
    "frames_stat = []\n",
    "for ctrl in chosen_type:\n",
    "    eval_res_df_ = eval_res_df[eval_res_df.control_type == ctrl]\n",
    "    stat_df = eval_res_df_.drop(['date'], axis=1).agg(['mean', 'std'])\n",
    "    if ctrl == 'shared_control':\n",
    "        stat_df.index = 'sc_'+stat_df.index.values\n",
    "    else:\n",
    "        stat_df.index = ctrl+'_'+stat_df.index.values\n",
    "    frames_stat.append(stat_df)\n",
    "    \n",
    "stat_df_all = pd.concat(frames_stat) # , ignore_index=True\n",
    "stat_df_all.index.name = 'Metrics'\n",
    "stat_df_all"
   ]
  },
  {
   "cell_type": "markdown",
   "metadata": {},
   "source": [
    "### ANOVA test"
   ]
  },
  {
   "cell_type": "code",
   "execution_count": null,
   "metadata": {},
   "outputs": [],
   "source": [
    "anova_metrics = (\n",
    "    'rel_duration2goal',\n",
    "    'rel_path_length2goal',\n",
    "    'min_dist2goal',\n",
    "    'avg_fluency',\n",
    "    'contribution',\n",
    "    'avg_agreement',\n",
    "    'avg_crowd_density2_5',\n",
    "    'max_crowd_density2_5',\n",
    "    'avg_min_dist',\n",
    "    'rel_jerk',\n",
    "    'virtual_collision'\n",
    ")"
   ]
  },
  {
   "cell_type": "code",
   "execution_count": null,
   "metadata": {},
   "outputs": [],
   "source": [
    "mds_anova_ = eval_res_df[eval_res_df.control_type=='mds']\n",
    "mds_metrics = mds_anova_[list(anova_metrics)].values\n",
    "\n",
    "rds_anova_ = eval_res_df[eval_res_df.control_type=='rds']\n",
    "rds_metrics = rds_anova_[list(anova_metrics)].values\n",
    "\n",
    "shared_control_anova_ = eval_res_df[eval_res_df.control_type=='shared_control']\n",
    "shared_control_metrics = shared_control_anova_[list(anova_metrics)].values"
   ]
  },
  {
   "cell_type": "code",
   "execution_count": null,
   "metadata": {},
   "outputs": [],
   "source": [
    "fvalue12, pvalue12 = stats.f_oneway(mds_metrics, rds_metrics)\n",
    "fvalue23, pvalue23 = stats.f_oneway(mds_metrics, shared_control_metrics)\n",
    "fvalue13, pvalue13 = stats.f_oneway(rds_metrics, shared_control_metrics)\n",
    "# total\n",
    "fvalue, pvalue = stats.f_oneway(mds_metrics, rds_metrics, shared_control_metrics)\n",
    "\n",
    "statP_df = pd.DataFrame(\n",
    "    data=np.vstack((pvalue12, pvalue23, pvalue13, pvalue)), \n",
    "    index=['mds-rds', 'mds-shared', 'rds-shared', 'total'],\n",
    ")\n",
    "statP_df.columns = list(anova_metrics)\n",
    "statP_df.index.name = 'Metrics'\n",
    "\n",
    "statF_df = pd.DataFrame(\n",
    "    data=np.vstack((fvalue12, fvalue23, fvalue13, fvalue)), \n",
    "    index=['mds-rds', 'mds-shared', 'rds-shared', 'total'],\n",
    ")\n",
    "statF_df.columns = list(anova_metrics)\n",
    "statF_df.index.name = 'Metrics'"
   ]
  },
  {
   "cell_type": "code",
   "execution_count": null,
   "metadata": {},
   "outputs": [],
   "source": [
    "statP_df"
   ]
  },
  {
   "cell_type": "code",
   "execution_count": null,
   "metadata": {},
   "outputs": [],
   "source": [
    "statF_df"
   ]
  },
  {
   "cell_type": "code",
   "execution_count": null,
   "metadata": {},
   "outputs": [],
   "source": [
    "# print(statF_df.T.to_latex())\n",
    "# print(statP_df.T.to_latex())\n",
    "# print(stat_df_all.T.to_latex())"
   ]
  },
  {
   "cell_type": "code",
   "execution_count": null,
   "metadata": {},
   "outputs": [],
   "source": []
  }
 ],
 "metadata": {
  "interpreter": {
   "hash": "4c6b102e5d13e1fecd509d7afca2a015b7aa951d14e261cb21795c62f51c11cb"
  },
  "kernelspec": {
   "display_name": "Python 3 (ipykernel)",
   "language": "python",
   "name": "python3"
  },
  "language_info": {
   "codemirror_mode": {
    "name": "ipython",
    "version": 3
   },
   "file_extension": ".py",
   "mimetype": "text/x-python",
   "name": "python",
   "nbconvert_exporter": "python",
   "pygments_lexer": "ipython3",
   "version": "3.8.12"
  },
  "toc": {
   "base_numbering": 1,
   "nav_menu": {},
   "number_sections": true,
   "sideBar": true,
   "skip_h1_title": true,
   "title_cell": "Table of Contents",
   "title_sidebar": "Contents",
   "toc_cell": true,
   "toc_position": {
    "height": "calc(100% - 180px)",
    "left": "10px",
    "top": "150px",
    "width": "275.183px"
   },
   "toc_section_display": true,
   "toc_window_display": true
  }
 },
 "nbformat": 4,
 "nbformat_minor": 4
}
